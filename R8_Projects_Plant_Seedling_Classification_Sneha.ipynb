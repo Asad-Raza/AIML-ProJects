{
  "nbformat": 4,
  "nbformat_minor": 0,
  "metadata": {
    "colab": {
      "name": "R8_Projects_Plant_Seedling_Classification_Jitendra.ipynb",
      "provenance": [],
      "collapsed_sections": []
    },
    "kernelspec": {
      "name": "python3",
      "display_name": "Python 3"
    },
    "accelerator": "GPU"
  },
  "cells": [
    {
      "cell_type": "markdown",
      "metadata": {
        "id": "CNUOWz1JHkVn",
        "colab_type": "text"
      },
      "source": [
        "## Project Goal:\n",
        "\n",
        "1. Read the images and generate the train and test dataset (5 points)\n",
        "2. Divide the data set into Train and validation data sets\n",
        "3. Initialize & build the model (20 points)\n",
        "4. Optimize the model (12 points)\n",
        "5. Predict the accuracy for both train and validation data (10 points)\n",
        "5. Use transfer learning method and build a model ( 10 points)\n",
        "6. Compare the results of above models (3 marks)"
      ]
    },
    {
      "cell_type": "code",
      "metadata": {
        "id": "BHjoAQXpyvuX",
        "colab_type": "code",
        "colab": {}
      },
      "source": [
        ""
      ],
      "execution_count": 0,
      "outputs": []
    },
    {
      "cell_type": "code",
      "metadata": {
        "id": "5E5ojBA9y1ne",
        "colab_type": "code",
        "outputId": "21e76259-b39e-4c16-c501-3cabe65ea6f0",
        "colab": {
          "base_uri": "https://localhost:8080/",
          "height": 122
        }
      },
      "source": [
        "from google.colab import drive\n",
        "drive.mount('/content/drive')"
      ],
      "execution_count": 0,
      "outputs": [
        {
          "output_type": "stream",
          "text": [
            "Go to this URL in a browser: https://accounts.google.com/o/oauth2/auth?client_id=947318989803-6bn6qk8qdgf4n4g3pfee6491hc0brc4i.apps.googleusercontent.com&redirect_uri=urn%3Aietf%3Awg%3Aoauth%3A2.0%3Aoob&scope=email%20https%3A%2F%2Fwww.googleapis.com%2Fauth%2Fdocs.test%20https%3A%2F%2Fwww.googleapis.com%2Fauth%2Fdrive%20https%3A%2F%2Fwww.googleapis.com%2Fauth%2Fdrive.photos.readonly%20https%3A%2F%2Fwww.googleapis.com%2Fauth%2Fpeopleapi.readonly&response_type=code\n",
            "\n",
            "Enter your authorization code:\n",
            "··········\n",
            "Mounted at /content/drive\n"
          ],
          "name": "stdout"
        }
      ]
    },
    {
      "cell_type": "code",
      "metadata": {
        "id": "nlB0KCEfzQxz",
        "colab_type": "code",
        "colab": {}
      },
      "source": [
        "root_path = 'drive/My Drive/Projects/CNN'  #change dir to your project folder"
      ],
      "execution_count": 0,
      "outputs": []
    },
    {
      "cell_type": "code",
      "metadata": {
        "id": "ep2bxbxAGY4q",
        "colab_type": "code",
        "outputId": "0d28d568-100a-403b-ce11-e061f0d493d8",
        "colab": {
          "base_uri": "https://localhost:8080/",
          "height": 34
        }
      },
      "source": [
        "root_path"
      ],
      "execution_count": 0,
      "outputs": [
        {
          "output_type": "execute_result",
          "data": {
            "text/plain": [
              "'drive/My Drive/Projects/CNN'"
            ]
          },
          "metadata": {
            "tags": []
          },
          "execution_count": 4
        }
      ]
    },
    {
      "cell_type": "code",
      "metadata": {
        "id": "S_UnYpOk0Td1",
        "colab_type": "code",
        "outputId": "b1bad0fc-9c15-4d94-b499-53d051b330a8",
        "colab": {
          "resources": {
            "http://localhost:8080/nbextensions/google.colab/files.js": {
              "data": "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",
              "ok": true,
              "headers": [
                [
                  "content-type",
                  "application/javascript"
                ]
              ],
              "status": 200,
              "status_text": ""
            }
          },
          "base_uri": "https://localhost:8080/",
          "height": 91
        }
      },
      "source": [
        "from google.colab import files\n",
        "files.upload() #this will prompt you to update the json\n",
        "\n",
        "!pip install -q kaggle\n",
        "!mkdir -p ~/.kaggle\n",
        "!cp kaggle.json ~/.kaggle/\n",
        "!ls ~/.kaggle\n",
        "!chmod 600 /root/.kaggle/kaggle.json  # set permission"
      ],
      "execution_count": 0,
      "outputs": [
        {
          "output_type": "display_data",
          "data": {
            "text/html": [
              "\n",
              "     <input type=\"file\" id=\"files-0cbc057f-80b6-430f-a6f4-5bd57483e12d\" name=\"files[]\" multiple disabled />\n",
              "     <output id=\"result-0cbc057f-80b6-430f-a6f4-5bd57483e12d\">\n",
              "      Upload widget is only available when the cell has been executed in the\n",
              "      current browser session. Please rerun this cell to enable.\n",
              "      </output>\n",
              "      <script src=\"/nbextensions/google.colab/files.js\"></script> "
            ],
            "text/plain": [
              "<IPython.core.display.HTML object>"
            ]
          },
          "metadata": {
            "tags": []
          }
        },
        {
          "output_type": "stream",
          "text": [
            "Saving kaggle.json to kaggle.json\n",
            "kaggle.json\n"
          ],
          "name": "stdout"
        }
      ]
    },
    {
      "cell_type": "code",
      "metadata": {
        "id": "o6IW_5hDAODS",
        "colab_type": "code",
        "outputId": "c801cc16-ed69-4f78-be34-0ce2a8dd9240",
        "colab": {
          "base_uri": "https://localhost:8080/",
          "height": 799
        }
      },
      "source": [
        "#List datasets and competitions\n",
        "!kaggle datasets list\n",
        "!kaggle competitions list"
      ],
      "execution_count": 0,
      "outputs": [
        {
          "output_type": "stream",
          "text": [
            "Warning: Looks like you're using an outdated API Version, please consider updating (server 1.5.6 / client 1.5.4)\n",
            "ref                                                      title                                               size  lastUpdated          downloadCount  \n",
            "-------------------------------------------------------  -------------------------------------------------  -----  -------------------  -------------  \n",
            "tristan581/17k-apple-app-store-strategy-games            17K Mobile Strategy Games                            8MB  2019-08-26 08:22:16          10205  \n",
            "gustavomodelli/forest-fires-in-brazil                    Forest Fires in Brazil                              31KB  2019-08-24 16:09:16          11232  \n",
            "akhilv11/border-crossing-entry-data                      Border Crossing Entry Data                           4MB  2019-08-21 14:51:34           4817  \n",
            "rajeevw/ufcdata                                          UFC-Fight historical data from 1993 to 2019          3MB  2019-07-05 09:58:02           5775  \n",
            "shuyangli94/food-com-recipes-and-user-interactions       Food.com Recipes and Interactions                  267MB  2019-10-12 06:30:37           3254  \n",
            "chirin/africa-economic-banking-and-systemic-crisis-data  Africa Economic, Banking and Systemic Crisis Data   14KB  2019-07-21 02:00:17           3635  \n",
            "ruslankl/european-union-lgbt-survey-2012                 EU LGBT Survey                                     610KB  2019-07-19 11:15:25           1579  \n",
            "kapilverma/hindi-bible                                   Hindi Bible                                          5MB  2019-09-07 18:04:35            318  \n",
            "hmavrodiev/sofia-air-quality-dataset                     Sofia air quality dataset                            3GB  2019-09-14 05:48:09           1282  \n",
            "brkurzawa/us-breweries                                   US Breweries                                        76KB  2019-10-02 03:15:27           1605  \n",
            "jojoker/singapore-airbnb                                 Singapore Airbnb                                   350KB  2019-09-25 22:05:44           1927  \n",
            "srikantsahu/co2-and-ghg-emission-data                    CO2 and GHG emission data                           91KB  2019-09-26 20:10:59           1541  \n",
            "pascalbliem/european-social-survey-ess-8-ed21-201617     European Social Survey (ESS) 8 ed2.1 (2016/17)      10MB  2019-09-29 07:30:37            573  \n",
            "grikomsn/amazon-cell-phones-reviews                      Amazon Cell Phones Reviews                          10MB  2019-09-29 02:26:48           2190  \n",
            "irinachuchueva/russian-wholesale-electricity-market      Russian Wholesale Electricity Market                 1MB  2019-10-09 08:20:57            544  \n",
            "smid80/canadian-federal-election-results-timeseries      Canadian Federal Election Results (Timeseries)      18MB  2019-10-09 11:08:29            574  \n",
            "nitinsss/military-expenditure-of-countries-19602019      Military Spending of Countries (1960-2019)          55KB  2019-10-10 12:17:37           2521  \n",
            "mabusalah/brent-oil-prices                               Brent Oil Prices                                    38KB  2019-10-14 12:31:05           1399  \n",
            "hmavrodiev/london-bike-sharing-dataset                   London bike sharing dataset                        165KB  2019-10-10 12:49:37           2690  \n",
            "valentynsichkar/traffic-signs-preprocessed               Traffic Signs Preprocessed                            0B  2019-08-31 18:22:11           1200  \n",
            "Warning: Looks like you're using an outdated API Version, please consider updating (server 1.5.6 / client 1.5.4)\n",
            "ref                                            deadline             category            reward  teamCount  userHasEntered  \n",
            "---------------------------------------------  -------------------  ---------------  ---------  ---------  --------------  \n",
            "digit-recognizer                               2030-01-01 00:00:00  Getting Started  Knowledge       2462           False  \n",
            "titanic                                        2030-01-01 00:00:00  Getting Started  Knowledge      13658           False  \n",
            "house-prices-advanced-regression-techniques    2030-01-01 00:00:00  Getting Started  Knowledge       4948           False  \n",
            "imagenet-object-localization-challenge         2029-12-31 07:00:00  Research         Knowledge         56           False  \n",
            "tensorflow2-question-answering                 2020-01-22 23:59:00  Featured           $50,000        280           False  \n",
            "data-science-bowl-2019                         2020-01-22 23:59:00  Featured          $160,000        533           False  \n",
            "pku-autonomous-driving                         2020-01-21 23:59:00  Featured           $25,000        127           False  \n",
            "competitive-data-science-predict-future-sales  2019-12-31 23:59:00  Playground           Kudos       4697           False  \n",
            "ashrae-energy-prediction                       2019-12-19 23:59:00  Featured           $25,000       1583           False  \n",
            "Kannada-MNIST                                  2019-12-17 23:59:00  Playground       Knowledge        618           False  \n",
            "bigquery-geotab-intersection-congestion        2019-12-12 23:59:00  Playground           Kudos        335           False  \n",
            "cat-in-the-dat                                 2019-12-09 23:59:00  Playground            Swag        996           False  \n",
            "nfl-big-data-bowl-2020                         2019-11-27 23:59:00  Featured           $75,000       1267           False  \n",
            "understanding_cloud_organization               2019-11-18 23:59:00  Research           $10,000       1274           False  \n",
            "3d-object-detection-for-autonomous-vehicles    2019-11-12 23:59:00  Featured           $25,000        496           False  \n",
            "rsna-intracranial-hemorrhage-detection         2019-11-11 23:59:00  Featured           $25,000       1336           False  \n",
            "severstal-steel-defect-detection               2019-10-24 23:59:00  Featured          $120,000       2434           False  \n",
            "kuzushiji-recognition                          2019-10-14 23:59:00  Playground         $15,000        293           False  \n",
            "youtube8m-2019                                 2019-10-11 23:59:00  Research           $25,000        283           False  \n",
            "ieee-fraud-detection                           2019-10-03 23:59:00  Research           $20,000       6381           False  \n"
          ],
          "name": "stdout"
        }
      ]
    },
    {
      "cell_type": "code",
      "metadata": {
        "id": "EGHR5TUrIJg1",
        "colab_type": "code",
        "outputId": "f87eecc2-27d1-435e-d56c-d9aa06d022be",
        "colab": {
          "base_uri": "https://localhost:8080/",
          "height": 238
        }
      },
      "source": [
        "#Search for datasets and competitions by name\n",
        "!kaggle datasets list -s plant-seed\n",
        "!kaggle competitions list -s plant-seedlings-classification"
      ],
      "execution_count": 0,
      "outputs": [
        {
          "output_type": "stream",
          "text": [
            "Warning: Looks like you're using an outdated API Version, please consider updating (server 1.5.6 / client 1.5.4)\n",
            "ref                                    title                           size  lastUpdated          downloadCount  \n",
            "-------------------------------------  -----------------------------  -----  -------------------  -------------  \n",
            "vbookshelf/v2-plant-seedlings-dataset  V2 Plant Seedlings Dataset       3GB  2018-12-13 14:20:52           3591  \n",
            "sushanthd/plantseedlings               plant-seedlings                  5GB  2019-07-29 05:49:01              8  \n",
            "heitao/plantseed                       plant-seed                       4KB  2019-08-16 23:29:30              3  \n",
            "xalphahelix/plant-seedling-models      Plant Seedling Models            9MB  2018-03-25 11:02:18             31  \n",
            "mehradaria/plantseedling               Plant Seedling Classification   51MB  2018-07-04 11:19:02             39  \n",
            "santoshd3/crop-price-prediction        Crop Price Prediction          168KB  2019-07-31 19:24:18            244  \n",
            "Warning: Looks like you're using an outdated API Version, please consider updating (server 1.5.6 / client 1.5.4)\n",
            "ref                             deadline             category    reward  teamCount  userHasEntered  \n",
            "------------------------------  -------------------  ----------  ------  ---------  --------------  \n",
            "plant-seedlings-classification  2018-03-12 23:59:00  Playground   Kudos        834            True  \n"
          ],
          "name": "stdout"
        }
      ]
    },
    {
      "cell_type": "markdown",
      "metadata": {
        "id": "0hbmb7Rxjqhn",
        "colab_type": "text"
      },
      "source": [
        "## Download the images and generate the train and test dataset"
      ]
    },
    {
      "cell_type": "code",
      "metadata": {
        "id": "73oE72J01qDD",
        "colab_type": "code",
        "outputId": "6bea812f-0831-4f5c-a80d-53e02cf10192",
        "colab": {
          "base_uri": "https://localhost:8080/",
          "height": 187
        }
      },
      "source": [
        "#Download required dataset / competition files to a folder of your choice\n",
        "!kaggle competitions download -c plant-seedlings-classification -p /content/drive/My\\ Drive/Projects/CNN\n"
      ],
      "execution_count": 0,
      "outputs": [
        {
          "output_type": "stream",
          "text": [
            "Warning: Looks like you're using an outdated API Version, please consider updating (server 1.5.6 / client 1.5.4)\n",
            "Downloading sample_submission.csv.zip to /content/drive/My Drive/Projects/CNN\n",
            "\r  0% 0.00/5.13k [00:00<?, ?B/s]\n",
            "\r100% 5.13k/5.13k [00:00<00:00, 696kB/s]\n",
            "Downloading test.zip to /content/drive/My Drive/Projects/CNN\n",
            " 94% 81.0M/86.0M [00:02<00:00, 27.4MB/s]\n",
            "100% 86.0M/86.0M [00:02<00:00, 39.7MB/s]\n",
            "Downloading train.zip to /content/drive/My Drive/Projects/CNN\n",
            "100% 1.59G/1.60G [00:36<00:00, 36.5MB/s]\n",
            "100% 1.60G/1.60G [00:36<00:00, 46.6MB/s]\n"
          ],
          "name": "stdout"
        }
      ]
    },
    {
      "cell_type": "code",
      "metadata": {
        "id": "KfmqGOrTIwY9",
        "colab_type": "code",
        "outputId": "eab25810-2a8a-463a-a01f-61901565ff59",
        "colab": {
          "base_uri": "https://localhost:8080/",
          "height": 85
        }
      },
      "source": [
        "import os\n",
        "os.chdir('/content/drive/My Drive/Projects/CNN')  #change dir\n",
        "#!mkdir train  #create a directory named train/\n",
        "#!mkdir test  #create a directory named test/\n",
        "!unzip -q train.zip #-d train/  #unzip data in train/\n",
        "!unzip -q test.zip #-d test/  #unzip data in test/\n",
        "!unzip sample_submission.csv.zip\n"
      ],
      "execution_count": 0,
      "outputs": [
        {
          "output_type": "stream",
          "text": [
            "replace train/Fat Hen/5bdfa3a44.png? [y]es, [n]o, [A]ll, [N]one, [r]ename: N\n",
            "replace test/c0461776c.png? [y]es, [n]o, [A]ll, [N]one, [r]ename: N\n",
            "Archive:  sample_submission.csv.zip\n",
            "replace sample_submission.csv? [y]es, [n]o, [A]ll, [N]one, [r]ename: N\n"
          ],
          "name": "stdout"
        }
      ]
    },
    {
      "cell_type": "code",
      "metadata": {
        "id": "_6g7MUex4eyq",
        "colab_type": "code",
        "colab": {}
      },
      "source": [
        "import random\n",
        "random.seed(0)\n",
        "\n",
        "import warnings\n",
        "warnings.filterwarnings('ignore')\n",
        "\n",
        "import numpy as np\n",
        "import pandas as pd\n",
        "import matplotlib.pyplot as plt\n",
        "%matplotlib inline"
      ],
      "execution_count": 0,
      "outputs": []
    },
    {
      "cell_type": "code",
      "metadata": {
        "id": "BmNezm874GDD",
        "colab_type": "code",
        "outputId": "55fc487e-758b-45f7-9e9d-931b80dd0fd6",
        "colab": {
          "base_uri": "https://localhost:8080/",
          "height": 80
        }
      },
      "source": [
        "from __future__ import print_function\n",
        "import keras\n",
        "from keras.backend import backend\n",
        "from keras.preprocessing.image import ImageDataGenerator,array_to_img, img_to_array, load_img\n",
        "from keras import optimizers\n",
        "from keras.models import Sequential\n",
        "from keras.layers import Dense, Dropout, Activation, Flatten\n",
        "from keras.layers import Conv2D, MaxPooling2D\n",
        "from sklearn.model_selection import train_test_split\n",
        "import numpy as np\n",
        "import random\n",
        "import os\n",
        "import sys\n",
        "import cv2\n",
        "from keras.utils import to_categorical\n",
        "from subprocess import check_output\n",
        "from keras.models import load_model\n",
        "import matplotlib\n",
        "import glob"
      ],
      "execution_count": 0,
      "outputs": [
        {
          "output_type": "stream",
          "text": [
            "Using TensorFlow backend.\n"
          ],
          "name": "stderr"
        },
        {
          "output_type": "display_data",
          "data": {
            "text/html": [
              "<p style=\"color: red;\">\n",
              "The default version of TensorFlow in Colab will soon switch to TensorFlow 2.x.<br>\n",
              "We recommend you <a href=\"https://www.tensorflow.org/guide/migrate\" target=\"_blank\">upgrade</a> now \n",
              "or ensure your notebook will continue to use TensorFlow 1.x via the <code>%tensorflow_version 1.x</code> magic:\n",
              "<a href=\"https://colab.research.google.com/notebooks/tensorflow_version.ipynb\" target=\"_blank\">more info</a>.</p>\n"
            ],
            "text/plain": [
              "<IPython.core.display.HTML object>"
            ]
          },
          "metadata": {
            "tags": []
          }
        }
      ]
    },
    {
      "cell_type": "code",
      "metadata": {
        "id": "RS5eXlL8vpi5",
        "colab_type": "code",
        "colab": {}
      },
      "source": [
        "# create generator\n",
        "datagen = ImageDataGenerator()"
      ],
      "execution_count": 0,
      "outputs": []
    },
    {
      "cell_type": "code",
      "metadata": {
        "id": "6PT6eIPkhQyy",
        "colab_type": "code",
        "outputId": "1a7c89e7-4a84-47f0-f704-5d8b1e2446c0",
        "colab": {
          "base_uri": "https://localhost:8080/",
          "height": 51
        }
      },
      "source": [
        "# prepare an iterators for each dataset\n",
        "train_it = datagen.flow_from_directory('/content/drive/My Drive/Projects/CNN/train', class_mode='categorical')\n",
        "#val_it = datagen.flow_from_directory('/content/drive/My Drive/Projects/CNN/train', class_mode='categorical')\n",
        "#test_it = datagen.flow_from_directory('/content/drive/My Drive/Projects/CNN/test')\n",
        "# confirm the iterator works\n",
        "batchX, batchy = train_it.next()\n",
        "print('Batch shape=%s, min=%.3f, max=%.3f' % (batchX.shape, batchX.min(), batchX.max()))"
      ],
      "execution_count": 0,
      "outputs": [
        {
          "output_type": "stream",
          "text": [
            "Found 4750 images belonging to 12 classes.\n",
            "Batch shape=(32, 256, 256, 3), min=0.000, max=240.000\n"
          ],
          "name": "stdout"
        }
      ]
    },
    {
      "cell_type": "markdown",
      "metadata": {
        "id": "t8HxmcKzj4ug",
        "colab_type": "text"
      },
      "source": [
        "## Divide the data set into Train and validation data sets"
      ]
    },
    {
      "cell_type": "code",
      "metadata": {
        "id": "usGoGx_KhQrW",
        "colab_type": "code",
        "outputId": "0b5f19c7-ebd3-47b6-f29a-5fd6b6d34d03",
        "colab": {
          "base_uri": "https://localhost:8080/",
          "height": 51
        }
      },
      "source": [
        "train_datagen = ImageDataGenerator(rescale=1./255,\n",
        "    shear_range=0.2,\n",
        "    zoom_range=0.2,\n",
        "    horizontal_flip=True,\n",
        "    vertical_flip=True,\n",
        "    rotation_range=360.,\n",
        "    width_shift_range=.5,\n",
        "    height_shift_range=.5,\n",
        "    brightness_range=[.5,1],\n",
        "    validation_split=0.2) # set validation split\n",
        "\n",
        "train_generator = train_datagen.flow_from_directory(\n",
        "    '/content/drive/My Drive/Projects/CNN/train',\n",
        "    target_size=(256, 256),\n",
        "    batch_size=32,\n",
        "    class_mode='categorical',\n",
        "    subset='training') # set as training data\n",
        "\n",
        "\n",
        "validation_generator = train_datagen.flow_from_directory(\n",
        "    '/content/drive/My Drive/Projects/CNN/train', # same directory as training data\n",
        "    target_size=(256, 256),\n",
        "    batch_size=32,\n",
        "    class_mode='categorical',\n",
        "    subset='validation') # set as validation data\n",
        "\n",
        "\n",
        "test_datagen = ImageDataGenerator(rescale=1./255)\n"
      ],
      "execution_count": 0,
      "outputs": [
        {
          "output_type": "stream",
          "text": [
            "Found 3803 images belonging to 12 classes.\n",
            "Found 947 images belonging to 12 classes.\n"
          ],
          "name": "stdout"
        }
      ]
    },
    {
      "cell_type": "markdown",
      "metadata": {
        "id": "egKEasp5kRfo",
        "colab_type": "text"
      },
      "source": [
        "## Initialize & build the model "
      ]
    },
    {
      "cell_type": "code",
      "metadata": {
        "id": "Yq_JpVw443or",
        "colab_type": "code",
        "colab": {}
      },
      "source": [
        "batch_size = 32\n",
        "num_classes = 12\n",
        "epochs = 20\n",
        "data_augmentation = True\n",
        "#num_predictions = 20\n",
        "input_shape = (256,256,3)"
      ],
      "execution_count": 0,
      "outputs": []
    },
    {
      "cell_type": "code",
      "metadata": {
        "id": "KNKdtoeX4KvB",
        "colab_type": "code",
        "outputId": "eee3f5f9-78bd-4b59-fbdd-8c6deac954a6",
        "colab": {
          "base_uri": "https://localhost:8080/",
          "height": 258
        }
      },
      "source": [
        "#Build the initial model\n",
        "\n",
        "#Initialize the model\n",
        "model = Sequential()\n",
        "\n",
        "#Add a Convolutional Layer with 32 filters of size 3X3 and activation function as 'ReLU' \n",
        "model.add(Conv2D(128, kernel_size=(3, 3),padding='same',\n",
        "                 activation='relu',\n",
        "                 input_shape=input_shape,name='conv_1'))\n",
        "\n",
        "#Add a Convolutional Layer with 64 filters of size 3X3 and activation function as 'ReLU' \n",
        "model.add(Conv2D(256, (3, 3), activation='relu',name='conv_2'))\n",
        "\n",
        "#Add a MaxPooling Layer of size 2X2 \n",
        "model.add(MaxPooling2D(pool_size=(2, 2),name='max_1'))\n",
        "\n",
        "#Apply Dropout with 0.2 probability \n",
        "model.add(Dropout(0.2,name='drop_1'))\n",
        "\n",
        "\n",
        "model.add(Conv2D(64, (3, 3), padding='same', activation='relu',name='conv_3'))\n",
        "model.add(MaxPooling2D(pool_size=(2, 2),name='max_2'))\n",
        "model.add(Dropout(0.2,name='drop_2'))\n",
        "\n",
        "#Flatten the layer\n",
        "model.add(Flatten()) #feature map\n",
        "\n",
        "#Add Fully Connected Layer with 128 units and activation function as 'ReLU'\n",
        "model.add(Dense(64, activation='relu',name='dense_1'))\n",
        "\n",
        "#Apply Dropout with 0.2 probability \n",
        "model.add(Dropout(0.2,name='drop_3'))\n",
        "\n",
        "#Add Fully Connected Layer with 5 units and activation function as 'softmax'\n",
        "model.add(Dense(num_classes, activation='softmax',name='dense_2'))"
      ],
      "execution_count": 0,
      "outputs": [
        {
          "output_type": "stream",
          "text": [
            "WARNING:tensorflow:From /usr/local/lib/python3.6/dist-packages/keras/backend/tensorflow_backend.py:66: The name tf.get_default_graph is deprecated. Please use tf.compat.v1.get_default_graph instead.\n",
            "\n",
            "WARNING:tensorflow:From /usr/local/lib/python3.6/dist-packages/keras/backend/tensorflow_backend.py:541: The name tf.placeholder is deprecated. Please use tf.compat.v1.placeholder instead.\n",
            "\n",
            "WARNING:tensorflow:From /usr/local/lib/python3.6/dist-packages/keras/backend/tensorflow_backend.py:4432: The name tf.random_uniform is deprecated. Please use tf.random.uniform instead.\n",
            "\n",
            "WARNING:tensorflow:From /usr/local/lib/python3.6/dist-packages/keras/backend/tensorflow_backend.py:4267: The name tf.nn.max_pool is deprecated. Please use tf.nn.max_pool2d instead.\n",
            "\n",
            "WARNING:tensorflow:From /usr/local/lib/python3.6/dist-packages/keras/backend/tensorflow_backend.py:148: The name tf.placeholder_with_default is deprecated. Please use tf.compat.v1.placeholder_with_default instead.\n",
            "\n",
            "WARNING:tensorflow:From /usr/local/lib/python3.6/dist-packages/keras/backend/tensorflow_backend.py:3733: calling dropout (from tensorflow.python.ops.nn_ops) with keep_prob is deprecated and will be removed in a future version.\n",
            "Instructions for updating:\n",
            "Please use `rate` instead of `keep_prob`. Rate should be set to `rate = 1 - keep_prob`.\n"
          ],
          "name": "stdout"
        }
      ]
    },
    {
      "cell_type": "code",
      "metadata": {
        "id": "CLE-fFjp5Hpj",
        "colab_type": "code",
        "outputId": "c23f3244-62b1-461d-e369-2741d643d5c8",
        "colab": {
          "base_uri": "https://localhost:8080/",
          "height": 527
        }
      },
      "source": [
        "#Generate model summary\n",
        "\n",
        "model.summary() "
      ],
      "execution_count": 0,
      "outputs": [
        {
          "output_type": "stream",
          "text": [
            "Model: \"sequential_1\"\n",
            "_________________________________________________________________\n",
            "Layer (type)                 Output Shape              Param #   \n",
            "=================================================================\n",
            "conv_1 (Conv2D)              (None, 256, 256, 128)     3584      \n",
            "_________________________________________________________________\n",
            "conv_2 (Conv2D)              (None, 254, 254, 256)     295168    \n",
            "_________________________________________________________________\n",
            "max_1 (MaxPooling2D)         (None, 127, 127, 256)     0         \n",
            "_________________________________________________________________\n",
            "drop_1 (Dropout)             (None, 127, 127, 256)     0         \n",
            "_________________________________________________________________\n",
            "conv_3 (Conv2D)              (None, 127, 127, 64)      147520    \n",
            "_________________________________________________________________\n",
            "max_2 (MaxPooling2D)         (None, 63, 63, 64)        0         \n",
            "_________________________________________________________________\n",
            "drop_2 (Dropout)             (None, 63, 63, 64)        0         \n",
            "_________________________________________________________________\n",
            "flatten_1 (Flatten)          (None, 254016)            0         \n",
            "_________________________________________________________________\n",
            "dense_1 (Dense)              (None, 64)                16257088  \n",
            "_________________________________________________________________\n",
            "drop_3 (Dropout)             (None, 64)                0         \n",
            "_________________________________________________________________\n",
            "dense_2 (Dense)              (None, 12)                780       \n",
            "=================================================================\n",
            "Total params: 16,704,140\n",
            "Trainable params: 16,704,140\n",
            "Non-trainable params: 0\n",
            "_________________________________________________________________\n"
          ],
          "name": "stdout"
        }
      ]
    },
    {
      "cell_type": "code",
      "metadata": {
        "id": "xYuCIv3L5Qtz",
        "colab_type": "code",
        "colab": {}
      },
      "source": [
        "model.compile(optimizer='adam', \n",
        "              loss='categorical_crossentropy', \n",
        "              metrics=['accuracy'])\n"
      ],
      "execution_count": 0,
      "outputs": []
    },
    {
      "cell_type": "code",
      "metadata": {
        "id": "UH5SKlYQCvkX",
        "colab_type": "code",
        "outputId": "d9b8a286-3cc3-456f-84cd-cfba70044c38",
        "colab": {
          "base_uri": "https://localhost:8080/",
          "height": 1000
        }
      },
      "source": [
        "model.fit_generator(\n",
        "    train_generator,\n",
        "    steps_per_epoch = train_generator.samples // batch_size,\n",
        "    validation_data = validation_generator, \n",
        "    validation_steps = validation_generator.samples // batch_size,\n",
        "    epochs = 30)\n"
      ],
      "execution_count": 0,
      "outputs": [
        {
          "output_type": "stream",
          "text": [
            "Epoch 1/30\n",
            "118/118 [==============================] - 294s 2s/step - loss: 2.5526 - acc: 0.1264 - val_loss: 2.4265 - val_acc: 0.1088\n",
            "Epoch 2/30\n",
            "118/118 [==============================] - 268s 2s/step - loss: 2.3407 - acc: 0.1942 - val_loss: 2.1500 - val_acc: 0.2820\n",
            "Epoch 3/30\n",
            "118/118 [==============================] - 265s 2s/step - loss: 2.1556 - acc: 0.2567 - val_loss: 2.0829 - val_acc: 0.2743\n",
            "Epoch 4/30\n",
            "118/118 [==============================] - 264s 2s/step - loss: 2.1093 - acc: 0.2672 - val_loss: 2.0579 - val_acc: 0.2798\n",
            "Epoch 5/30\n",
            "118/118 [==============================] - 264s 2s/step - loss: 2.0722 - acc: 0.2731 - val_loss: 1.9992 - val_acc: 0.2874\n",
            "Epoch 6/30\n",
            "118/118 [==============================] - 262s 2s/step - loss: 2.0407 - acc: 0.2811 - val_loss: 1.9872 - val_acc: 0.3071\n",
            "Epoch 7/30\n",
            "118/118 [==============================] - 262s 2s/step - loss: 2.0328 - acc: 0.2770 - val_loss: 1.9967 - val_acc: 0.2984\n",
            "Epoch 8/30\n",
            "118/118 [==============================] - 262s 2s/step - loss: 1.9958 - acc: 0.2906 - val_loss: 1.9565 - val_acc: 0.3104\n",
            "Epoch 9/30\n",
            "118/118 [==============================] - 261s 2s/step - loss: 1.9781 - acc: 0.2997 - val_loss: 1.9203 - val_acc: 0.3158\n",
            "Epoch 10/30\n",
            "118/118 [==============================] - 261s 2s/step - loss: 1.9859 - acc: 0.3015 - val_loss: 1.9130 - val_acc: 0.3399\n",
            "Epoch 11/30\n",
            "118/118 [==============================] - 259s 2s/step - loss: 1.9398 - acc: 0.3194 - val_loss: 1.9222 - val_acc: 0.3355\n",
            "Epoch 12/30\n",
            "118/118 [==============================] - 259s 2s/step - loss: 1.9248 - acc: 0.3208 - val_loss: 1.8476 - val_acc: 0.3792\n",
            "Epoch 13/30\n",
            "118/118 [==============================] - 258s 2s/step - loss: 1.9005 - acc: 0.3204 - val_loss: 1.8162 - val_acc: 0.3443\n",
            "Epoch 14/30\n",
            "118/118 [==============================] - 259s 2s/step - loss: 1.8704 - acc: 0.3528 - val_loss: 1.7524 - val_acc: 0.3934\n",
            "Epoch 15/30\n",
            "118/118 [==============================] - 258s 2s/step - loss: 1.8345 - acc: 0.3563 - val_loss: 1.7646 - val_acc: 0.3836\n",
            "Epoch 16/30\n",
            "118/118 [==============================] - 260s 2s/step - loss: 1.7598 - acc: 0.3775 - val_loss: 1.6923 - val_acc: 0.4098\n",
            "Epoch 17/30\n",
            "118/118 [==============================] - 257s 2s/step - loss: 1.7537 - acc: 0.3685 - val_loss: 1.6639 - val_acc: 0.4033\n",
            "Epoch 18/30\n",
            "118/118 [==============================] - 256s 2s/step - loss: 1.7232 - acc: 0.3861 - val_loss: 1.7127 - val_acc: 0.4055\n",
            "Epoch 19/30\n",
            "118/118 [==============================] - 256s 2s/step - loss: 1.7122 - acc: 0.3916 - val_loss: 1.5929 - val_acc: 0.4645\n",
            "Epoch 20/30\n",
            "118/118 [==============================] - 256s 2s/step - loss: 1.6428 - acc: 0.4115 - val_loss: 1.6023 - val_acc: 0.4557\n",
            "Epoch 21/30\n",
            "118/118 [==============================] - 255s 2s/step - loss: 1.6339 - acc: 0.4297 - val_loss: 1.5854 - val_acc: 0.4525\n",
            "Epoch 22/30\n",
            "118/118 [==============================] - 254s 2s/step - loss: 1.5898 - acc: 0.4453 - val_loss: 1.5247 - val_acc: 0.4940\n",
            "Epoch 23/30\n",
            "118/118 [==============================] - 255s 2s/step - loss: 1.5948 - acc: 0.4375 - val_loss: 1.5053 - val_acc: 0.4874\n",
            "Epoch 24/30\n",
            "118/118 [==============================] - 255s 2s/step - loss: 1.5615 - acc: 0.4464 - val_loss: 1.4310 - val_acc: 0.5290\n",
            "Epoch 25/30\n",
            "118/118 [==============================] - 255s 2s/step - loss: 1.5541 - acc: 0.4719 - val_loss: 1.4022 - val_acc: 0.5246\n",
            "Epoch 26/30\n",
            "118/118 [==============================] - 254s 2s/step - loss: 1.5189 - acc: 0.4732 - val_loss: 1.4446 - val_acc: 0.5301\n",
            "Epoch 27/30\n",
            "118/118 [==============================] - 254s 2s/step - loss: 1.5071 - acc: 0.4819 - val_loss: 1.4636 - val_acc: 0.5191\n",
            "Epoch 28/30\n",
            "118/118 [==============================] - 255s 2s/step - loss: 1.4618 - acc: 0.4966 - val_loss: 1.4837 - val_acc: 0.5049\n",
            "Epoch 29/30\n",
            "118/118 [==============================] - 254s 2s/step - loss: 1.4898 - acc: 0.4791 - val_loss: 1.3753 - val_acc: 0.5377\n",
            "Epoch 30/30\n",
            "118/118 [==============================] - 254s 2s/step - loss: 1.4576 - acc: 0.4992 - val_loss: 1.3507 - val_acc: 0.5432\n"
          ],
          "name": "stdout"
        },
        {
          "output_type": "execute_result",
          "data": {
            "text/plain": [
              "<keras.callbacks.History at 0x7fabfbdc8278>"
            ]
          },
          "metadata": {
            "tags": []
          },
          "execution_count": 76
        }
      ]
    },
    {
      "cell_type": "code",
      "metadata": {
        "id": "39ROuWmMhQnp",
        "colab_type": "code",
        "outputId": "b308dbfc-689d-441c-c01d-1ea561dbf41b",
        "colab": {
          "base_uri": "https://localhost:8080/",
          "height": 34
        }
      },
      "source": [
        "# evaluate model\n",
        "score = model.evaluate_generator(validation_generator, steps=50)\n",
        "score"
      ],
      "execution_count": 0,
      "outputs": [
        {
          "output_type": "execute_result",
          "data": {
            "text/plain": [
              "[1.359437965565533, 0.5589161940393166]"
            ]
          },
          "metadata": {
            "tags": []
          },
          "execution_count": 78
        }
      ]
    },
    {
      "cell_type": "code",
      "metadata": {
        "id": "QhIozdgkkoR7",
        "colab_type": "code",
        "outputId": "25138abd-1b91-4702-bff8-8e00cce2dc60",
        "colab": {
          "base_uri": "https://localhost:8080/",
          "height": 34
        }
      },
      "source": [
        "# evaluate model\n",
        "score = model.evaluate_generator(train_generator, steps=50)\n",
        "score"
      ],
      "execution_count": 0,
      "outputs": [
        {
          "output_type": "execute_result",
          "data": {
            "text/plain": [
              "[1.2951933693885804, 0.5725]"
            ]
          },
          "metadata": {
            "tags": []
          },
          "execution_count": 79
        }
      ]
    },
    {
      "cell_type": "markdown",
      "metadata": {
        "id": "UjmFuTK9ktDp",
        "colab_type": "text"
      },
      "source": [
        "## Optimize the model"
      ]
    },
    {
      "cell_type": "code",
      "metadata": {
        "id": "Irie_zZQIoDe",
        "colab_type": "code",
        "outputId": "a209cf98-376b-4924-cf01-b94f007ee6b7",
        "colab": {
          "base_uri": "https://localhost:8080/",
          "height": 819
        }
      },
      "source": [
        "batch_size = 16\n",
        "num_classes = 12\n",
        "epochs = 20\n",
        "data_augmentation = True\n",
        "#num_predictions = 20\n",
        "input_shape = (150,150,3)\n",
        "\n",
        "#Build the model\n",
        "\n",
        "#Initialize the model\n",
        "model2 = Sequential()\n",
        "\n",
        "#Add a Convolutional Layer with 32 filters of size 3X3 and activation function as 'ReLU' \n",
        "model2.add(Conv2D(64, kernel_size=(3, 3),padding='same',\n",
        "                 activation='relu',\n",
        "                 input_shape=input_shape,name='conv_1'))\n",
        "\n",
        "#Add a Convolutional Layer with 64 filters of size 3X3 and activation function as 'ReLU' \n",
        "model2.add(Conv2D(64, (3, 3), activation='relu',name='conv_2'))\n",
        "\n",
        "#Add a MaxPooling Layer of size 2X2 \n",
        "model2.add(MaxPooling2D(pool_size=(3, 3),strides=(2,2),name='max_1'))\n",
        "\n",
        "#Apply Dropout with 0.2 probability \n",
        "model2.add(Dropout(0.2,name='drop_1'))\n",
        "\n",
        "\n",
        "model2.add(Conv2D(128, (3, 3), padding='same', activation='relu',name='conv_3'))\n",
        "model2.add(Conv2D(128, (3, 3), padding='same', activation='relu',name='conv_4'))\n",
        "model2.add(MaxPooling2D(pool_size=(3, 3),strides=(2,2),name='max_2'))\n",
        "model2.add(Dropout(0.2,name='drop_2'))\n",
        "\n",
        "\n",
        "model2.add(Conv2D(256, (3, 3), padding='same', activation='relu',name='conv_5'))\n",
        "model2.add(Conv2D(256, (3, 3), padding='same', activation='relu',name='conv_6'))\n",
        "model2.add(MaxPooling2D(pool_size=(3, 3),strides=(2,2),name='max_3'))\n",
        "model2.add(Dropout(0.2,name='drop_3'))\n",
        "\n",
        "#Flatten the layer\n",
        "model2.add(Flatten()) #feature map\n",
        "\n",
        "#Add Fully Connected Layer with 128 units and activation function as 'ReLU'\n",
        "model2.add(Dense(128, activation='relu',name='dense_1'))\n",
        "\n",
        "#Apply Dropout with 0.2 probability \n",
        "model2.add(Dropout(0.2,name='drop_4'))\n",
        "\n",
        "\n",
        "#Add Fully Connected Layer with 128 units and activation function as 'ReLU'\n",
        "model2.add(Dense(64, activation='relu',name='dense_2'))\n",
        "\n",
        "#Add Fully Connected Layer with 5 units and activation function as 'softmax'\n",
        "model2.add(Dense(num_classes, activation='softmax',name='dense_3'))\n",
        "\n",
        "#Generate model summary\n",
        "model2.summary() \n",
        "\n",
        "#opt = optimizers.SGD(lr=0.01, decay=1e-6, momentum=0.9, nesterov=True)\n",
        "#opt = optimizers.Adam(lr=0.001, beta_1=0.9, beta_2=0.999, amsgrad=False)\n",
        "opt = optimizers.Adamax(lr=0.002, beta_1=0.9, beta_2=0.999)\n",
        "#opt = optimizers.RMSprop(lr=0.001, rho=0.9)\n",
        "#opt = optimizers.Adagrad(lr=0.01)\n",
        "#opt = optimizers.Adadelta(lr=1.0, rho=0.95)\n",
        "#opt = optimizers.Nadam(lr=0.002, beta_1=0.9, beta_2=0.999)\n",
        "model2.compile(optimizer=opt,\n",
        "              loss='categorical_crossentropy', \n",
        "              metrics=['accuracy'])\n"
      ],
      "execution_count": 0,
      "outputs": [
        {
          "output_type": "stream",
          "text": [
            "Model: \"sequential_1\"\n",
            "_________________________________________________________________\n",
            "Layer (type)                 Output Shape              Param #   \n",
            "=================================================================\n",
            "conv_1 (Conv2D)              (None, 150, 150, 64)      1792      \n",
            "_________________________________________________________________\n",
            "conv_2 (Conv2D)              (None, 148, 148, 64)      36928     \n",
            "_________________________________________________________________\n",
            "max_1 (MaxPooling2D)         (None, 73, 73, 64)        0         \n",
            "_________________________________________________________________\n",
            "drop_1 (Dropout)             (None, 73, 73, 64)        0         \n",
            "_________________________________________________________________\n",
            "conv_3 (Conv2D)              (None, 73, 73, 128)       73856     \n",
            "_________________________________________________________________\n",
            "conv_4 (Conv2D)              (None, 73, 73, 128)       147584    \n",
            "_________________________________________________________________\n",
            "max_2 (MaxPooling2D)         (None, 36, 36, 128)       0         \n",
            "_________________________________________________________________\n",
            "drop_2 (Dropout)             (None, 36, 36, 128)       0         \n",
            "_________________________________________________________________\n",
            "conv_5 (Conv2D)              (None, 36, 36, 256)       295168    \n",
            "_________________________________________________________________\n",
            "conv_6 (Conv2D)              (None, 36, 36, 256)       590080    \n",
            "_________________________________________________________________\n",
            "max_3 (MaxPooling2D)         (None, 17, 17, 256)       0         \n",
            "_________________________________________________________________\n",
            "drop_3 (Dropout)             (None, 17, 17, 256)       0         \n",
            "_________________________________________________________________\n",
            "flatten_1 (Flatten)          (None, 73984)             0         \n",
            "_________________________________________________________________\n",
            "dense_1 (Dense)              (None, 128)               9470080   \n",
            "_________________________________________________________________\n",
            "drop_4 (Dropout)             (None, 128)               0         \n",
            "_________________________________________________________________\n",
            "dense_2 (Dense)              (None, 64)                8256      \n",
            "_________________________________________________________________\n",
            "dense_3 (Dense)              (None, 12)                780       \n",
            "=================================================================\n",
            "Total params: 10,624,524\n",
            "Trainable params: 10,624,524\n",
            "Non-trainable params: 0\n",
            "_________________________________________________________________\n",
            "WARNING:tensorflow:From /usr/local/lib/python3.6/dist-packages/keras/optimizers.py:793: The name tf.train.Optimizer is deprecated. Please use tf.compat.v1.train.Optimizer instead.\n",
            "\n",
            "WARNING:tensorflow:From /usr/local/lib/python3.6/dist-packages/keras/backend/tensorflow_backend.py:3576: The name tf.log is deprecated. Please use tf.math.log instead.\n",
            "\n"
          ],
          "name": "stdout"
        }
      ]
    },
    {
      "cell_type": "code",
      "metadata": {
        "id": "uDepSfRbI7nX",
        "colab_type": "code",
        "outputId": "493dcd43-705c-4dec-ad2d-d0abc013b926",
        "colab": {
          "base_uri": "https://localhost:8080/",
          "height": 51
        }
      },
      "source": [
        "train_datagen = ImageDataGenerator(rescale=1./255,\n",
        "    shear_range=0.2,\n",
        "    zoom_range=0.2,\n",
        "    horizontal_flip=True,\n",
        "    vertical_flip=True,\n",
        "    rotation_range=30.,\n",
        "    width_shift_range=.2,\n",
        "    height_shift_range=.2,\n",
        "    brightness_range=[.5,1],\n",
        "    validation_split=0.2) # set validation split\n",
        "\n",
        "train_generator = train_datagen.flow_from_directory(\n",
        "    '/content/drive/My Drive/Projects/CNN/train',\n",
        "    target_size=(150, 150),\n",
        "    batch_size=batch_size,\n",
        "    class_mode='categorical',\n",
        "    subset='training') # set as training data\n",
        "\n",
        "\n",
        "validation_generator = train_datagen.flow_from_directory(\n",
        "    '/content/drive/My Drive/Projects/CNN/train', # same directory as training data\n",
        "    target_size=(150, 150),\n",
        "    batch_size=batch_size,\n",
        "    class_mode='categorical',\n",
        "    subset='validation') # set as validation data\n",
        "\n",
        "\n",
        "test_datagen = ImageDataGenerator(rescale=1./255)\n",
        "\n",
        "\n"
      ],
      "execution_count": 0,
      "outputs": [
        {
          "output_type": "stream",
          "text": [
            "Found 3803 images belonging to 12 classes.\n",
            "Found 947 images belonging to 12 classes.\n"
          ],
          "name": "stdout"
        }
      ]
    },
    {
      "cell_type": "code",
      "metadata": {
        "id": "A8NDfLoyNul-",
        "colab_type": "code",
        "outputId": "0061bb61-5217-453d-a0f7-3bea4daf9762",
        "colab": {
          "base_uri": "https://localhost:8080/",
          "height": 1000
        }
      },
      "source": [
        "model2.fit_generator(\n",
        "    train_generator,\n",
        "    steps_per_epoch = train_generator.samples // batch_size,\n",
        "    validation_data = validation_generator, \n",
        "    validation_steps = validation_generator.samples // batch_size,\n",
        "    epochs = 100)\n"
      ],
      "execution_count": 0,
      "outputs": [
        {
          "output_type": "stream",
          "text": [
            "WARNING:tensorflow:From /usr/local/lib/python3.6/dist-packages/tensorflow_core/python/ops/math_grad.py:1424: where (from tensorflow.python.ops.array_ops) is deprecated and will be removed in a future version.\n",
            "Instructions for updating:\n",
            "Use tf.where in 2.0, which has the same broadcast rule as np.where\n",
            "WARNING:tensorflow:From /usr/local/lib/python3.6/dist-packages/keras/backend/tensorflow_backend.py:1033: The name tf.assign_add is deprecated. Please use tf.compat.v1.assign_add instead.\n",
            "\n",
            "WARNING:tensorflow:From /usr/local/lib/python3.6/dist-packages/keras/backend/tensorflow_backend.py:1020: The name tf.assign is deprecated. Please use tf.compat.v1.assign instead.\n",
            "\n",
            "WARNING:tensorflow:From /usr/local/lib/python3.6/dist-packages/keras/backend/tensorflow_backend.py:3005: The name tf.Session is deprecated. Please use tf.compat.v1.Session instead.\n",
            "\n",
            "Epoch 1/100\n",
            "WARNING:tensorflow:From /usr/local/lib/python3.6/dist-packages/keras/backend/tensorflow_backend.py:190: The name tf.get_default_session is deprecated. Please use tf.compat.v1.get_default_session instead.\n",
            "\n",
            "WARNING:tensorflow:From /usr/local/lib/python3.6/dist-packages/keras/backend/tensorflow_backend.py:197: The name tf.ConfigProto is deprecated. Please use tf.compat.v1.ConfigProto instead.\n",
            "\n",
            "WARNING:tensorflow:From /usr/local/lib/python3.6/dist-packages/keras/backend/tensorflow_backend.py:207: The name tf.global_variables is deprecated. Please use tf.compat.v1.global_variables instead.\n",
            "\n",
            "WARNING:tensorflow:From /usr/local/lib/python3.6/dist-packages/keras/backend/tensorflow_backend.py:216: The name tf.is_variable_initialized is deprecated. Please use tf.compat.v1.is_variable_initialized instead.\n",
            "\n",
            "WARNING:tensorflow:From /usr/local/lib/python3.6/dist-packages/keras/backend/tensorflow_backend.py:223: The name tf.variables_initializer is deprecated. Please use tf.compat.v1.variables_initializer instead.\n",
            "\n",
            "237/237 [==============================] - 1894s 8s/step - loss: 2.4919 - acc: 0.1305 - val_loss: 2.4190 - val_acc: 0.1292\n",
            "Epoch 2/100\n",
            "237/237 [==============================] - 95s 400ms/step - loss: 2.2761 - acc: 0.2237 - val_loss: 2.0077 - val_acc: 0.3136\n",
            "Epoch 3/100\n",
            "237/237 [==============================] - 94s 399ms/step - loss: 1.9687 - acc: 0.3102 - val_loss: 1.8395 - val_acc: 0.3598\n",
            "Epoch 4/100\n",
            "237/237 [==============================] - 94s 398ms/step - loss: 1.8457 - acc: 0.3450 - val_loss: 1.7713 - val_acc: 0.3985\n",
            "Epoch 5/100\n",
            "237/237 [==============================] - 94s 398ms/step - loss: 1.7260 - acc: 0.3868 - val_loss: 1.6707 - val_acc: 0.4017\n",
            "Epoch 6/100\n",
            "237/237 [==============================] - 93s 394ms/step - loss: 1.6421 - acc: 0.4192 - val_loss: 1.4497 - val_acc: 0.5113\n",
            "Epoch 7/100\n",
            "237/237 [==============================] - 93s 393ms/step - loss: 1.4784 - acc: 0.4808 - val_loss: 1.4389 - val_acc: 0.4962\n",
            "Epoch 8/100\n",
            "237/237 [==============================] - 93s 393ms/step - loss: 1.3791 - acc: 0.5121 - val_loss: 1.2433 - val_acc: 0.5757\n",
            "Epoch 9/100\n",
            "237/237 [==============================] - 93s 391ms/step - loss: 1.3047 - acc: 0.5521 - val_loss: 1.2048 - val_acc: 0.5875\n",
            "Epoch 10/100\n",
            "237/237 [==============================] - 92s 389ms/step - loss: 1.2596 - acc: 0.5641 - val_loss: 1.2748 - val_acc: 0.5682\n",
            "Epoch 11/100\n",
            "237/237 [==============================] - 92s 389ms/step - loss: 1.1728 - acc: 0.6057 - val_loss: 1.0392 - val_acc: 0.6412\n",
            "Epoch 12/100\n",
            "237/237 [==============================] - 91s 385ms/step - loss: 1.0591 - acc: 0.6328 - val_loss: 0.9448 - val_acc: 0.6799\n",
            "Epoch 13/100\n",
            "237/237 [==============================] - 91s 384ms/step - loss: 1.0173 - acc: 0.6496 - val_loss: 0.8107 - val_acc: 0.7240\n",
            "Epoch 14/100\n",
            "237/237 [==============================] - 91s 383ms/step - loss: 0.9437 - acc: 0.6745 - val_loss: 0.8053 - val_acc: 0.7261\n",
            "Epoch 15/100\n",
            "237/237 [==============================] - 92s 387ms/step - loss: 0.8850 - acc: 0.7078 - val_loss: 0.7553 - val_acc: 0.7540\n",
            "Epoch 16/100\n",
            "237/237 [==============================] - 92s 386ms/step - loss: 0.8793 - acc: 0.6951 - val_loss: 0.7095 - val_acc: 0.7680\n",
            "Epoch 17/100\n",
            "237/237 [==============================] - 92s 386ms/step - loss: 0.8257 - acc: 0.7241 - val_loss: 0.6440 - val_acc: 0.7863\n",
            "Epoch 18/100\n",
            "237/237 [==============================] - 92s 389ms/step - loss: 0.7874 - acc: 0.7318 - val_loss: 0.6342 - val_acc: 0.7820\n",
            "Epoch 19/100\n",
            "237/237 [==============================] - 90s 380ms/step - loss: 0.7367 - acc: 0.7466 - val_loss: 0.7280 - val_acc: 0.7798\n",
            "Epoch 20/100\n",
            "237/237 [==============================] - 92s 389ms/step - loss: 0.6912 - acc: 0.7627 - val_loss: 0.6064 - val_acc: 0.7991\n",
            "Epoch 21/100\n",
            "237/237 [==============================] - 92s 388ms/step - loss: 0.6913 - acc: 0.7553 - val_loss: 0.5668 - val_acc: 0.8067\n",
            "Epoch 22/100\n",
            "237/237 [==============================] - 91s 385ms/step - loss: 0.6769 - acc: 0.7741 - val_loss: 0.6375 - val_acc: 0.7959\n",
            "Epoch 23/100\n",
            "237/237 [==============================] - 91s 385ms/step - loss: 0.6596 - acc: 0.7763 - val_loss: 0.6274 - val_acc: 0.7852\n",
            "Epoch 24/100\n",
            "237/237 [==============================] - 91s 383ms/step - loss: 0.6189 - acc: 0.7826 - val_loss: 0.5514 - val_acc: 0.8195\n",
            "Epoch 25/100\n",
            "237/237 [==============================] - 92s 387ms/step - loss: 0.6260 - acc: 0.7798 - val_loss: 0.4819 - val_acc: 0.8443\n",
            "Epoch 26/100\n",
            "237/237 [==============================] - 91s 384ms/step - loss: 0.5815 - acc: 0.7990 - val_loss: 0.5192 - val_acc: 0.8443\n",
            "Epoch 27/100\n",
            "237/237 [==============================] - 92s 390ms/step - loss: 0.5705 - acc: 0.8008 - val_loss: 0.5038 - val_acc: 0.8443\n",
            "Epoch 28/100\n",
            "237/237 [==============================] - 91s 386ms/step - loss: 0.5363 - acc: 0.8076 - val_loss: 0.5135 - val_acc: 0.8357\n",
            "Epoch 29/100\n",
            "237/237 [==============================] - 91s 386ms/step - loss: 0.5564 - acc: 0.8081 - val_loss: 0.4420 - val_acc: 0.8571\n",
            "Epoch 30/100\n",
            "237/237 [==============================] - 93s 390ms/step - loss: 0.5004 - acc: 0.8269 - val_loss: 0.4141 - val_acc: 0.8464\n",
            "Epoch 31/100\n",
            "237/237 [==============================] - 91s 386ms/step - loss: 0.5173 - acc: 0.8191 - val_loss: 0.4574 - val_acc: 0.8528\n",
            "Epoch 32/100\n",
            "237/237 [==============================] - 93s 392ms/step - loss: 0.4845 - acc: 0.8285 - val_loss: 0.4702 - val_acc: 0.8443\n",
            "Epoch 33/100\n",
            "237/237 [==============================] - 92s 387ms/step - loss: 0.4789 - acc: 0.8246 - val_loss: 0.4106 - val_acc: 0.8507\n",
            "Epoch 34/100\n",
            "237/237 [==============================] - 91s 386ms/step - loss: 0.4898 - acc: 0.8299 - val_loss: 0.4111 - val_acc: 0.8657\n",
            "Epoch 35/100\n",
            "237/237 [==============================] - 91s 386ms/step - loss: 0.4320 - acc: 0.8473 - val_loss: 0.4168 - val_acc: 0.8571\n",
            "Epoch 36/100\n",
            "237/237 [==============================] - 92s 386ms/step - loss: 0.4509 - acc: 0.8378 - val_loss: 0.3782 - val_acc: 0.8679\n",
            "Epoch 37/100\n",
            "237/237 [==============================] - 91s 386ms/step - loss: 0.4233 - acc: 0.8563 - val_loss: 0.4063 - val_acc: 0.8904\n",
            "Epoch 38/100\n",
            "237/237 [==============================] - 93s 393ms/step - loss: 0.4226 - acc: 0.8386 - val_loss: 0.3678 - val_acc: 0.8808\n",
            "Epoch 39/100\n",
            "237/237 [==============================] - 92s 388ms/step - loss: 0.4006 - acc: 0.8534 - val_loss: 0.3710 - val_acc: 0.8786\n",
            "Epoch 40/100\n",
            "237/237 [==============================] - 91s 385ms/step - loss: 0.3910 - acc: 0.8600 - val_loss: 0.3500 - val_acc: 0.8733\n",
            "Epoch 41/100\n",
            "237/237 [==============================] - 91s 384ms/step - loss: 0.4056 - acc: 0.8522 - val_loss: 0.4327 - val_acc: 0.8861\n",
            "Epoch 42/100\n",
            "237/237 [==============================] - 92s 390ms/step - loss: 0.3931 - acc: 0.8606 - val_loss: 0.2682 - val_acc: 0.9001\n",
            "Epoch 43/100\n",
            "237/237 [==============================] - 91s 386ms/step - loss: 0.3638 - acc: 0.8721 - val_loss: 0.3132 - val_acc: 0.8904\n",
            "Epoch 44/100\n",
            "237/237 [==============================] - 92s 388ms/step - loss: 0.3813 - acc: 0.8595 - val_loss: 0.3468 - val_acc: 0.8904\n",
            "Epoch 45/100\n",
            "237/237 [==============================] - 92s 386ms/step - loss: 0.3545 - acc: 0.8734 - val_loss: 0.4107 - val_acc: 0.8797\n",
            "Epoch 46/100\n",
            "237/237 [==============================] - 91s 385ms/step - loss: 0.3481 - acc: 0.8758 - val_loss: 0.3812 - val_acc: 0.8840\n",
            "Epoch 47/100\n",
            "237/237 [==============================] - 92s 389ms/step - loss: 0.3230 - acc: 0.8810 - val_loss: 0.3396 - val_acc: 0.8861\n",
            "Epoch 48/100\n",
            "237/237 [==============================] - 92s 389ms/step - loss: 0.3361 - acc: 0.8788 - val_loss: 0.3218 - val_acc: 0.8980\n",
            "Epoch 49/100\n",
            "237/237 [==============================] - 91s 382ms/step - loss: 0.3474 - acc: 0.8728 - val_loss: 0.4619 - val_acc: 0.8743\n",
            "Epoch 50/100\n",
            "237/237 [==============================] - 91s 383ms/step - loss: 0.3334 - acc: 0.8828 - val_loss: 0.3319 - val_acc: 0.8969\n",
            "Epoch 51/100\n",
            "237/237 [==============================] - 92s 388ms/step - loss: 0.3245 - acc: 0.8831 - val_loss: 0.3246 - val_acc: 0.9001\n",
            "Epoch 52/100\n",
            "237/237 [==============================] - 92s 387ms/step - loss: 0.3141 - acc: 0.8826 - val_loss: 0.3544 - val_acc: 0.8947\n",
            "Epoch 53/100\n",
            "237/237 [==============================] - 92s 390ms/step - loss: 0.3090 - acc: 0.8903 - val_loss: 0.3430 - val_acc: 0.8958\n",
            "Epoch 54/100\n",
            "237/237 [==============================] - 90s 381ms/step - loss: 0.3122 - acc: 0.8811 - val_loss: 0.3400 - val_acc: 0.9087\n",
            "Epoch 55/100\n",
            "237/237 [==============================] - 93s 392ms/step - loss: 0.3058 - acc: 0.8842 - val_loss: 0.3405 - val_acc: 0.9001\n",
            "Epoch 56/100\n",
            "237/237 [==============================] - 90s 379ms/step - loss: 0.2915 - acc: 0.8965 - val_loss: 0.3482 - val_acc: 0.8990\n",
            "Epoch 57/100\n",
            "237/237 [==============================] - 91s 386ms/step - loss: 0.2777 - acc: 0.9074 - val_loss: 0.3069 - val_acc: 0.9119\n",
            "Epoch 58/100\n",
            "237/237 [==============================] - 92s 389ms/step - loss: 0.2745 - acc: 0.8954 - val_loss: 0.3352 - val_acc: 0.8926\n",
            "Epoch 59/100\n",
            "237/237 [==============================] - 91s 384ms/step - loss: 0.2669 - acc: 0.9016 - val_loss: 0.2985 - val_acc: 0.9141\n",
            "Epoch 60/100\n",
            "237/237 [==============================] - 92s 389ms/step - loss: 0.2695 - acc: 0.8985 - val_loss: 0.3230 - val_acc: 0.9023\n",
            "Epoch 61/100\n",
            "237/237 [==============================] - 92s 388ms/step - loss: 0.2687 - acc: 0.9010 - val_loss: 0.3109 - val_acc: 0.9153\n",
            "Epoch 62/100\n",
            "237/237 [==============================] - 93s 392ms/step - loss: 0.2728 - acc: 0.9013 - val_loss: 0.3976 - val_acc: 0.8829\n",
            "Epoch 63/100\n",
            "237/237 [==============================] - 92s 390ms/step - loss: 0.2742 - acc: 0.8982 - val_loss: 0.2889 - val_acc: 0.9216\n",
            "Epoch 64/100\n",
            "237/237 [==============================] - 93s 393ms/step - loss: 0.2772 - acc: 0.8964 - val_loss: 0.3243 - val_acc: 0.8958\n",
            "Epoch 65/100\n",
            "237/237 [==============================] - 94s 395ms/step - loss: 0.2312 - acc: 0.9148 - val_loss: 0.2910 - val_acc: 0.9141\n",
            "Epoch 66/100\n",
            "237/237 [==============================] - 92s 386ms/step - loss: 0.2755 - acc: 0.8987 - val_loss: 0.3026 - val_acc: 0.9098\n",
            "Epoch 67/100\n",
            "237/237 [==============================] - 94s 395ms/step - loss: 0.2482 - acc: 0.9113 - val_loss: 0.3341 - val_acc: 0.9141\n",
            "Epoch 68/100\n",
            "237/237 [==============================] - 93s 391ms/step - loss: 0.2525 - acc: 0.9088 - val_loss: 0.3370 - val_acc: 0.9076\n",
            "Epoch 69/100\n",
            "237/237 [==============================] - 91s 386ms/step - loss: 0.2254 - acc: 0.9205 - val_loss: 0.3059 - val_acc: 0.9055\n",
            "Epoch 70/100\n",
            "237/237 [==============================] - 91s 385ms/step - loss: 0.2771 - acc: 0.9027 - val_loss: 0.2936 - val_acc: 0.9130\n",
            "Epoch 71/100\n",
            "237/237 [==============================] - 91s 385ms/step - loss: 0.2224 - acc: 0.9164 - val_loss: 0.3405 - val_acc: 0.9055\n",
            "Epoch 72/100\n",
            "237/237 [==============================] - 91s 383ms/step - loss: 0.2334 - acc: 0.9116 - val_loss: 0.2974 - val_acc: 0.9227\n",
            "Epoch 73/100\n",
            "237/237 [==============================] - 92s 388ms/step - loss: 0.2380 - acc: 0.9126 - val_loss: 0.3301 - val_acc: 0.9066\n",
            "Epoch 74/100\n",
            "237/237 [==============================] - 91s 383ms/step - loss: 0.2412 - acc: 0.9131 - val_loss: 0.2907 - val_acc: 0.9270\n",
            "Epoch 75/100\n",
            "237/237 [==============================] - 92s 389ms/step - loss: 0.2251 - acc: 0.9238 - val_loss: 0.2609 - val_acc: 0.9270\n",
            "Epoch 76/100\n",
            "237/237 [==============================] - 91s 383ms/step - loss: 0.2327 - acc: 0.9196 - val_loss: 0.3484 - val_acc: 0.9141\n",
            "Epoch 77/100\n",
            "237/237 [==============================] - 92s 387ms/step - loss: 0.2363 - acc: 0.9211 - val_loss: 0.2186 - val_acc: 0.9313\n",
            "Epoch 78/100\n",
            "237/237 [==============================] - 91s 384ms/step - loss: 0.2205 - acc: 0.9161 - val_loss: 0.3406 - val_acc: 0.9130\n",
            "Epoch 79/100\n",
            "237/237 [==============================] - 92s 389ms/step - loss: 0.2037 - acc: 0.9270 - val_loss: 0.2746 - val_acc: 0.9162\n",
            "Epoch 80/100\n",
            "237/237 [==============================] - 92s 390ms/step - loss: 0.2271 - acc: 0.9146 - val_loss: 0.3472 - val_acc: 0.9066\n",
            "Epoch 81/100\n",
            "237/237 [==============================] - 90s 381ms/step - loss: 0.2008 - acc: 0.9264 - val_loss: 0.3533 - val_acc: 0.9098\n",
            "Epoch 82/100\n",
            "237/237 [==============================] - 93s 394ms/step - loss: 0.2261 - acc: 0.9183 - val_loss: 0.2690 - val_acc: 0.9280\n",
            "Epoch 83/100\n",
            "237/237 [==============================] - 90s 382ms/step - loss: 0.1978 - acc: 0.9288 - val_loss: 0.2839 - val_acc: 0.9216\n",
            "Epoch 84/100\n",
            "237/237 [==============================] - 92s 388ms/step - loss: 0.2000 - acc: 0.9288 - val_loss: 0.3683 - val_acc: 0.9001\n",
            "Epoch 85/100\n",
            "237/237 [==============================] - 91s 382ms/step - loss: 0.2027 - acc: 0.9262 - val_loss: 0.2456 - val_acc: 0.9291\n",
            "Epoch 86/100\n",
            "237/237 [==============================] - 92s 387ms/step - loss: 0.1938 - acc: 0.9272 - val_loss: 0.3305 - val_acc: 0.9237\n",
            "Epoch 87/100\n",
            "237/237 [==============================] - 93s 390ms/step - loss: 0.1823 - acc: 0.9392 - val_loss: 0.2449 - val_acc: 0.9345\n",
            "Epoch 88/100\n",
            "237/237 [==============================] - 94s 396ms/step - loss: 0.2063 - acc: 0.9285 - val_loss: 0.2401 - val_acc: 0.9441\n",
            "Epoch 89/100\n",
            "237/237 [==============================] - 91s 385ms/step - loss: 0.1777 - acc: 0.9382 - val_loss: 0.2549 - val_acc: 0.9398\n",
            "Epoch 90/100\n",
            "237/237 [==============================] - 91s 384ms/step - loss: 0.1963 - acc: 0.9308 - val_loss: 0.3429 - val_acc: 0.9108\n",
            "Epoch 91/100\n",
            "237/237 [==============================] - 92s 387ms/step - loss: 0.1697 - acc: 0.9388 - val_loss: 0.2688 - val_acc: 0.9184\n",
            "Epoch 92/100\n",
            "237/237 [==============================] - 94s 398ms/step - loss: 0.1998 - acc: 0.9288 - val_loss: 0.2912 - val_acc: 0.9345\n",
            "Epoch 93/100\n",
            "237/237 [==============================] - 89s 378ms/step - loss: 0.1836 - acc: 0.9345 - val_loss: 0.3475 - val_acc: 0.9141\n",
            "Epoch 94/100\n",
            "237/237 [==============================] - 93s 392ms/step - loss: 0.1891 - acc: 0.9359 - val_loss: 0.2585 - val_acc: 0.9345\n",
            "Epoch 95/100\n",
            "237/237 [==============================] - 93s 391ms/step - loss: 0.1791 - acc: 0.9359 - val_loss: 0.2297 - val_acc: 0.9388\n",
            "Epoch 96/100\n",
            "237/237 [==============================] - 93s 394ms/step - loss: 0.1659 - acc: 0.9357 - val_loss: 0.2181 - val_acc: 0.9420\n",
            "Epoch 97/100\n",
            "237/237 [==============================] - 91s 386ms/step - loss: 0.1787 - acc: 0.9391 - val_loss: 0.2835 - val_acc: 0.9194\n",
            "Epoch 98/100\n",
            "237/237 [==============================] - 94s 398ms/step - loss: 0.1762 - acc: 0.9317 - val_loss: 0.2762 - val_acc: 0.9184\n",
            "Epoch 99/100\n",
            "237/237 [==============================] - 90s 382ms/step - loss: 0.1668 - acc: 0.9362 - val_loss: 0.3275 - val_acc: 0.9076\n",
            "Epoch 100/100\n",
            "237/237 [==============================] - 91s 384ms/step - loss: 0.1782 - acc: 0.9317 - val_loss: 0.3320 - val_acc: 0.9270\n"
          ],
          "name": "stdout"
        },
        {
          "output_type": "execute_result",
          "data": {
            "text/plain": [
              "<keras.callbacks.History at 0x7fdb42d59cf8>"
            ]
          },
          "metadata": {
            "tags": []
          },
          "execution_count": 17
        }
      ]
    },
    {
      "cell_type": "code",
      "metadata": {
        "id": "_iNK_2UnEZXn",
        "colab_type": "code",
        "colab": {}
      },
      "source": [
        "model2.save('/content/drive/My Drive/Projects/CNN/model.h5')"
      ],
      "execution_count": 0,
      "outputs": []
    },
    {
      "cell_type": "code",
      "metadata": {
        "id": "jkyj0qdRFsPc",
        "colab_type": "code",
        "outputId": "b1470449-f344-44c2-a860-de50e5e4e88a",
        "colab": {
          "base_uri": "https://localhost:8080/",
          "height": 156
        }
      },
      "source": [
        "model = load_model('/content/drive/My Drive/Projects/CNN/model.h5')"
      ],
      "execution_count": 0,
      "outputs": [
        {
          "output_type": "stream",
          "text": [
            "WARNING:tensorflow:From /usr/local/lib/python3.6/dist-packages/tensorflow_core/python/ops/math_grad.py:1424: where (from tensorflow.python.ops.array_ops) is deprecated and will be removed in a future version.\n",
            "Instructions for updating:\n",
            "Use tf.where in 2.0, which has the same broadcast rule as np.where\n",
            "WARNING:tensorflow:From /usr/local/lib/python3.6/dist-packages/keras/backend/tensorflow_backend.py:1033: The name tf.assign_add is deprecated. Please use tf.compat.v1.assign_add instead.\n",
            "\n",
            "WARNING:tensorflow:From /usr/local/lib/python3.6/dist-packages/keras/backend/tensorflow_backend.py:1020: The name tf.assign is deprecated. Please use tf.compat.v1.assign instead.\n",
            "\n"
          ],
          "name": "stdout"
        }
      ]
    },
    {
      "cell_type": "code",
      "metadata": {
        "id": "LlEUwbdsKJIy",
        "colab_type": "code",
        "colab": {}
      },
      "source": [
        "model.compile(optimizer=opt,\n",
        "              loss='categorical_crossentropy', \n",
        "              metrics=['accuracy'])\n",
        "\n"
      ],
      "execution_count": 0,
      "outputs": []
    },
    {
      "cell_type": "markdown",
      "metadata": {
        "id": "3afjdJlr9udu",
        "colab_type": "text"
      },
      "source": [
        "## Predict the accuracy for both train and validation data"
      ]
    },
    {
      "cell_type": "code",
      "metadata": {
        "id": "-E68KEz8_1Y9",
        "colab_type": "code",
        "outputId": "9d400c8a-881d-4368-dcf3-8bd3c3ed16ef",
        "colab": {
          "base_uri": "https://localhost:8080/",
          "height": 34
        }
      },
      "source": [
        "scores = model.evaluate_generator(train_generator,50) \n",
        "scores"
      ],
      "execution_count": 0,
      "outputs": [
        {
          "output_type": "execute_result",
          "data": {
            "text/plain": [
              "[0.10898351227864624, 0.9625]"
            ]
          },
          "metadata": {
            "tags": []
          },
          "execution_count": 21
        }
      ]
    },
    {
      "cell_type": "code",
      "metadata": {
        "id": "BS6ywOoCOwY1",
        "colab_type": "code",
        "outputId": "c9e644a8-4f8c-49dd-f405-666545d0b7ea",
        "colab": {
          "base_uri": "https://localhost:8080/",
          "height": 34
        }
      },
      "source": [
        "scores = model.evaluate_generator(validation_generator,50) \n",
        "scores"
      ],
      "execution_count": 0,
      "outputs": [
        {
          "output_type": "execute_result",
          "data": {
            "text/plain": [
              "[0.2821713776886463, 0.9375]"
            ]
          },
          "metadata": {
            "tags": []
          },
          "execution_count": 22
        }
      ]
    },
    {
      "cell_type": "markdown",
      "metadata": {
        "id": "Y3zEvTanlT1e",
        "colab_type": "text"
      },
      "source": [
        "## Check the classes of actual validation data and prediction on validation data"
      ]
    },
    {
      "cell_type": "code",
      "metadata": {
        "id": "XDfZ16DmVBy5",
        "colab_type": "code",
        "outputId": "b094041d-d030-4606-886c-6149363989bf",
        "colab": {
          "base_uri": "https://localhost:8080/",
          "height": 54
        }
      },
      "source": [
        "print(validation_generator.class_indices)"
      ],
      "execution_count": 0,
      "outputs": [
        {
          "output_type": "stream",
          "text": [
            "{'Black-grass': 0, 'Charlock': 1, 'Cleavers': 2, 'Common Chickweed': 3, 'Common wheat': 4, 'Fat Hen': 5, 'Loose Silky-bent': 6, 'Maize': 7, 'Scentless Mayweed': 8, 'Shepherds Purse': 9, 'Small-flowered Cranesbill': 10, 'Sugar beet': 11}\n"
          ],
          "name": "stdout"
        }
      ]
    },
    {
      "cell_type": "code",
      "metadata": {
        "id": "qDFiHeAZWekK",
        "colab_type": "code",
        "outputId": "6b7d6d78-5d7c-4f5c-db34-4b81afd47508",
        "colab": {
          "base_uri": "https://localhost:8080/",
          "height": 969
        }
      },
      "source": [
        "validation_generator.classes"
      ],
      "execution_count": 0,
      "outputs": [
        {
          "output_type": "execute_result",
          "data": {
            "text/plain": [
              "array([ 0,  0,  0,  0,  0,  0,  0,  0,  0,  0,  0,  0,  0,  0,  0,  0,  0,\n",
              "        0,  0,  0,  0,  0,  0,  0,  0,  0,  0,  0,  0,  0,  0,  0,  0,  0,\n",
              "        0,  0,  0,  0,  0,  0,  0,  0,  0,  0,  0,  0,  0,  0,  0,  0,  0,\n",
              "        0,  1,  1,  1,  1,  1,  1,  1,  1,  1,  1,  1,  1,  1,  1,  1,  1,\n",
              "        1,  1,  1,  1,  1,  1,  1,  1,  1,  1,  1,  1,  1,  1,  1,  1,  1,\n",
              "        1,  1,  1,  1,  1,  1,  1,  1,  1,  1,  1,  1,  1,  1,  1,  1,  1,\n",
              "        1,  1,  1,  1,  1,  1,  1,  1,  1,  1,  1,  1,  1,  1,  1,  1,  1,\n",
              "        1,  1,  1,  1,  1,  1,  1,  1,  1,  1,  1,  2,  2,  2,  2,  2,  2,\n",
              "        2,  2,  2,  2,  2,  2,  2,  2,  2,  2,  2,  2,  2,  2,  2,  2,  2,\n",
              "        2,  2,  2,  2,  2,  2,  2,  2,  2,  2,  2,  2,  2,  2,  2,  2,  2,\n",
              "        2,  2,  2,  2,  2,  2,  2,  2,  2,  2,  2,  2,  2,  2,  2,  2,  2,\n",
              "        3,  3,  3,  3,  3,  3,  3,  3,  3,  3,  3,  3,  3,  3,  3,  3,  3,\n",
              "        3,  3,  3,  3,  3,  3,  3,  3,  3,  3,  3,  3,  3,  3,  3,  3,  3,\n",
              "        3,  3,  3,  3,  3,  3,  3,  3,  3,  3,  3,  3,  3,  3,  3,  3,  3,\n",
              "        3,  3,  3,  3,  3,  3,  3,  3,  3,  3,  3,  3,  3,  3,  3,  3,  3,\n",
              "        3,  3,  3,  3,  3,  3,  3,  3,  3,  3,  3,  3,  3,  3,  3,  3,  3,\n",
              "        3,  3,  3,  3,  3,  3,  3,  3,  3,  3,  3,  3,  3,  3,  3,  3,  3,\n",
              "        3,  3,  3,  3,  3,  3,  3,  3,  3,  3,  3,  3,  3,  3,  3,  3,  3,\n",
              "        3,  3,  3,  4,  4,  4,  4,  4,  4,  4,  4,  4,  4,  4,  4,  4,  4,\n",
              "        4,  4,  4,  4,  4,  4,  4,  4,  4,  4,  4,  4,  4,  4,  4,  4,  4,\n",
              "        4,  4,  4,  4,  4,  4,  4,  4,  4,  4,  4,  4,  4,  5,  5,  5,  5,\n",
              "        5,  5,  5,  5,  5,  5,  5,  5,  5,  5,  5,  5,  5,  5,  5,  5,  5,\n",
              "        5,  5,  5,  5,  5,  5,  5,  5,  5,  5,  5,  5,  5,  5,  5,  5,  5,\n",
              "        5,  5,  5,  5,  5,  5,  5,  5,  5,  5,  5,  5,  5,  5,  5,  5,  5,\n",
              "        5,  5,  5,  5,  5,  5,  5,  5,  5,  5,  5,  5,  5,  5,  5,  5,  5,\n",
              "        5,  5,  5,  5,  5,  5,  5,  5,  5,  5,  5,  5,  5,  5,  5,  5,  5,\n",
              "        5,  5,  5,  5,  5,  5,  6,  6,  6,  6,  6,  6,  6,  6,  6,  6,  6,\n",
              "        6,  6,  6,  6,  6,  6,  6,  6,  6,  6,  6,  6,  6,  6,  6,  6,  6,\n",
              "        6,  6,  6,  6,  6,  6,  6,  6,  6,  6,  6,  6,  6,  6,  6,  6,  6,\n",
              "        6,  6,  6,  6,  6,  6,  6,  6,  6,  6,  6,  6,  6,  6,  6,  6,  6,\n",
              "        6,  6,  6,  6,  6,  6,  6,  6,  6,  6,  6,  6,  6,  6,  6,  6,  6,\n",
              "        6,  6,  6,  6,  6,  6,  6,  6,  6,  6,  6,  6,  6,  6,  6,  6,  6,\n",
              "        6,  6,  6,  6,  6,  6,  6,  6,  6,  6,  6,  6,  6,  6,  6,  6,  6,\n",
              "        6,  6,  6,  6,  6,  6,  6,  6,  6,  6,  6,  6,  6,  6,  6,  6,  6,\n",
              "        7,  7,  7,  7,  7,  7,  7,  7,  7,  7,  7,  7,  7,  7,  7,  7,  7,\n",
              "        7,  7,  7,  7,  7,  7,  7,  7,  7,  7,  7,  7,  7,  7,  7,  7,  7,\n",
              "        7,  7,  7,  7,  7,  7,  7,  7,  7,  7,  8,  8,  8,  8,  8,  8,  8,\n",
              "        8,  8,  8,  8,  8,  8,  8,  8,  8,  8,  8,  8,  8,  8,  8,  8,  8,\n",
              "        8,  8,  8,  8,  8,  8,  8,  8,  8,  8,  8,  8,  8,  8,  8,  8,  8,\n",
              "        8,  8,  8,  8,  8,  8,  8,  8,  8,  8,  8,  8,  8,  8,  8,  8,  8,\n",
              "        8,  8,  8,  8,  8,  8,  8,  8,  8,  8,  8,  8,  8,  8,  8,  8,  8,\n",
              "        8,  8,  8,  8,  8,  8,  8,  8,  8,  8,  8,  8,  8,  8,  8,  8,  8,\n",
              "        8,  8,  8,  8,  8,  8,  8,  8,  8,  8,  8,  9,  9,  9,  9,  9,  9,\n",
              "        9,  9,  9,  9,  9,  9,  9,  9,  9,  9,  9,  9,  9,  9,  9,  9,  9,\n",
              "        9,  9,  9,  9,  9,  9,  9,  9,  9,  9,  9,  9,  9,  9,  9,  9,  9,\n",
              "        9,  9,  9,  9,  9,  9, 10, 10, 10, 10, 10, 10, 10, 10, 10, 10, 10,\n",
              "       10, 10, 10, 10, 10, 10, 10, 10, 10, 10, 10, 10, 10, 10, 10, 10, 10,\n",
              "       10, 10, 10, 10, 10, 10, 10, 10, 10, 10, 10, 10, 10, 10, 10, 10, 10,\n",
              "       10, 10, 10, 10, 10, 10, 10, 10, 10, 10, 10, 10, 10, 10, 10, 10, 10,\n",
              "       10, 10, 10, 10, 10, 10, 10, 10, 10, 10, 10, 10, 10, 10, 10, 10, 10,\n",
              "       10, 10, 10, 10, 10, 10, 10, 10, 10, 10, 10, 10, 10, 10, 10, 10, 10,\n",
              "       10, 10, 10, 11, 11, 11, 11, 11, 11, 11, 11, 11, 11, 11, 11, 11, 11,\n",
              "       11, 11, 11, 11, 11, 11, 11, 11, 11, 11, 11, 11, 11, 11, 11, 11, 11,\n",
              "       11, 11, 11, 11, 11, 11, 11, 11, 11, 11, 11, 11, 11, 11, 11, 11, 11,\n",
              "       11, 11, 11, 11, 11, 11, 11, 11, 11, 11, 11, 11, 11, 11, 11, 11, 11,\n",
              "       11, 11, 11, 11, 11, 11, 11, 11, 11, 11, 11, 11], dtype=int32)"
            ]
          },
          "metadata": {
            "tags": []
          },
          "execution_count": 88
        }
      ]
    },
    {
      "cell_type": "code",
      "metadata": {
        "id": "fay6HPciaYT7",
        "colab_type": "code",
        "outputId": "f9296722-5eac-4cca-d462-ec08356dd7d5",
        "colab": {
          "base_uri": "https://localhost:8080/",
          "height": 632
        }
      },
      "source": [
        "pred= model.predict_generator(validation_generator, 50)\n",
        "predicted_class_indices=np.argmax(pred,axis=1)\n",
        "print(predicted_class_indices)\n",
        "labels = (validation_generator.class_indices)\n",
        "print (labels)\n",
        "#labels2 = dict((v,k) for v,k in labels.items())\n",
        "#print (labels2)\n",
        "#predictions = [labels2[k] for k in predicted_class_indices]\n",
        "\n",
        "#predictions = [key for key, value in labels2.items() if value == predicted_class_indices.any()]\n",
        "\n",
        "#print(predicted_class_indices)\n",
        "#print (labels)\n",
        "#print (predictions)"
      ],
      "execution_count": 0,
      "outputs": [
        {
          "output_type": "stream",
          "text": [
            "[ 0  5  8  5  1  3  0  3 10  4  3 10  2 11 11  6  5  3  1  5  0  7  9  1\n",
            " 11  6  8  3  6  1  5  1  8  0  2  0 10  7  3 11  3 10 10  5  8  1  8 10\n",
            "  2  9  8  8  3  3  4  3  3  6  1  3 10  3  5  6  4  5  9  6  0  6 10  1\n",
            " 11  3  8  8  6  6  5  9  6  6  8 11  3  6  3  8 10  0  5 10  5 10  7  9\n",
            "  3  8  3 10  1  6  8  4  3  5  1  0  1  8  1  5  6  2  5  2  3 10  6  8\n",
            "  4  5  3  5  6  9  3  5  8  3 10 10  3  8  6  6  0  1  8  0  6  6  4  6\n",
            "  1 10  3  5  7  3 10  1  2 10  3  5  2  5  4  6  1 10  6 10  8  1  3  5\n",
            "  1  6  6 10 11  9  5  5  8 10 10  3  6 11 11  0  7  8  2  5  6  9  5  3\n",
            "  5  0  4  3  7  6  4  5  8  3 11  6  6 11  1  3 11  8  3  6 10  6 11  3\n",
            "  1  8  5  6 10  3  8  0  3  7  9  9  8 10  6 10  1  0  7  6 11  3  5  6\n",
            "  8 11  1  3 11  5  8 10  2  5  5  0  6  1  0 11  6 10  2  0  6  9  2  3\n",
            "  4  5 10  5 10  3  5  1  1  2 11  1 10  6  7 10  3  8  8  6  3  0  9 10\n",
            "  0  9  2 10  3  3 10  0  8  6  2  5  2  7  1 11 10  5  5  5  9  1  7  8\n",
            "  0 10  6  8  8  6  0  9  3  9  8  1  0  6 11  8  6  7  1  8  4  1  8  6\n",
            "  6  0  0 10  4  7  3 11  2 11  8 11  6  3 10  9  5  2 10  6  0 11  6  8\n",
            " 10  1  5 10  8  9  2 10  8  6  6  5  6 10  3  6  6  3  1  6  6  4  6  9\n",
            "  6  1  5 10 10 10  5  8  2  6  5  5  0  4  8  3  6  8  9  1  9 10  9  5\n",
            "  3  8  2  3  1  7  0  6  8  0  6  8  2  3 10  8  3  8  5  4  9  6  6  8\n",
            "  5  3  2  3  8  5  1  3  5  6  8  0  3  3  1  1  1 10  1  2  1  6  5  4\n",
            "  8  6  5  3  0  5  5  0  3  6  8  6  0 11  6  3  1  7  5  3 11  2  4  8\n",
            " 10  2  3  6  8  3  5  5  3  8 10  9  1  7 11 10  3  6 11  3  2  6 11 11\n",
            "  3  5  6  8 10  3  5  3  9 10  9  1  5  6  6 11  8 11  9  6  2  9  3  4\n",
            "  8  9 11 11  1  5  8  5  7 11 11  7  0  4 10  3 11  1  6  1  5  4  6 11\n",
            " 11  4  6  1 10 10  3  4  3  8  3 10  6 11  1  5  5  8  6  0  7  6  7 11\n",
            "  6  3  0  8  3  5  6  2 11  6  2  8 10 10  8 11 11  0 11  3  6  9 11  7\n",
            "  4  6  4 10  6  6  8 10  0  2  8  5  4  7  3  2  0 11  3  1  0  5  4  5\n",
            "  3  6  1 11  6  6 11 11  1  6  8  7  8  2 11  7 11  6 10  3  6  8  4  9\n",
            "  3  8  2 10  8  4 10 10  9 11  7  1 11 10  1  0 10  2  4 11  3  6  3 11\n",
            "  6  1  8  2 11 11  4  2  8  4  8  3  1  5 10  1  4 10  8  6  1  1  1 10\n",
            "  7  8  2 10  6  8  5 10  7  2  3 11  3  8  1  7  9  9  5  0 10 10 11  8\n",
            "  6  1  3  6  5  8  3  9  2  6  9  3 10  8  5  1 10  5  3  2  9  8  7  6\n",
            "  9  4  1  0  3  9  0  7 10  8  8  4 11  2  8  8  1  8  5  8  7  2  8  2\n",
            "  3  5  5  6  6  7  6  0  0 11  6 10  6 11  8  2  1  1  1  5  2 10  6  7\n",
            "  3 10  6  4  9 10  5  6]\n",
            "{'Black-grass': 0, 'Charlock': 1, 'Cleavers': 2, 'Common Chickweed': 3, 'Common wheat': 4, 'Fat Hen': 5, 'Loose Silky-bent': 6, 'Maize': 7, 'Scentless Mayweed': 8, 'Shepherds Purse': 9, 'Small-flowered Cranesbill': 10, 'Sugar beet': 11}\n"
          ],
          "name": "stdout"
        }
      ]
    },
    {
      "cell_type": "markdown",
      "metadata": {
        "id": "kZrrH7T-N2h4",
        "colab_type": "text"
      },
      "source": [
        "## Use transfer learning to train and predict"
      ]
    },
    {
      "cell_type": "code",
      "metadata": {
        "id": "fPbZeuFUN0sH",
        "colab_type": "code",
        "outputId": "02c878e5-fb9a-482f-9d10-23f52e12cff8",
        "colab": {
          "base_uri": "https://localhost:8080/",
          "height": 139
        }
      },
      "source": [
        "from keras.applications.inception_v3 import InceptionV3\n",
        "from keras.applications.resnet50 import ResNet50\n",
        "from keras.applications.vgg16 import VGG16\n",
        "from keras.preprocessing import image\n",
        "from keras.models import Model\n",
        "from keras.layers import Dense, GlobalAveragePooling2D, BatchNormalization\n",
        "from keras import backend as K\n",
        "\n",
        "# create the base pre-trained model\n",
        "base_model = InceptionV3(weights='imagenet', include_top=False,input_shape=(150, 150, 3))\n",
        "#base_model = ResNet50(weights='imagenet', include_top=False,input_shape=(150, 150, 3))\n",
        "#base_model = VGG16(weights='imagenet', include_top=False,input_shape=(150, 150, 3))\n",
        "\n",
        "# add a global spatial average pooling layer\n",
        "x = base_model.output\n",
        "x = GlobalAveragePooling2D()(x)\n",
        "# let's add a fully-connected layer\n",
        "x = Dense(1024, activation='relu')(x)\n",
        "#Apply Dropout with 0.2 probability \n",
        "#x = (Dropout(0.2))(x)\n",
        "#x = (Dense(64, activation='relu'))(x)\n",
        "# and a logistic layer -- we have 12 classes\n",
        "predictions = Dense(len(train_generator.class_indices), activation='softmax')(x)\n",
        "\n",
        "# this is the model we will train\n",
        "model = Model(inputs=base_model.input, outputs=predictions)\n",
        "\n",
        "# first: train only the top layers (which were randomly initialized)\n",
        "# i.e. freeze all convolutional InceptionV3 layers\n",
        "#for layer in base_model.layers:\n",
        "#    layer.trainable = False\n",
        "\n",
        "\n",
        "# fix the feature extraction part of the model\n",
        "for layer in base_model.layers:\n",
        "    if isinstance(layer, BatchNormalization):\n",
        "        layer.trainable = True\n",
        "    else:\n",
        "        layer.trainable = False\n",
        "\n",
        "\n",
        "# compile the model (should be done *after* setting layers to non-trainable)\n",
        "model.compile(optimizer=opt, loss='categorical_crossentropy', \n",
        "              metrics=['accuracy'])\n",
        "\n"
      ],
      "execution_count": 0,
      "outputs": [
        {
          "output_type": "stream",
          "text": [
            "WARNING:tensorflow:From /usr/local/lib/python3.6/dist-packages/keras/backend/tensorflow_backend.py:2041: The name tf.nn.fused_batch_norm is deprecated. Please use tf.compat.v1.nn.fused_batch_norm instead.\n",
            "\n",
            "WARNING:tensorflow:From /usr/local/lib/python3.6/dist-packages/keras/backend/tensorflow_backend.py:4271: The name tf.nn.avg_pool is deprecated. Please use tf.nn.avg_pool2d instead.\n",
            "\n",
            "Downloading data from https://github.com/fchollet/deep-learning-models/releases/download/v0.5/inception_v3_weights_tf_dim_ordering_tf_kernels_notop.h5\n",
            "87916544/87910968 [==============================] - 8s 0us/step\n"
          ],
          "name": "stdout"
        }
      ]
    },
    {
      "cell_type": "code",
      "metadata": {
        "id": "r1qFkIA6fmOR",
        "colab_type": "code",
        "outputId": "1d6ee71f-121c-4c7b-ddc1-8478bb796e7d",
        "colab": {
          "base_uri": "https://localhost:8080/",
          "height": 1000
        }
      },
      "source": [
        "# summarize\n",
        "model.summary()"
      ],
      "execution_count": 0,
      "outputs": [
        {
          "output_type": "stream",
          "text": [
            "Model: \"model_3\"\n",
            "__________________________________________________________________________________________________\n",
            "Layer (type)                    Output Shape         Param #     Connected to                     \n",
            "==================================================================================================\n",
            "input_4 (InputLayer)            (None, 150, 150, 3)  0                                            \n",
            "__________________________________________________________________________________________________\n",
            "conv2d_1 (Conv2D)               (None, 74, 74, 32)   864         input_4[0][0]                    \n",
            "__________________________________________________________________________________________________\n",
            "batch_normalization_1 (BatchNor (None, 74, 74, 32)   96          conv2d_1[0][0]                   \n",
            "__________________________________________________________________________________________________\n",
            "activation_1 (Activation)       (None, 74, 74, 32)   0           batch_normalization_1[0][0]      \n",
            "__________________________________________________________________________________________________\n",
            "conv2d_2 (Conv2D)               (None, 72, 72, 32)   9216        activation_1[0][0]               \n",
            "__________________________________________________________________________________________________\n",
            "batch_normalization_2 (BatchNor (None, 72, 72, 32)   96          conv2d_2[0][0]                   \n",
            "__________________________________________________________________________________________________\n",
            "activation_2 (Activation)       (None, 72, 72, 32)   0           batch_normalization_2[0][0]      \n",
            "__________________________________________________________________________________________________\n",
            "conv2d_3 (Conv2D)               (None, 72, 72, 64)   18432       activation_2[0][0]               \n",
            "__________________________________________________________________________________________________\n",
            "batch_normalization_3 (BatchNor (None, 72, 72, 64)   192         conv2d_3[0][0]                   \n",
            "__________________________________________________________________________________________________\n",
            "activation_3 (Activation)       (None, 72, 72, 64)   0           batch_normalization_3[0][0]      \n",
            "__________________________________________________________________________________________________\n",
            "max_pooling2d_1 (MaxPooling2D)  (None, 35, 35, 64)   0           activation_3[0][0]               \n",
            "__________________________________________________________________________________________________\n",
            "conv2d_4 (Conv2D)               (None, 35, 35, 80)   5120        max_pooling2d_1[0][0]            \n",
            "__________________________________________________________________________________________________\n",
            "batch_normalization_4 (BatchNor (None, 35, 35, 80)   240         conv2d_4[0][0]                   \n",
            "__________________________________________________________________________________________________\n",
            "activation_4 (Activation)       (None, 35, 35, 80)   0           batch_normalization_4[0][0]      \n",
            "__________________________________________________________________________________________________\n",
            "conv2d_5 (Conv2D)               (None, 33, 33, 192)  138240      activation_4[0][0]               \n",
            "__________________________________________________________________________________________________\n",
            "batch_normalization_5 (BatchNor (None, 33, 33, 192)  576         conv2d_5[0][0]                   \n",
            "__________________________________________________________________________________________________\n",
            "activation_5 (Activation)       (None, 33, 33, 192)  0           batch_normalization_5[0][0]      \n",
            "__________________________________________________________________________________________________\n",
            "max_pooling2d_2 (MaxPooling2D)  (None, 16, 16, 192)  0           activation_5[0][0]               \n",
            "__________________________________________________________________________________________________\n",
            "conv2d_9 (Conv2D)               (None, 16, 16, 64)   12288       max_pooling2d_2[0][0]            \n",
            "__________________________________________________________________________________________________\n",
            "batch_normalization_9 (BatchNor (None, 16, 16, 64)   192         conv2d_9[0][0]                   \n",
            "__________________________________________________________________________________________________\n",
            "activation_9 (Activation)       (None, 16, 16, 64)   0           batch_normalization_9[0][0]      \n",
            "__________________________________________________________________________________________________\n",
            "conv2d_7 (Conv2D)               (None, 16, 16, 48)   9216        max_pooling2d_2[0][0]            \n",
            "__________________________________________________________________________________________________\n",
            "conv2d_10 (Conv2D)              (None, 16, 16, 96)   55296       activation_9[0][0]               \n",
            "__________________________________________________________________________________________________\n",
            "batch_normalization_7 (BatchNor (None, 16, 16, 48)   144         conv2d_7[0][0]                   \n",
            "__________________________________________________________________________________________________\n",
            "batch_normalization_10 (BatchNo (None, 16, 16, 96)   288         conv2d_10[0][0]                  \n",
            "__________________________________________________________________________________________________\n",
            "activation_7 (Activation)       (None, 16, 16, 48)   0           batch_normalization_7[0][0]      \n",
            "__________________________________________________________________________________________________\n",
            "activation_10 (Activation)      (None, 16, 16, 96)   0           batch_normalization_10[0][0]     \n",
            "__________________________________________________________________________________________________\n",
            "average_pooling2d_1 (AveragePoo (None, 16, 16, 192)  0           max_pooling2d_2[0][0]            \n",
            "__________________________________________________________________________________________________\n",
            "conv2d_6 (Conv2D)               (None, 16, 16, 64)   12288       max_pooling2d_2[0][0]            \n",
            "__________________________________________________________________________________________________\n",
            "conv2d_8 (Conv2D)               (None, 16, 16, 64)   76800       activation_7[0][0]               \n",
            "__________________________________________________________________________________________________\n",
            "conv2d_11 (Conv2D)              (None, 16, 16, 96)   82944       activation_10[0][0]              \n",
            "__________________________________________________________________________________________________\n",
            "conv2d_12 (Conv2D)              (None, 16, 16, 32)   6144        average_pooling2d_1[0][0]        \n",
            "__________________________________________________________________________________________________\n",
            "batch_normalization_6 (BatchNor (None, 16, 16, 64)   192         conv2d_6[0][0]                   \n",
            "__________________________________________________________________________________________________\n",
            "batch_normalization_8 (BatchNor (None, 16, 16, 64)   192         conv2d_8[0][0]                   \n",
            "__________________________________________________________________________________________________\n",
            "batch_normalization_11 (BatchNo (None, 16, 16, 96)   288         conv2d_11[0][0]                  \n",
            "__________________________________________________________________________________________________\n",
            "batch_normalization_12 (BatchNo (None, 16, 16, 32)   96          conv2d_12[0][0]                  \n",
            "__________________________________________________________________________________________________\n",
            "activation_6 (Activation)       (None, 16, 16, 64)   0           batch_normalization_6[0][0]      \n",
            "__________________________________________________________________________________________________\n",
            "activation_8 (Activation)       (None, 16, 16, 64)   0           batch_normalization_8[0][0]      \n",
            "__________________________________________________________________________________________________\n",
            "activation_11 (Activation)      (None, 16, 16, 96)   0           batch_normalization_11[0][0]     \n",
            "__________________________________________________________________________________________________\n",
            "activation_12 (Activation)      (None, 16, 16, 32)   0           batch_normalization_12[0][0]     \n",
            "__________________________________________________________________________________________________\n",
            "mixed0 (Concatenate)            (None, 16, 16, 256)  0           activation_6[0][0]               \n",
            "                                                                 activation_8[0][0]               \n",
            "                                                                 activation_11[0][0]              \n",
            "                                                                 activation_12[0][0]              \n",
            "__________________________________________________________________________________________________\n",
            "conv2d_16 (Conv2D)              (None, 16, 16, 64)   16384       mixed0[0][0]                     \n",
            "__________________________________________________________________________________________________\n",
            "batch_normalization_16 (BatchNo (None, 16, 16, 64)   192         conv2d_16[0][0]                  \n",
            "__________________________________________________________________________________________________\n",
            "activation_16 (Activation)      (None, 16, 16, 64)   0           batch_normalization_16[0][0]     \n",
            "__________________________________________________________________________________________________\n",
            "conv2d_14 (Conv2D)              (None, 16, 16, 48)   12288       mixed0[0][0]                     \n",
            "__________________________________________________________________________________________________\n",
            "conv2d_17 (Conv2D)              (None, 16, 16, 96)   55296       activation_16[0][0]              \n",
            "__________________________________________________________________________________________________\n",
            "batch_normalization_14 (BatchNo (None, 16, 16, 48)   144         conv2d_14[0][0]                  \n",
            "__________________________________________________________________________________________________\n",
            "batch_normalization_17 (BatchNo (None, 16, 16, 96)   288         conv2d_17[0][0]                  \n",
            "__________________________________________________________________________________________________\n",
            "activation_14 (Activation)      (None, 16, 16, 48)   0           batch_normalization_14[0][0]     \n",
            "__________________________________________________________________________________________________\n",
            "activation_17 (Activation)      (None, 16, 16, 96)   0           batch_normalization_17[0][0]     \n",
            "__________________________________________________________________________________________________\n",
            "average_pooling2d_2 (AveragePoo (None, 16, 16, 256)  0           mixed0[0][0]                     \n",
            "__________________________________________________________________________________________________\n",
            "conv2d_13 (Conv2D)              (None, 16, 16, 64)   16384       mixed0[0][0]                     \n",
            "__________________________________________________________________________________________________\n",
            "conv2d_15 (Conv2D)              (None, 16, 16, 64)   76800       activation_14[0][0]              \n",
            "__________________________________________________________________________________________________\n",
            "conv2d_18 (Conv2D)              (None, 16, 16, 96)   82944       activation_17[0][0]              \n",
            "__________________________________________________________________________________________________\n",
            "conv2d_19 (Conv2D)              (None, 16, 16, 64)   16384       average_pooling2d_2[0][0]        \n",
            "__________________________________________________________________________________________________\n",
            "batch_normalization_13 (BatchNo (None, 16, 16, 64)   192         conv2d_13[0][0]                  \n",
            "__________________________________________________________________________________________________\n",
            "batch_normalization_15 (BatchNo (None, 16, 16, 64)   192         conv2d_15[0][0]                  \n",
            "__________________________________________________________________________________________________\n",
            "batch_normalization_18 (BatchNo (None, 16, 16, 96)   288         conv2d_18[0][0]                  \n",
            "__________________________________________________________________________________________________\n",
            "batch_normalization_19 (BatchNo (None, 16, 16, 64)   192         conv2d_19[0][0]                  \n",
            "__________________________________________________________________________________________________\n",
            "activation_13 (Activation)      (None, 16, 16, 64)   0           batch_normalization_13[0][0]     \n",
            "__________________________________________________________________________________________________\n",
            "activation_15 (Activation)      (None, 16, 16, 64)   0           batch_normalization_15[0][0]     \n",
            "__________________________________________________________________________________________________\n",
            "activation_18 (Activation)      (None, 16, 16, 96)   0           batch_normalization_18[0][0]     \n",
            "__________________________________________________________________________________________________\n",
            "activation_19 (Activation)      (None, 16, 16, 64)   0           batch_normalization_19[0][0]     \n",
            "__________________________________________________________________________________________________\n",
            "mixed1 (Concatenate)            (None, 16, 16, 288)  0           activation_13[0][0]              \n",
            "                                                                 activation_15[0][0]              \n",
            "                                                                 activation_18[0][0]              \n",
            "                                                                 activation_19[0][0]              \n",
            "__________________________________________________________________________________________________\n",
            "conv2d_23 (Conv2D)              (None, 16, 16, 64)   18432       mixed1[0][0]                     \n",
            "__________________________________________________________________________________________________\n",
            "batch_normalization_23 (BatchNo (None, 16, 16, 64)   192         conv2d_23[0][0]                  \n",
            "__________________________________________________________________________________________________\n",
            "activation_23 (Activation)      (None, 16, 16, 64)   0           batch_normalization_23[0][0]     \n",
            "__________________________________________________________________________________________________\n",
            "conv2d_21 (Conv2D)              (None, 16, 16, 48)   13824       mixed1[0][0]                     \n",
            "__________________________________________________________________________________________________\n",
            "conv2d_24 (Conv2D)              (None, 16, 16, 96)   55296       activation_23[0][0]              \n",
            "__________________________________________________________________________________________________\n",
            "batch_normalization_21 (BatchNo (None, 16, 16, 48)   144         conv2d_21[0][0]                  \n",
            "__________________________________________________________________________________________________\n",
            "batch_normalization_24 (BatchNo (None, 16, 16, 96)   288         conv2d_24[0][0]                  \n",
            "__________________________________________________________________________________________________\n",
            "activation_21 (Activation)      (None, 16, 16, 48)   0           batch_normalization_21[0][0]     \n",
            "__________________________________________________________________________________________________\n",
            "activation_24 (Activation)      (None, 16, 16, 96)   0           batch_normalization_24[0][0]     \n",
            "__________________________________________________________________________________________________\n",
            "average_pooling2d_3 (AveragePoo (None, 16, 16, 288)  0           mixed1[0][0]                     \n",
            "__________________________________________________________________________________________________\n",
            "conv2d_20 (Conv2D)              (None, 16, 16, 64)   18432       mixed1[0][0]                     \n",
            "__________________________________________________________________________________________________\n",
            "conv2d_22 (Conv2D)              (None, 16, 16, 64)   76800       activation_21[0][0]              \n",
            "__________________________________________________________________________________________________\n",
            "conv2d_25 (Conv2D)              (None, 16, 16, 96)   82944       activation_24[0][0]              \n",
            "__________________________________________________________________________________________________\n",
            "conv2d_26 (Conv2D)              (None, 16, 16, 64)   18432       average_pooling2d_3[0][0]        \n",
            "__________________________________________________________________________________________________\n",
            "batch_normalization_20 (BatchNo (None, 16, 16, 64)   192         conv2d_20[0][0]                  \n",
            "__________________________________________________________________________________________________\n",
            "batch_normalization_22 (BatchNo (None, 16, 16, 64)   192         conv2d_22[0][0]                  \n",
            "__________________________________________________________________________________________________\n",
            "batch_normalization_25 (BatchNo (None, 16, 16, 96)   288         conv2d_25[0][0]                  \n",
            "__________________________________________________________________________________________________\n",
            "batch_normalization_26 (BatchNo (None, 16, 16, 64)   192         conv2d_26[0][0]                  \n",
            "__________________________________________________________________________________________________\n",
            "activation_20 (Activation)      (None, 16, 16, 64)   0           batch_normalization_20[0][0]     \n",
            "__________________________________________________________________________________________________\n",
            "activation_22 (Activation)      (None, 16, 16, 64)   0           batch_normalization_22[0][0]     \n",
            "__________________________________________________________________________________________________\n",
            "activation_25 (Activation)      (None, 16, 16, 96)   0           batch_normalization_25[0][0]     \n",
            "__________________________________________________________________________________________________\n",
            "activation_26 (Activation)      (None, 16, 16, 64)   0           batch_normalization_26[0][0]     \n",
            "__________________________________________________________________________________________________\n",
            "mixed2 (Concatenate)            (None, 16, 16, 288)  0           activation_20[0][0]              \n",
            "                                                                 activation_22[0][0]              \n",
            "                                                                 activation_25[0][0]              \n",
            "                                                                 activation_26[0][0]              \n",
            "__________________________________________________________________________________________________\n",
            "conv2d_28 (Conv2D)              (None, 16, 16, 64)   18432       mixed2[0][0]                     \n",
            "__________________________________________________________________________________________________\n",
            "batch_normalization_28 (BatchNo (None, 16, 16, 64)   192         conv2d_28[0][0]                  \n",
            "__________________________________________________________________________________________________\n",
            "activation_28 (Activation)      (None, 16, 16, 64)   0           batch_normalization_28[0][0]     \n",
            "__________________________________________________________________________________________________\n",
            "conv2d_29 (Conv2D)              (None, 16, 16, 96)   55296       activation_28[0][0]              \n",
            "__________________________________________________________________________________________________\n",
            "batch_normalization_29 (BatchNo (None, 16, 16, 96)   288         conv2d_29[0][0]                  \n",
            "__________________________________________________________________________________________________\n",
            "activation_29 (Activation)      (None, 16, 16, 96)   0           batch_normalization_29[0][0]     \n",
            "__________________________________________________________________________________________________\n",
            "conv2d_27 (Conv2D)              (None, 7, 7, 384)    995328      mixed2[0][0]                     \n",
            "__________________________________________________________________________________________________\n",
            "conv2d_30 (Conv2D)              (None, 7, 7, 96)     82944       activation_29[0][0]              \n",
            "__________________________________________________________________________________________________\n",
            "batch_normalization_27 (BatchNo (None, 7, 7, 384)    1152        conv2d_27[0][0]                  \n",
            "__________________________________________________________________________________________________\n",
            "batch_normalization_30 (BatchNo (None, 7, 7, 96)     288         conv2d_30[0][0]                  \n",
            "__________________________________________________________________________________________________\n",
            "activation_27 (Activation)      (None, 7, 7, 384)    0           batch_normalization_27[0][0]     \n",
            "__________________________________________________________________________________________________\n",
            "activation_30 (Activation)      (None, 7, 7, 96)     0           batch_normalization_30[0][0]     \n",
            "__________________________________________________________________________________________________\n",
            "max_pooling2d_3 (MaxPooling2D)  (None, 7, 7, 288)    0           mixed2[0][0]                     \n",
            "__________________________________________________________________________________________________\n",
            "mixed3 (Concatenate)            (None, 7, 7, 768)    0           activation_27[0][0]              \n",
            "                                                                 activation_30[0][0]              \n",
            "                                                                 max_pooling2d_3[0][0]            \n",
            "__________________________________________________________________________________________________\n",
            "conv2d_35 (Conv2D)              (None, 7, 7, 128)    98304       mixed3[0][0]                     \n",
            "__________________________________________________________________________________________________\n",
            "batch_normalization_35 (BatchNo (None, 7, 7, 128)    384         conv2d_35[0][0]                  \n",
            "__________________________________________________________________________________________________\n",
            "activation_35 (Activation)      (None, 7, 7, 128)    0           batch_normalization_35[0][0]     \n",
            "__________________________________________________________________________________________________\n",
            "conv2d_36 (Conv2D)              (None, 7, 7, 128)    114688      activation_35[0][0]              \n",
            "__________________________________________________________________________________________________\n",
            "batch_normalization_36 (BatchNo (None, 7, 7, 128)    384         conv2d_36[0][0]                  \n",
            "__________________________________________________________________________________________________\n",
            "activation_36 (Activation)      (None, 7, 7, 128)    0           batch_normalization_36[0][0]     \n",
            "__________________________________________________________________________________________________\n",
            "conv2d_32 (Conv2D)              (None, 7, 7, 128)    98304       mixed3[0][0]                     \n",
            "__________________________________________________________________________________________________\n",
            "conv2d_37 (Conv2D)              (None, 7, 7, 128)    114688      activation_36[0][0]              \n",
            "__________________________________________________________________________________________________\n",
            "batch_normalization_32 (BatchNo (None, 7, 7, 128)    384         conv2d_32[0][0]                  \n",
            "__________________________________________________________________________________________________\n",
            "batch_normalization_37 (BatchNo (None, 7, 7, 128)    384         conv2d_37[0][0]                  \n",
            "__________________________________________________________________________________________________\n",
            "activation_32 (Activation)      (None, 7, 7, 128)    0           batch_normalization_32[0][0]     \n",
            "__________________________________________________________________________________________________\n",
            "activation_37 (Activation)      (None, 7, 7, 128)    0           batch_normalization_37[0][0]     \n",
            "__________________________________________________________________________________________________\n",
            "conv2d_33 (Conv2D)              (None, 7, 7, 128)    114688      activation_32[0][0]              \n",
            "__________________________________________________________________________________________________\n",
            "conv2d_38 (Conv2D)              (None, 7, 7, 128)    114688      activation_37[0][0]              \n",
            "__________________________________________________________________________________________________\n",
            "batch_normalization_33 (BatchNo (None, 7, 7, 128)    384         conv2d_33[0][0]                  \n",
            "__________________________________________________________________________________________________\n",
            "batch_normalization_38 (BatchNo (None, 7, 7, 128)    384         conv2d_38[0][0]                  \n",
            "__________________________________________________________________________________________________\n",
            "activation_33 (Activation)      (None, 7, 7, 128)    0           batch_normalization_33[0][0]     \n",
            "__________________________________________________________________________________________________\n",
            "activation_38 (Activation)      (None, 7, 7, 128)    0           batch_normalization_38[0][0]     \n",
            "__________________________________________________________________________________________________\n",
            "average_pooling2d_4 (AveragePoo (None, 7, 7, 768)    0           mixed3[0][0]                     \n",
            "__________________________________________________________________________________________________\n",
            "conv2d_31 (Conv2D)              (None, 7, 7, 192)    147456      mixed3[0][0]                     \n",
            "__________________________________________________________________________________________________\n",
            "conv2d_34 (Conv2D)              (None, 7, 7, 192)    172032      activation_33[0][0]              \n",
            "__________________________________________________________________________________________________\n",
            "conv2d_39 (Conv2D)              (None, 7, 7, 192)    172032      activation_38[0][0]              \n",
            "__________________________________________________________________________________________________\n",
            "conv2d_40 (Conv2D)              (None, 7, 7, 192)    147456      average_pooling2d_4[0][0]        \n",
            "__________________________________________________________________________________________________\n",
            "batch_normalization_31 (BatchNo (None, 7, 7, 192)    576         conv2d_31[0][0]                  \n",
            "__________________________________________________________________________________________________\n",
            "batch_normalization_34 (BatchNo (None, 7, 7, 192)    576         conv2d_34[0][0]                  \n",
            "__________________________________________________________________________________________________\n",
            "batch_normalization_39 (BatchNo (None, 7, 7, 192)    576         conv2d_39[0][0]                  \n",
            "__________________________________________________________________________________________________\n",
            "batch_normalization_40 (BatchNo (None, 7, 7, 192)    576         conv2d_40[0][0]                  \n",
            "__________________________________________________________________________________________________\n",
            "activation_31 (Activation)      (None, 7, 7, 192)    0           batch_normalization_31[0][0]     \n",
            "__________________________________________________________________________________________________\n",
            "activation_34 (Activation)      (None, 7, 7, 192)    0           batch_normalization_34[0][0]     \n",
            "__________________________________________________________________________________________________\n",
            "activation_39 (Activation)      (None, 7, 7, 192)    0           batch_normalization_39[0][0]     \n",
            "__________________________________________________________________________________________________\n",
            "activation_40 (Activation)      (None, 7, 7, 192)    0           batch_normalization_40[0][0]     \n",
            "__________________________________________________________________________________________________\n",
            "mixed4 (Concatenate)            (None, 7, 7, 768)    0           activation_31[0][0]              \n",
            "                                                                 activation_34[0][0]              \n",
            "                                                                 activation_39[0][0]              \n",
            "                                                                 activation_40[0][0]              \n",
            "__________________________________________________________________________________________________\n",
            "conv2d_45 (Conv2D)              (None, 7, 7, 160)    122880      mixed4[0][0]                     \n",
            "__________________________________________________________________________________________________\n",
            "batch_normalization_45 (BatchNo (None, 7, 7, 160)    480         conv2d_45[0][0]                  \n",
            "__________________________________________________________________________________________________\n",
            "activation_45 (Activation)      (None, 7, 7, 160)    0           batch_normalization_45[0][0]     \n",
            "__________________________________________________________________________________________________\n",
            "conv2d_46 (Conv2D)              (None, 7, 7, 160)    179200      activation_45[0][0]              \n",
            "__________________________________________________________________________________________________\n",
            "batch_normalization_46 (BatchNo (None, 7, 7, 160)    480         conv2d_46[0][0]                  \n",
            "__________________________________________________________________________________________________\n",
            "activation_46 (Activation)      (None, 7, 7, 160)    0           batch_normalization_46[0][0]     \n",
            "__________________________________________________________________________________________________\n",
            "conv2d_42 (Conv2D)              (None, 7, 7, 160)    122880      mixed4[0][0]                     \n",
            "__________________________________________________________________________________________________\n",
            "conv2d_47 (Conv2D)              (None, 7, 7, 160)    179200      activation_46[0][0]              \n",
            "__________________________________________________________________________________________________\n",
            "batch_normalization_42 (BatchNo (None, 7, 7, 160)    480         conv2d_42[0][0]                  \n",
            "__________________________________________________________________________________________________\n",
            "batch_normalization_47 (BatchNo (None, 7, 7, 160)    480         conv2d_47[0][0]                  \n",
            "__________________________________________________________________________________________________\n",
            "activation_42 (Activation)      (None, 7, 7, 160)    0           batch_normalization_42[0][0]     \n",
            "__________________________________________________________________________________________________\n",
            "activation_47 (Activation)      (None, 7, 7, 160)    0           batch_normalization_47[0][0]     \n",
            "__________________________________________________________________________________________________\n",
            "conv2d_43 (Conv2D)              (None, 7, 7, 160)    179200      activation_42[0][0]              \n",
            "__________________________________________________________________________________________________\n",
            "conv2d_48 (Conv2D)              (None, 7, 7, 160)    179200      activation_47[0][0]              \n",
            "__________________________________________________________________________________________________\n",
            "batch_normalization_43 (BatchNo (None, 7, 7, 160)    480         conv2d_43[0][0]                  \n",
            "__________________________________________________________________________________________________\n",
            "batch_normalization_48 (BatchNo (None, 7, 7, 160)    480         conv2d_48[0][0]                  \n",
            "__________________________________________________________________________________________________\n",
            "activation_43 (Activation)      (None, 7, 7, 160)    0           batch_normalization_43[0][0]     \n",
            "__________________________________________________________________________________________________\n",
            "activation_48 (Activation)      (None, 7, 7, 160)    0           batch_normalization_48[0][0]     \n",
            "__________________________________________________________________________________________________\n",
            "average_pooling2d_5 (AveragePoo (None, 7, 7, 768)    0           mixed4[0][0]                     \n",
            "__________________________________________________________________________________________________\n",
            "conv2d_41 (Conv2D)              (None, 7, 7, 192)    147456      mixed4[0][0]                     \n",
            "__________________________________________________________________________________________________\n",
            "conv2d_44 (Conv2D)              (None, 7, 7, 192)    215040      activation_43[0][0]              \n",
            "__________________________________________________________________________________________________\n",
            "conv2d_49 (Conv2D)              (None, 7, 7, 192)    215040      activation_48[0][0]              \n",
            "__________________________________________________________________________________________________\n",
            "conv2d_50 (Conv2D)              (None, 7, 7, 192)    147456      average_pooling2d_5[0][0]        \n",
            "__________________________________________________________________________________________________\n",
            "batch_normalization_41 (BatchNo (None, 7, 7, 192)    576         conv2d_41[0][0]                  \n",
            "__________________________________________________________________________________________________\n",
            "batch_normalization_44 (BatchNo (None, 7, 7, 192)    576         conv2d_44[0][0]                  \n",
            "__________________________________________________________________________________________________\n",
            "batch_normalization_49 (BatchNo (None, 7, 7, 192)    576         conv2d_49[0][0]                  \n",
            "__________________________________________________________________________________________________\n",
            "batch_normalization_50 (BatchNo (None, 7, 7, 192)    576         conv2d_50[0][0]                  \n",
            "__________________________________________________________________________________________________\n",
            "activation_41 (Activation)      (None, 7, 7, 192)    0           batch_normalization_41[0][0]     \n",
            "__________________________________________________________________________________________________\n",
            "activation_44 (Activation)      (None, 7, 7, 192)    0           batch_normalization_44[0][0]     \n",
            "__________________________________________________________________________________________________\n",
            "activation_49 (Activation)      (None, 7, 7, 192)    0           batch_normalization_49[0][0]     \n",
            "__________________________________________________________________________________________________\n",
            "activation_50 (Activation)      (None, 7, 7, 192)    0           batch_normalization_50[0][0]     \n",
            "__________________________________________________________________________________________________\n",
            "mixed5 (Concatenate)            (None, 7, 7, 768)    0           activation_41[0][0]              \n",
            "                                                                 activation_44[0][0]              \n",
            "                                                                 activation_49[0][0]              \n",
            "                                                                 activation_50[0][0]              \n",
            "__________________________________________________________________________________________________\n",
            "conv2d_55 (Conv2D)              (None, 7, 7, 160)    122880      mixed5[0][0]                     \n",
            "__________________________________________________________________________________________________\n",
            "batch_normalization_55 (BatchNo (None, 7, 7, 160)    480         conv2d_55[0][0]                  \n",
            "__________________________________________________________________________________________________\n",
            "activation_55 (Activation)      (None, 7, 7, 160)    0           batch_normalization_55[0][0]     \n",
            "__________________________________________________________________________________________________\n",
            "conv2d_56 (Conv2D)              (None, 7, 7, 160)    179200      activation_55[0][0]              \n",
            "__________________________________________________________________________________________________\n",
            "batch_normalization_56 (BatchNo (None, 7, 7, 160)    480         conv2d_56[0][0]                  \n",
            "__________________________________________________________________________________________________\n",
            "activation_56 (Activation)      (None, 7, 7, 160)    0           batch_normalization_56[0][0]     \n",
            "__________________________________________________________________________________________________\n",
            "conv2d_52 (Conv2D)              (None, 7, 7, 160)    122880      mixed5[0][0]                     \n",
            "__________________________________________________________________________________________________\n",
            "conv2d_57 (Conv2D)              (None, 7, 7, 160)    179200      activation_56[0][0]              \n",
            "__________________________________________________________________________________________________\n",
            "batch_normalization_52 (BatchNo (None, 7, 7, 160)    480         conv2d_52[0][0]                  \n",
            "__________________________________________________________________________________________________\n",
            "batch_normalization_57 (BatchNo (None, 7, 7, 160)    480         conv2d_57[0][0]                  \n",
            "__________________________________________________________________________________________________\n",
            "activation_52 (Activation)      (None, 7, 7, 160)    0           batch_normalization_52[0][0]     \n",
            "__________________________________________________________________________________________________\n",
            "activation_57 (Activation)      (None, 7, 7, 160)    0           batch_normalization_57[0][0]     \n",
            "__________________________________________________________________________________________________\n",
            "conv2d_53 (Conv2D)              (None, 7, 7, 160)    179200      activation_52[0][0]              \n",
            "__________________________________________________________________________________________________\n",
            "conv2d_58 (Conv2D)              (None, 7, 7, 160)    179200      activation_57[0][0]              \n",
            "__________________________________________________________________________________________________\n",
            "batch_normalization_53 (BatchNo (None, 7, 7, 160)    480         conv2d_53[0][0]                  \n",
            "__________________________________________________________________________________________________\n",
            "batch_normalization_58 (BatchNo (None, 7, 7, 160)    480         conv2d_58[0][0]                  \n",
            "__________________________________________________________________________________________________\n",
            "activation_53 (Activation)      (None, 7, 7, 160)    0           batch_normalization_53[0][0]     \n",
            "__________________________________________________________________________________________________\n",
            "activation_58 (Activation)      (None, 7, 7, 160)    0           batch_normalization_58[0][0]     \n",
            "__________________________________________________________________________________________________\n",
            "average_pooling2d_6 (AveragePoo (None, 7, 7, 768)    0           mixed5[0][0]                     \n",
            "__________________________________________________________________________________________________\n",
            "conv2d_51 (Conv2D)              (None, 7, 7, 192)    147456      mixed5[0][0]                     \n",
            "__________________________________________________________________________________________________\n",
            "conv2d_54 (Conv2D)              (None, 7, 7, 192)    215040      activation_53[0][0]              \n",
            "__________________________________________________________________________________________________\n",
            "conv2d_59 (Conv2D)              (None, 7, 7, 192)    215040      activation_58[0][0]              \n",
            "__________________________________________________________________________________________________\n",
            "conv2d_60 (Conv2D)              (None, 7, 7, 192)    147456      average_pooling2d_6[0][0]        \n",
            "__________________________________________________________________________________________________\n",
            "batch_normalization_51 (BatchNo (None, 7, 7, 192)    576         conv2d_51[0][0]                  \n",
            "__________________________________________________________________________________________________\n",
            "batch_normalization_54 (BatchNo (None, 7, 7, 192)    576         conv2d_54[0][0]                  \n",
            "__________________________________________________________________________________________________\n",
            "batch_normalization_59 (BatchNo (None, 7, 7, 192)    576         conv2d_59[0][0]                  \n",
            "__________________________________________________________________________________________________\n",
            "batch_normalization_60 (BatchNo (None, 7, 7, 192)    576         conv2d_60[0][0]                  \n",
            "__________________________________________________________________________________________________\n",
            "activation_51 (Activation)      (None, 7, 7, 192)    0           batch_normalization_51[0][0]     \n",
            "__________________________________________________________________________________________________\n",
            "activation_54 (Activation)      (None, 7, 7, 192)    0           batch_normalization_54[0][0]     \n",
            "__________________________________________________________________________________________________\n",
            "activation_59 (Activation)      (None, 7, 7, 192)    0           batch_normalization_59[0][0]     \n",
            "__________________________________________________________________________________________________\n",
            "activation_60 (Activation)      (None, 7, 7, 192)    0           batch_normalization_60[0][0]     \n",
            "__________________________________________________________________________________________________\n",
            "mixed6 (Concatenate)            (None, 7, 7, 768)    0           activation_51[0][0]              \n",
            "                                                                 activation_54[0][0]              \n",
            "                                                                 activation_59[0][0]              \n",
            "                                                                 activation_60[0][0]              \n",
            "__________________________________________________________________________________________________\n",
            "conv2d_65 (Conv2D)              (None, 7, 7, 192)    147456      mixed6[0][0]                     \n",
            "__________________________________________________________________________________________________\n",
            "batch_normalization_65 (BatchNo (None, 7, 7, 192)    576         conv2d_65[0][0]                  \n",
            "__________________________________________________________________________________________________\n",
            "activation_65 (Activation)      (None, 7, 7, 192)    0           batch_normalization_65[0][0]     \n",
            "__________________________________________________________________________________________________\n",
            "conv2d_66 (Conv2D)              (None, 7, 7, 192)    258048      activation_65[0][0]              \n",
            "__________________________________________________________________________________________________\n",
            "batch_normalization_66 (BatchNo (None, 7, 7, 192)    576         conv2d_66[0][0]                  \n",
            "__________________________________________________________________________________________________\n",
            "activation_66 (Activation)      (None, 7, 7, 192)    0           batch_normalization_66[0][0]     \n",
            "__________________________________________________________________________________________________\n",
            "conv2d_62 (Conv2D)              (None, 7, 7, 192)    147456      mixed6[0][0]                     \n",
            "__________________________________________________________________________________________________\n",
            "conv2d_67 (Conv2D)              (None, 7, 7, 192)    258048      activation_66[0][0]              \n",
            "__________________________________________________________________________________________________\n",
            "batch_normalization_62 (BatchNo (None, 7, 7, 192)    576         conv2d_62[0][0]                  \n",
            "__________________________________________________________________________________________________\n",
            "batch_normalization_67 (BatchNo (None, 7, 7, 192)    576         conv2d_67[0][0]                  \n",
            "__________________________________________________________________________________________________\n",
            "activation_62 (Activation)      (None, 7, 7, 192)    0           batch_normalization_62[0][0]     \n",
            "__________________________________________________________________________________________________\n",
            "activation_67 (Activation)      (None, 7, 7, 192)    0           batch_normalization_67[0][0]     \n",
            "__________________________________________________________________________________________________\n",
            "conv2d_63 (Conv2D)              (None, 7, 7, 192)    258048      activation_62[0][0]              \n",
            "__________________________________________________________________________________________________\n",
            "conv2d_68 (Conv2D)              (None, 7, 7, 192)    258048      activation_67[0][0]              \n",
            "__________________________________________________________________________________________________\n",
            "batch_normalization_63 (BatchNo (None, 7, 7, 192)    576         conv2d_63[0][0]                  \n",
            "__________________________________________________________________________________________________\n",
            "batch_normalization_68 (BatchNo (None, 7, 7, 192)    576         conv2d_68[0][0]                  \n",
            "__________________________________________________________________________________________________\n",
            "activation_63 (Activation)      (None, 7, 7, 192)    0           batch_normalization_63[0][0]     \n",
            "__________________________________________________________________________________________________\n",
            "activation_68 (Activation)      (None, 7, 7, 192)    0           batch_normalization_68[0][0]     \n",
            "__________________________________________________________________________________________________\n",
            "average_pooling2d_7 (AveragePoo (None, 7, 7, 768)    0           mixed6[0][0]                     \n",
            "__________________________________________________________________________________________________\n",
            "conv2d_61 (Conv2D)              (None, 7, 7, 192)    147456      mixed6[0][0]                     \n",
            "__________________________________________________________________________________________________\n",
            "conv2d_64 (Conv2D)              (None, 7, 7, 192)    258048      activation_63[0][0]              \n",
            "__________________________________________________________________________________________________\n",
            "conv2d_69 (Conv2D)              (None, 7, 7, 192)    258048      activation_68[0][0]              \n",
            "__________________________________________________________________________________________________\n",
            "conv2d_70 (Conv2D)              (None, 7, 7, 192)    147456      average_pooling2d_7[0][0]        \n",
            "__________________________________________________________________________________________________\n",
            "batch_normalization_61 (BatchNo (None, 7, 7, 192)    576         conv2d_61[0][0]                  \n",
            "__________________________________________________________________________________________________\n",
            "batch_normalization_64 (BatchNo (None, 7, 7, 192)    576         conv2d_64[0][0]                  \n",
            "__________________________________________________________________________________________________\n",
            "batch_normalization_69 (BatchNo (None, 7, 7, 192)    576         conv2d_69[0][0]                  \n",
            "__________________________________________________________________________________________________\n",
            "batch_normalization_70 (BatchNo (None, 7, 7, 192)    576         conv2d_70[0][0]                  \n",
            "__________________________________________________________________________________________________\n",
            "activation_61 (Activation)      (None, 7, 7, 192)    0           batch_normalization_61[0][0]     \n",
            "__________________________________________________________________________________________________\n",
            "activation_64 (Activation)      (None, 7, 7, 192)    0           batch_normalization_64[0][0]     \n",
            "__________________________________________________________________________________________________\n",
            "activation_69 (Activation)      (None, 7, 7, 192)    0           batch_normalization_69[0][0]     \n",
            "__________________________________________________________________________________________________\n",
            "activation_70 (Activation)      (None, 7, 7, 192)    0           batch_normalization_70[0][0]     \n",
            "__________________________________________________________________________________________________\n",
            "mixed7 (Concatenate)            (None, 7, 7, 768)    0           activation_61[0][0]              \n",
            "                                                                 activation_64[0][0]              \n",
            "                                                                 activation_69[0][0]              \n",
            "                                                                 activation_70[0][0]              \n",
            "__________________________________________________________________________________________________\n",
            "conv2d_73 (Conv2D)              (None, 7, 7, 192)    147456      mixed7[0][0]                     \n",
            "__________________________________________________________________________________________________\n",
            "batch_normalization_73 (BatchNo (None, 7, 7, 192)    576         conv2d_73[0][0]                  \n",
            "__________________________________________________________________________________________________\n",
            "activation_73 (Activation)      (None, 7, 7, 192)    0           batch_normalization_73[0][0]     \n",
            "__________________________________________________________________________________________________\n",
            "conv2d_74 (Conv2D)              (None, 7, 7, 192)    258048      activation_73[0][0]              \n",
            "__________________________________________________________________________________________________\n",
            "batch_normalization_74 (BatchNo (None, 7, 7, 192)    576         conv2d_74[0][0]                  \n",
            "__________________________________________________________________________________________________\n",
            "activation_74 (Activation)      (None, 7, 7, 192)    0           batch_normalization_74[0][0]     \n",
            "__________________________________________________________________________________________________\n",
            "conv2d_71 (Conv2D)              (None, 7, 7, 192)    147456      mixed7[0][0]                     \n",
            "__________________________________________________________________________________________________\n",
            "conv2d_75 (Conv2D)              (None, 7, 7, 192)    258048      activation_74[0][0]              \n",
            "__________________________________________________________________________________________________\n",
            "batch_normalization_71 (BatchNo (None, 7, 7, 192)    576         conv2d_71[0][0]                  \n",
            "__________________________________________________________________________________________________\n",
            "batch_normalization_75 (BatchNo (None, 7, 7, 192)    576         conv2d_75[0][0]                  \n",
            "__________________________________________________________________________________________________\n",
            "activation_71 (Activation)      (None, 7, 7, 192)    0           batch_normalization_71[0][0]     \n",
            "__________________________________________________________________________________________________\n",
            "activation_75 (Activation)      (None, 7, 7, 192)    0           batch_normalization_75[0][0]     \n",
            "__________________________________________________________________________________________________\n",
            "conv2d_72 (Conv2D)              (None, 3, 3, 320)    552960      activation_71[0][0]              \n",
            "__________________________________________________________________________________________________\n",
            "conv2d_76 (Conv2D)              (None, 3, 3, 192)    331776      activation_75[0][0]              \n",
            "__________________________________________________________________________________________________\n",
            "batch_normalization_72 (BatchNo (None, 3, 3, 320)    960         conv2d_72[0][0]                  \n",
            "__________________________________________________________________________________________________\n",
            "batch_normalization_76 (BatchNo (None, 3, 3, 192)    576         conv2d_76[0][0]                  \n",
            "__________________________________________________________________________________________________\n",
            "activation_72 (Activation)      (None, 3, 3, 320)    0           batch_normalization_72[0][0]     \n",
            "__________________________________________________________________________________________________\n",
            "activation_76 (Activation)      (None, 3, 3, 192)    0           batch_normalization_76[0][0]     \n",
            "__________________________________________________________________________________________________\n",
            "max_pooling2d_4 (MaxPooling2D)  (None, 3, 3, 768)    0           mixed7[0][0]                     \n",
            "__________________________________________________________________________________________________\n",
            "mixed8 (Concatenate)            (None, 3, 3, 1280)   0           activation_72[0][0]              \n",
            "                                                                 activation_76[0][0]              \n",
            "                                                                 max_pooling2d_4[0][0]            \n",
            "__________________________________________________________________________________________________\n",
            "conv2d_81 (Conv2D)              (None, 3, 3, 448)    573440      mixed8[0][0]                     \n",
            "__________________________________________________________________________________________________\n",
            "batch_normalization_81 (BatchNo (None, 3, 3, 448)    1344        conv2d_81[0][0]                  \n",
            "__________________________________________________________________________________________________\n",
            "activation_81 (Activation)      (None, 3, 3, 448)    0           batch_normalization_81[0][0]     \n",
            "__________________________________________________________________________________________________\n",
            "conv2d_78 (Conv2D)              (None, 3, 3, 384)    491520      mixed8[0][0]                     \n",
            "__________________________________________________________________________________________________\n",
            "conv2d_82 (Conv2D)              (None, 3, 3, 384)    1548288     activation_81[0][0]              \n",
            "__________________________________________________________________________________________________\n",
            "batch_normalization_78 (BatchNo (None, 3, 3, 384)    1152        conv2d_78[0][0]                  \n",
            "__________________________________________________________________________________________________\n",
            "batch_normalization_82 (BatchNo (None, 3, 3, 384)    1152        conv2d_82[0][0]                  \n",
            "__________________________________________________________________________________________________\n",
            "activation_78 (Activation)      (None, 3, 3, 384)    0           batch_normalization_78[0][0]     \n",
            "__________________________________________________________________________________________________\n",
            "activation_82 (Activation)      (None, 3, 3, 384)    0           batch_normalization_82[0][0]     \n",
            "__________________________________________________________________________________________________\n",
            "conv2d_79 (Conv2D)              (None, 3, 3, 384)    442368      activation_78[0][0]              \n",
            "__________________________________________________________________________________________________\n",
            "conv2d_80 (Conv2D)              (None, 3, 3, 384)    442368      activation_78[0][0]              \n",
            "__________________________________________________________________________________________________\n",
            "conv2d_83 (Conv2D)              (None, 3, 3, 384)    442368      activation_82[0][0]              \n",
            "__________________________________________________________________________________________________\n",
            "conv2d_84 (Conv2D)              (None, 3, 3, 384)    442368      activation_82[0][0]              \n",
            "__________________________________________________________________________________________________\n",
            "average_pooling2d_8 (AveragePoo (None, 3, 3, 1280)   0           mixed8[0][0]                     \n",
            "__________________________________________________________________________________________________\n",
            "conv2d_77 (Conv2D)              (None, 3, 3, 320)    409600      mixed8[0][0]                     \n",
            "__________________________________________________________________________________________________\n",
            "batch_normalization_79 (BatchNo (None, 3, 3, 384)    1152        conv2d_79[0][0]                  \n",
            "__________________________________________________________________________________________________\n",
            "batch_normalization_80 (BatchNo (None, 3, 3, 384)    1152        conv2d_80[0][0]                  \n",
            "__________________________________________________________________________________________________\n",
            "batch_normalization_83 (BatchNo (None, 3, 3, 384)    1152        conv2d_83[0][0]                  \n",
            "__________________________________________________________________________________________________\n",
            "batch_normalization_84 (BatchNo (None, 3, 3, 384)    1152        conv2d_84[0][0]                  \n",
            "__________________________________________________________________________________________________\n",
            "conv2d_85 (Conv2D)              (None, 3, 3, 192)    245760      average_pooling2d_8[0][0]        \n",
            "__________________________________________________________________________________________________\n",
            "batch_normalization_77 (BatchNo (None, 3, 3, 320)    960         conv2d_77[0][0]                  \n",
            "__________________________________________________________________________________________________\n",
            "activation_79 (Activation)      (None, 3, 3, 384)    0           batch_normalization_79[0][0]     \n",
            "__________________________________________________________________________________________________\n",
            "activation_80 (Activation)      (None, 3, 3, 384)    0           batch_normalization_80[0][0]     \n",
            "__________________________________________________________________________________________________\n",
            "activation_83 (Activation)      (None, 3, 3, 384)    0           batch_normalization_83[0][0]     \n",
            "__________________________________________________________________________________________________\n",
            "activation_84 (Activation)      (None, 3, 3, 384)    0           batch_normalization_84[0][0]     \n",
            "__________________________________________________________________________________________________\n",
            "batch_normalization_85 (BatchNo (None, 3, 3, 192)    576         conv2d_85[0][0]                  \n",
            "__________________________________________________________________________________________________\n",
            "activation_77 (Activation)      (None, 3, 3, 320)    0           batch_normalization_77[0][0]     \n",
            "__________________________________________________________________________________________________\n",
            "mixed9_0 (Concatenate)          (None, 3, 3, 768)    0           activation_79[0][0]              \n",
            "                                                                 activation_80[0][0]              \n",
            "__________________________________________________________________________________________________\n",
            "concatenate_1 (Concatenate)     (None, 3, 3, 768)    0           activation_83[0][0]              \n",
            "                                                                 activation_84[0][0]              \n",
            "__________________________________________________________________________________________________\n",
            "activation_85 (Activation)      (None, 3, 3, 192)    0           batch_normalization_85[0][0]     \n",
            "__________________________________________________________________________________________________\n",
            "mixed9 (Concatenate)            (None, 3, 3, 2048)   0           activation_77[0][0]              \n",
            "                                                                 mixed9_0[0][0]                   \n",
            "                                                                 concatenate_1[0][0]              \n",
            "                                                                 activation_85[0][0]              \n",
            "__________________________________________________________________________________________________\n",
            "conv2d_90 (Conv2D)              (None, 3, 3, 448)    917504      mixed9[0][0]                     \n",
            "__________________________________________________________________________________________________\n",
            "batch_normalization_90 (BatchNo (None, 3, 3, 448)    1344        conv2d_90[0][0]                  \n",
            "__________________________________________________________________________________________________\n",
            "activation_90 (Activation)      (None, 3, 3, 448)    0           batch_normalization_90[0][0]     \n",
            "__________________________________________________________________________________________________\n",
            "conv2d_87 (Conv2D)              (None, 3, 3, 384)    786432      mixed9[0][0]                     \n",
            "__________________________________________________________________________________________________\n",
            "conv2d_91 (Conv2D)              (None, 3, 3, 384)    1548288     activation_90[0][0]              \n",
            "__________________________________________________________________________________________________\n",
            "batch_normalization_87 (BatchNo (None, 3, 3, 384)    1152        conv2d_87[0][0]                  \n",
            "__________________________________________________________________________________________________\n",
            "batch_normalization_91 (BatchNo (None, 3, 3, 384)    1152        conv2d_91[0][0]                  \n",
            "__________________________________________________________________________________________________\n",
            "activation_87 (Activation)      (None, 3, 3, 384)    0           batch_normalization_87[0][0]     \n",
            "__________________________________________________________________________________________________\n",
            "activation_91 (Activation)      (None, 3, 3, 384)    0           batch_normalization_91[0][0]     \n",
            "__________________________________________________________________________________________________\n",
            "conv2d_88 (Conv2D)              (None, 3, 3, 384)    442368      activation_87[0][0]              \n",
            "__________________________________________________________________________________________________\n",
            "conv2d_89 (Conv2D)              (None, 3, 3, 384)    442368      activation_87[0][0]              \n",
            "__________________________________________________________________________________________________\n",
            "conv2d_92 (Conv2D)              (None, 3, 3, 384)    442368      activation_91[0][0]              \n",
            "__________________________________________________________________________________________________\n",
            "conv2d_93 (Conv2D)              (None, 3, 3, 384)    442368      activation_91[0][0]              \n",
            "__________________________________________________________________________________________________\n",
            "average_pooling2d_9 (AveragePoo (None, 3, 3, 2048)   0           mixed9[0][0]                     \n",
            "__________________________________________________________________________________________________\n",
            "conv2d_86 (Conv2D)              (None, 3, 3, 320)    655360      mixed9[0][0]                     \n",
            "__________________________________________________________________________________________________\n",
            "batch_normalization_88 (BatchNo (None, 3, 3, 384)    1152        conv2d_88[0][0]                  \n",
            "__________________________________________________________________________________________________\n",
            "batch_normalization_89 (BatchNo (None, 3, 3, 384)    1152        conv2d_89[0][0]                  \n",
            "__________________________________________________________________________________________________\n",
            "batch_normalization_92 (BatchNo (None, 3, 3, 384)    1152        conv2d_92[0][0]                  \n",
            "__________________________________________________________________________________________________\n",
            "batch_normalization_93 (BatchNo (None, 3, 3, 384)    1152        conv2d_93[0][0]                  \n",
            "__________________________________________________________________________________________________\n",
            "conv2d_94 (Conv2D)              (None, 3, 3, 192)    393216      average_pooling2d_9[0][0]        \n",
            "__________________________________________________________________________________________________\n",
            "batch_normalization_86 (BatchNo (None, 3, 3, 320)    960         conv2d_86[0][0]                  \n",
            "__________________________________________________________________________________________________\n",
            "activation_88 (Activation)      (None, 3, 3, 384)    0           batch_normalization_88[0][0]     \n",
            "__________________________________________________________________________________________________\n",
            "activation_89 (Activation)      (None, 3, 3, 384)    0           batch_normalization_89[0][0]     \n",
            "__________________________________________________________________________________________________\n",
            "activation_92 (Activation)      (None, 3, 3, 384)    0           batch_normalization_92[0][0]     \n",
            "__________________________________________________________________________________________________\n",
            "activation_93 (Activation)      (None, 3, 3, 384)    0           batch_normalization_93[0][0]     \n",
            "__________________________________________________________________________________________________\n",
            "batch_normalization_94 (BatchNo (None, 3, 3, 192)    576         conv2d_94[0][0]                  \n",
            "__________________________________________________________________________________________________\n",
            "activation_86 (Activation)      (None, 3, 3, 320)    0           batch_normalization_86[0][0]     \n",
            "__________________________________________________________________________________________________\n",
            "mixed9_1 (Concatenate)          (None, 3, 3, 768)    0           activation_88[0][0]              \n",
            "                                                                 activation_89[0][0]              \n",
            "__________________________________________________________________________________________________\n",
            "concatenate_2 (Concatenate)     (None, 3, 3, 768)    0           activation_92[0][0]              \n",
            "                                                                 activation_93[0][0]              \n",
            "__________________________________________________________________________________________________\n",
            "activation_94 (Activation)      (None, 3, 3, 192)    0           batch_normalization_94[0][0]     \n",
            "__________________________________________________________________________________________________\n",
            "mixed10 (Concatenate)           (None, 3, 3, 2048)   0           activation_86[0][0]              \n",
            "                                                                 mixed9_1[0][0]                   \n",
            "                                                                 concatenate_2[0][0]              \n",
            "                                                                 activation_94[0][0]              \n",
            "__________________________________________________________________________________________________\n",
            "global_average_pooling2d_4 (Glo (None, 2048)         0           mixed10[0][0]                    \n",
            "__________________________________________________________________________________________________\n",
            "dense_8 (Dense)                 (None, 1024)         2098176     global_average_pooling2d_4[0][0] \n",
            "__________________________________________________________________________________________________\n",
            "dense_9 (Dense)                 (None, 12)           12300       dense_8[0][0]                    \n",
            "==================================================================================================\n",
            "Total params: 23,913,260\n",
            "Trainable params: 2,127,692\n",
            "Non-trainable params: 21,785,568\n",
            "__________________________________________________________________________________________________\n"
          ],
          "name": "stdout"
        }
      ]
    },
    {
      "cell_type": "code",
      "metadata": {
        "id": "jfBIOx4SUYrj",
        "colab_type": "code",
        "outputId": "12164198-fdf6-4d5d-db36-a58d2d6091c1",
        "colab": {
          "base_uri": "https://localhost:8080/",
          "height": 1000
        }
      },
      "source": [
        "# train the model on the new data for a few epochs\n",
        "history = model.fit_generator(train_generator,\n",
        "    steps_per_epoch = train_generator.samples // batch_size,\n",
        "    validation_data = validation_generator, \n",
        "    validation_steps = validation_generator.samples // batch_size,\n",
        "    epochs = 100)"
      ],
      "execution_count": 0,
      "outputs": [
        {
          "output_type": "stream",
          "text": [
            "Epoch 1/100\n",
            "237/237 [==============================] - 882s 4s/step - loss: 1.9340 - acc: 0.3752 - val_loss: 1.6084 - val_acc: 0.5074\n",
            "Epoch 2/100\n",
            "237/237 [==============================] - 103s 436ms/step - loss: 1.4274 - acc: 0.5218 - val_loss: 1.1213 - val_acc: 0.6369\n",
            "Epoch 3/100\n",
            "237/237 [==============================] - 103s 436ms/step - loss: 1.2462 - acc: 0.5847 - val_loss: 1.2223 - val_acc: 0.6198\n",
            "Epoch 4/100\n",
            "237/237 [==============================] - 103s 436ms/step - loss: 1.1024 - acc: 0.6216 - val_loss: 1.0787 - val_acc: 0.6702\n",
            "Epoch 5/100\n",
            "237/237 [==============================] - 104s 439ms/step - loss: 1.0128 - acc: 0.6554 - val_loss: 0.9272 - val_acc: 0.7186\n",
            "Epoch 6/100\n",
            "237/237 [==============================] - 103s 436ms/step - loss: 0.9319 - acc: 0.6786 - val_loss: 0.9310 - val_acc: 0.7025\n",
            "Epoch 7/100\n",
            "237/237 [==============================] - 103s 435ms/step - loss: 0.9209 - acc: 0.6786 - val_loss: 0.8844 - val_acc: 0.7111\n",
            "Epoch 8/100\n",
            "237/237 [==============================] - 103s 436ms/step - loss: 0.8426 - acc: 0.7024 - val_loss: 0.8051 - val_acc: 0.7454\n",
            "Epoch 9/100\n",
            "237/237 [==============================] - 104s 437ms/step - loss: 0.8174 - acc: 0.7212 - val_loss: 0.8177 - val_acc: 0.7508\n",
            "Epoch 10/100\n",
            "237/237 [==============================] - 104s 438ms/step - loss: 0.7668 - acc: 0.7357 - val_loss: 0.7034 - val_acc: 0.7712\n",
            "Epoch 11/100\n",
            "237/237 [==============================] - 103s 434ms/step - loss: 0.7345 - acc: 0.7420 - val_loss: 0.6387 - val_acc: 0.7948\n",
            "Epoch 12/100\n",
            "237/237 [==============================] - 104s 438ms/step - loss: 0.7088 - acc: 0.7465 - val_loss: 0.6705 - val_acc: 0.7927\n",
            "Epoch 13/100\n",
            "237/237 [==============================] - 104s 437ms/step - loss: 0.6886 - acc: 0.7559 - val_loss: 0.6437 - val_acc: 0.7905\n",
            "Epoch 14/100\n",
            "237/237 [==============================] - 103s 435ms/step - loss: 0.6237 - acc: 0.7757 - val_loss: 0.6399 - val_acc: 0.8088\n",
            "Epoch 15/100\n",
            "237/237 [==============================] - 103s 433ms/step - loss: 0.6356 - acc: 0.7684 - val_loss: 0.6812 - val_acc: 0.7766\n",
            "Epoch 16/100\n",
            "237/237 [==============================] - 103s 436ms/step - loss: 0.6125 - acc: 0.7876 - val_loss: 0.6648 - val_acc: 0.8034\n",
            "Epoch 17/100\n",
            "237/237 [==============================] - 102s 432ms/step - loss: 0.5736 - acc: 0.7905 - val_loss: 0.7514 - val_acc: 0.7777\n",
            "Epoch 18/100\n",
            "237/237 [==============================] - 102s 429ms/step - loss: 0.5461 - acc: 0.8090 - val_loss: 0.6200 - val_acc: 0.8067\n",
            "Epoch 19/100\n",
            "237/237 [==============================] - 101s 428ms/step - loss: 0.5481 - acc: 0.8082 - val_loss: 0.6237 - val_acc: 0.8314\n",
            "Epoch 20/100\n",
            "237/237 [==============================] - 104s 438ms/step - loss: 0.5583 - acc: 0.8063 - val_loss: 0.6240 - val_acc: 0.8174\n",
            "Epoch 21/100\n",
            "237/237 [==============================] - 102s 429ms/step - loss: 0.5245 - acc: 0.8080 - val_loss: 0.5322 - val_acc: 0.8228\n",
            "Epoch 22/100\n",
            "237/237 [==============================] - 102s 432ms/step - loss: 0.5441 - acc: 0.8069 - val_loss: 0.5574 - val_acc: 0.8410\n",
            "Epoch 23/100\n",
            "237/237 [==============================] - 103s 436ms/step - loss: 0.4948 - acc: 0.8222 - val_loss: 0.5773 - val_acc: 0.8410\n",
            "Epoch 24/100\n",
            "237/237 [==============================] - 102s 428ms/step - loss: 0.4864 - acc: 0.8269 - val_loss: 0.5243 - val_acc: 0.8496\n",
            "Epoch 25/100\n",
            "237/237 [==============================] - 103s 434ms/step - loss: 0.4759 - acc: 0.8240 - val_loss: 0.5642 - val_acc: 0.8271\n",
            "Epoch 26/100\n",
            "237/237 [==============================] - 102s 431ms/step - loss: 0.4629 - acc: 0.8340 - val_loss: 0.5753 - val_acc: 0.8153\n",
            "Epoch 27/100\n",
            "237/237 [==============================] - 103s 434ms/step - loss: 0.4556 - acc: 0.8369 - val_loss: 0.5198 - val_acc: 0.8625\n",
            "Epoch 28/100\n",
            "237/237 [==============================] - 102s 432ms/step - loss: 0.4646 - acc: 0.8334 - val_loss: 0.5917 - val_acc: 0.8400\n",
            "Epoch 29/100\n",
            "237/237 [==============================] - 103s 435ms/step - loss: 0.4587 - acc: 0.8347 - val_loss: 0.6103 - val_acc: 0.8303\n",
            "Epoch 30/100\n",
            "237/237 [==============================] - 103s 435ms/step - loss: 0.4100 - acc: 0.8525 - val_loss: 0.5024 - val_acc: 0.8550\n",
            "Epoch 31/100\n",
            "237/237 [==============================] - 104s 437ms/step - loss: 0.4282 - acc: 0.8450 - val_loss: 0.5122 - val_acc: 0.8496\n",
            "Epoch 32/100\n",
            "237/237 [==============================] - 104s 437ms/step - loss: 0.4438 - acc: 0.8478 - val_loss: 0.6000 - val_acc: 0.8410\n",
            "Epoch 33/100\n",
            "237/237 [==============================] - 106s 447ms/step - loss: 0.4173 - acc: 0.8530 - val_loss: 0.5199 - val_acc: 0.8496\n",
            "Epoch 34/100\n",
            "237/237 [==============================] - 104s 439ms/step - loss: 0.4138 - acc: 0.8481 - val_loss: 0.4996 - val_acc: 0.8485\n",
            "Epoch 35/100\n",
            "237/237 [==============================] - 105s 441ms/step - loss: 0.3952 - acc: 0.8536 - val_loss: 0.5357 - val_acc: 0.8647\n",
            "Epoch 36/100\n",
            "237/237 [==============================] - 105s 443ms/step - loss: 0.3953 - acc: 0.8519 - val_loss: 0.5468 - val_acc: 0.8604\n",
            "Epoch 37/100\n",
            "237/237 [==============================] - 106s 445ms/step - loss: 0.3721 - acc: 0.8571 - val_loss: 0.5720 - val_acc: 0.8507\n",
            "Epoch 38/100\n",
            "237/237 [==============================] - 104s 441ms/step - loss: 0.3786 - acc: 0.8613 - val_loss: 0.5370 - val_acc: 0.8561\n",
            "Epoch 39/100\n",
            "237/237 [==============================] - 104s 438ms/step - loss: 0.3732 - acc: 0.8662 - val_loss: 0.5408 - val_acc: 0.8550\n",
            "Epoch 40/100\n",
            "237/237 [==============================] - 105s 443ms/step - loss: 0.3596 - acc: 0.8705 - val_loss: 0.5019 - val_acc: 0.8539\n",
            "Epoch 41/100\n",
            "237/237 [==============================] - 103s 433ms/step - loss: 0.3546 - acc: 0.8680 - val_loss: 0.5536 - val_acc: 0.8636\n",
            "Epoch 42/100\n",
            "237/237 [==============================] - 105s 441ms/step - loss: 0.3533 - acc: 0.8690 - val_loss: 0.4714 - val_acc: 0.8776\n",
            "Epoch 43/100\n",
            "237/237 [==============================] - 102s 431ms/step - loss: 0.3649 - acc: 0.8635 - val_loss: 0.5153 - val_acc: 0.8711\n",
            "Epoch 44/100\n",
            "237/237 [==============================] - 104s 439ms/step - loss: 0.3417 - acc: 0.8769 - val_loss: 0.5264 - val_acc: 0.8657\n",
            "Epoch 45/100\n",
            "237/237 [==============================] - 103s 435ms/step - loss: 0.3202 - acc: 0.8801 - val_loss: 0.5084 - val_acc: 0.8604\n",
            "Epoch 46/100\n",
            "237/237 [==============================] - 104s 438ms/step - loss: 0.3292 - acc: 0.8757 - val_loss: 0.4762 - val_acc: 0.8722\n",
            "Epoch 47/100\n",
            "237/237 [==============================] - 104s 439ms/step - loss: 0.3322 - acc: 0.8782 - val_loss: 0.4624 - val_acc: 0.8926\n",
            "Epoch 48/100\n",
            "237/237 [==============================] - 104s 441ms/step - loss: 0.3508 - acc: 0.8660 - val_loss: 0.4594 - val_acc: 0.8636\n",
            "Epoch 49/100\n",
            "237/237 [==============================] - 104s 438ms/step - loss: 0.3176 - acc: 0.8831 - val_loss: 0.5191 - val_acc: 0.8733\n",
            "Epoch 50/100\n",
            "237/237 [==============================] - 104s 439ms/step - loss: 0.3320 - acc: 0.8773 - val_loss: 0.5524 - val_acc: 0.8561\n",
            "Epoch 51/100\n",
            "237/237 [==============================] - 103s 436ms/step - loss: 0.3116 - acc: 0.8886 - val_loss: 0.4403 - val_acc: 0.8894\n",
            "Epoch 52/100\n",
            "237/237 [==============================] - 104s 440ms/step - loss: 0.3083 - acc: 0.8840 - val_loss: 0.4821 - val_acc: 0.8765\n",
            "Epoch 53/100\n",
            "237/237 [==============================] - 105s 442ms/step - loss: 0.3082 - acc: 0.8922 - val_loss: 0.5431 - val_acc: 0.8700\n",
            "Epoch 54/100\n",
            "237/237 [==============================] - 103s 436ms/step - loss: 0.3065 - acc: 0.8913 - val_loss: 0.4332 - val_acc: 0.8808\n",
            "Epoch 55/100\n",
            "237/237 [==============================] - 104s 440ms/step - loss: 0.3053 - acc: 0.8899 - val_loss: 0.4307 - val_acc: 0.8829\n",
            "Epoch 56/100\n",
            "237/237 [==============================] - 105s 441ms/step - loss: 0.3015 - acc: 0.8867 - val_loss: 0.4256 - val_acc: 0.8711\n",
            "Epoch 57/100\n",
            "237/237 [==============================] - 104s 438ms/step - loss: 0.3024 - acc: 0.8895 - val_loss: 0.4815 - val_acc: 0.8690\n",
            "Epoch 58/100\n",
            "237/237 [==============================] - 104s 438ms/step - loss: 0.2916 - acc: 0.8895 - val_loss: 0.4150 - val_acc: 0.9001\n",
            "Epoch 59/100\n",
            "237/237 [==============================] - 104s 438ms/step - loss: 0.2887 - acc: 0.8941 - val_loss: 0.5232 - val_acc: 0.8894\n",
            "Epoch 60/100\n",
            "237/237 [==============================] - 103s 435ms/step - loss: 0.2786 - acc: 0.8997 - val_loss: 0.4842 - val_acc: 0.8829\n",
            "Epoch 61/100\n",
            "237/237 [==============================] - 104s 439ms/step - loss: 0.2794 - acc: 0.9019 - val_loss: 0.5465 - val_acc: 0.8623\n",
            "Epoch 62/100\n",
            "237/237 [==============================] - 105s 445ms/step - loss: 0.2762 - acc: 0.8995 - val_loss: 0.4118 - val_acc: 0.8969\n",
            "Epoch 63/100\n",
            "237/237 [==============================] - 106s 446ms/step - loss: 0.2859 - acc: 0.8978 - val_loss: 0.4285 - val_acc: 0.8861\n",
            "Epoch 64/100\n",
            "237/237 [==============================] - 103s 434ms/step - loss: 0.2650 - acc: 0.8954 - val_loss: 0.5063 - val_acc: 0.8786\n",
            "Epoch 65/100\n",
            "237/237 [==============================] - 106s 445ms/step - loss: 0.2749 - acc: 0.8937 - val_loss: 0.4424 - val_acc: 0.8851\n",
            "Epoch 66/100\n",
            "237/237 [==============================] - 104s 439ms/step - loss: 0.2688 - acc: 0.9016 - val_loss: 0.4699 - val_acc: 0.8958\n",
            "Epoch 67/100\n",
            "237/237 [==============================] - 103s 436ms/step - loss: 0.2490 - acc: 0.9083 - val_loss: 0.4071 - val_acc: 0.8915\n",
            "Epoch 68/100\n",
            "237/237 [==============================] - 104s 440ms/step - loss: 0.2806 - acc: 0.9007 - val_loss: 0.5906 - val_acc: 0.8722\n",
            "Epoch 69/100\n",
            "237/237 [==============================] - 105s 443ms/step - loss: 0.2563 - acc: 0.9090 - val_loss: 0.4481 - val_acc: 0.8937\n",
            "Epoch 70/100\n",
            "237/237 [==============================] - 107s 451ms/step - loss: 0.2673 - acc: 0.8993 - val_loss: 0.3893 - val_acc: 0.8915\n",
            "Epoch 71/100\n",
            "237/237 [==============================] - 107s 452ms/step - loss: 0.2446 - acc: 0.9072 - val_loss: 0.5331 - val_acc: 0.8604\n",
            "Epoch 72/100\n",
            "237/237 [==============================] - 107s 451ms/step - loss: 0.2766 - acc: 0.8979 - val_loss: 0.3917 - val_acc: 0.9076\n",
            "Epoch 73/100\n",
            "237/237 [==============================] - 107s 452ms/step - loss: 0.2625 - acc: 0.9005 - val_loss: 0.4795 - val_acc: 0.8926\n",
            "Epoch 74/100\n",
            "237/237 [==============================] - 108s 455ms/step - loss: 0.2300 - acc: 0.9130 - val_loss: 0.4324 - val_acc: 0.9033\n",
            "Epoch 75/100\n",
            "237/237 [==============================] - 105s 443ms/step - loss: 0.2557 - acc: 0.9063 - val_loss: 0.5058 - val_acc: 0.8872\n",
            "Epoch 76/100\n",
            "237/237 [==============================] - 105s 443ms/step - loss: 0.2491 - acc: 0.9071 - val_loss: 0.3836 - val_acc: 0.9001\n",
            "Epoch 77/100\n",
            "237/237 [==============================] - 105s 443ms/step - loss: 0.2311 - acc: 0.9160 - val_loss: 0.4744 - val_acc: 0.8818\n",
            "Epoch 78/100\n",
            "237/237 [==============================] - 105s 442ms/step - loss: 0.2721 - acc: 0.9005 - val_loss: 0.4207 - val_acc: 0.8947\n",
            "Epoch 79/100\n",
            "237/237 [==============================] - 107s 451ms/step - loss: 0.2258 - acc: 0.9131 - val_loss: 0.3789 - val_acc: 0.8980\n",
            "Epoch 80/100\n",
            "237/237 [==============================] - 106s 447ms/step - loss: 0.2365 - acc: 0.9182 - val_loss: 0.4293 - val_acc: 0.8958\n",
            "Epoch 81/100\n",
            "237/237 [==============================] - 106s 446ms/step - loss: 0.2381 - acc: 0.9133 - val_loss: 0.4015 - val_acc: 0.8937\n",
            "Epoch 82/100\n",
            "237/237 [==============================] - 106s 449ms/step - loss: 0.2354 - acc: 0.9097 - val_loss: 0.4720 - val_acc: 0.8926\n",
            "Epoch 83/100\n",
            "237/237 [==============================] - 106s 446ms/step - loss: 0.2229 - acc: 0.9127 - val_loss: 0.3973 - val_acc: 0.8969\n",
            "Epoch 84/100\n",
            "237/237 [==============================] - 106s 447ms/step - loss: 0.2270 - acc: 0.9160 - val_loss: 0.3922 - val_acc: 0.9023\n",
            "Epoch 85/100\n",
            "237/237 [==============================] - 107s 452ms/step - loss: 0.2305 - acc: 0.9140 - val_loss: 0.3863 - val_acc: 0.8990\n",
            "Epoch 86/100\n",
            "237/237 [==============================] - 103s 434ms/step - loss: 0.2378 - acc: 0.9130 - val_loss: 0.3684 - val_acc: 0.8958\n",
            "Epoch 87/100\n",
            "237/237 [==============================] - 107s 451ms/step - loss: 0.2356 - acc: 0.9134 - val_loss: 0.4576 - val_acc: 0.8915\n",
            "Epoch 88/100\n",
            "237/237 [==============================] - 105s 444ms/step - loss: 0.2189 - acc: 0.9176 - val_loss: 0.4080 - val_acc: 0.9087\n",
            "Epoch 89/100\n",
            "237/237 [==============================] - 106s 446ms/step - loss: 0.2138 - acc: 0.9194 - val_loss: 0.4315 - val_acc: 0.8894\n",
            "Epoch 90/100\n",
            "237/237 [==============================] - 105s 445ms/step - loss: 0.2200 - acc: 0.9159 - val_loss: 0.3861 - val_acc: 0.9023\n",
            "Epoch 91/100\n",
            "237/237 [==============================] - 104s 440ms/step - loss: 0.2033 - acc: 0.9238 - val_loss: 0.5062 - val_acc: 0.8894\n",
            "Epoch 92/100\n",
            "237/237 [==============================] - 104s 439ms/step - loss: 0.2177 - acc: 0.9239 - val_loss: 0.4058 - val_acc: 0.9151\n",
            "Epoch 93/100\n",
            "237/237 [==============================] - 103s 435ms/step - loss: 0.1968 - acc: 0.9205 - val_loss: 0.3979 - val_acc: 0.8969\n",
            "Epoch 94/100\n",
            "237/237 [==============================] - 105s 444ms/step - loss: 0.2062 - acc: 0.9210 - val_loss: 0.4010 - val_acc: 0.8990\n",
            "Epoch 95/100\n",
            "237/237 [==============================] - 105s 443ms/step - loss: 0.2059 - acc: 0.9210 - val_loss: 0.4227 - val_acc: 0.9055\n",
            "Epoch 96/100\n",
            "237/237 [==============================] - 104s 440ms/step - loss: 0.1914 - acc: 0.9317 - val_loss: 0.4711 - val_acc: 0.9066\n",
            "Epoch 97/100\n",
            "237/237 [==============================] - 104s 438ms/step - loss: 0.1907 - acc: 0.9299 - val_loss: 0.3601 - val_acc: 0.9098\n",
            "Epoch 98/100\n",
            "237/237 [==============================] - 104s 440ms/step - loss: 0.2176 - acc: 0.9183 - val_loss: 0.4874 - val_acc: 0.8851\n",
            "Epoch 99/100\n",
            "237/237 [==============================] - 105s 444ms/step - loss: 0.1944 - acc: 0.9296 - val_loss: 0.4702 - val_acc: 0.8980\n",
            "Epoch 100/100\n",
            "237/237 [==============================] - 102s 432ms/step - loss: 0.2067 - acc: 0.9216 - val_loss: 0.4397 - val_acc: 0.9119\n"
          ],
          "name": "stdout"
        }
      ]
    },
    {
      "cell_type": "code",
      "metadata": {
        "id": "Cy8LUASD3Sox",
        "colab_type": "code",
        "outputId": "5f5edb88-a22f-4782-f6cc-427da40f5549",
        "colab": {
          "base_uri": "https://localhost:8080/",
          "height": 573
        }
      },
      "source": [
        "plt.plot(history.history['acc'])\n",
        "plt.plot(history.history['val_acc'])\n",
        "plt.title('model accuracy')\n",
        "plt.ylabel('accuracy')\n",
        "plt.xlabel('epoch')\n",
        "plt.legend(['train', 'test'], loc='upper left')\n",
        "plt.show()\n",
        "# summarize history for loss\n",
        "plt.plot(history.history['loss'])\n",
        "plt.plot(history.history['val_loss'])\n",
        "plt.title('model loss')\n",
        "plt.ylabel('loss')\n",
        "plt.xlabel('epoch')\n",
        "plt.legend(['train', 'test'], loc='upper left')\n",
        "plt.show()"
      ],
      "execution_count": 0,
      "outputs": [
        {
          "output_type": "display_data",
          "data": {
            "image/png": "[encoded data removed]",
            "text/plain": [
              "<Figure size 432x288 with 1 Axes>"
            ]
          },
          "metadata": {
            "tags": []
          }
        },
        {
          "output_type": "display_data",
          "data": {
            "image/png": "[encoded data removed]",
            "text/plain": [
              "<Figure size 432x288 with 1 Axes>"
            ]
          },
          "metadata": {
            "tags": []
          }
        }
      ]
    },
    {
      "cell_type": "code",
      "metadata": {
        "id": "Rsfl0jnOY8bg",
        "colab_type": "code",
        "outputId": "8ec32ca4-27f8-4669-833e-1829bd55a903",
        "colab": {
          "base_uri": "https://localhost:8080/",
          "height": 34
        }
      },
      "source": [
        "scores = model.evaluate_generator(train_generator,50) \n",
        "scores"
      ],
      "execution_count": 0,
      "outputs": [
        {
          "output_type": "execute_result",
          "data": {
            "text/plain": [
              "[0.25803041173145175, 0.9425]"
            ]
          },
          "metadata": {
            "tags": []
          },
          "execution_count": 26
        }
      ]
    },
    {
      "cell_type": "code",
      "metadata": {
        "id": "1TnuomZUY9-R",
        "colab_type": "code",
        "outputId": "eabb8640-43ae-487b-a74b-61b05ddd97dd",
        "colab": {
          "base_uri": "https://localhost:8080/",
          "height": 34
        }
      },
      "source": [
        "scores = model.evaluate_generator(validation_generator,50) \n",
        "scores"
      ],
      "execution_count": 0,
      "outputs": [
        {
          "output_type": "execute_result",
          "data": {
            "text/plain": [
              "[0.44696411647833884, 0.90375]"
            ]
          },
          "metadata": {
            "tags": []
          },
          "execution_count": 27
        }
      ]
    },
    {
      "cell_type": "code",
      "metadata": {
        "id": "Le9G43jHZI9m",
        "colab_type": "code",
        "outputId": "0cb5f0a7-b5f2-4c45-944b-5832fbc19f05",
        "colab": {
          "base_uri": "https://localhost:8080/",
          "height": 969
        }
      },
      "source": [
        "validation_generator.classes"
      ],
      "execution_count": 0,
      "outputs": [
        {
          "output_type": "execute_result",
          "data": {
            "text/plain": [
              "array([ 0,  0,  0,  0,  0,  0,  0,  0,  0,  0,  0,  0,  0,  0,  0,  0,  0,\n",
              "        0,  0,  0,  0,  0,  0,  0,  0,  0,  0,  0,  0,  0,  0,  0,  0,  0,\n",
              "        0,  0,  0,  0,  0,  0,  0,  0,  0,  0,  0,  0,  0,  0,  0,  0,  0,\n",
              "        0,  1,  1,  1,  1,  1,  1,  1,  1,  1,  1,  1,  1,  1,  1,  1,  1,\n",
              "        1,  1,  1,  1,  1,  1,  1,  1,  1,  1,  1,  1,  1,  1,  1,  1,  1,\n",
              "        1,  1,  1,  1,  1,  1,  1,  1,  1,  1,  1,  1,  1,  1,  1,  1,  1,\n",
              "        1,  1,  1,  1,  1,  1,  1,  1,  1,  1,  1,  1,  1,  1,  1,  1,  1,\n",
              "        1,  1,  1,  1,  1,  1,  1,  1,  1,  1,  1,  2,  2,  2,  2,  2,  2,\n",
              "        2,  2,  2,  2,  2,  2,  2,  2,  2,  2,  2,  2,  2,  2,  2,  2,  2,\n",
              "        2,  2,  2,  2,  2,  2,  2,  2,  2,  2,  2,  2,  2,  2,  2,  2,  2,\n",
              "        2,  2,  2,  2,  2,  2,  2,  2,  2,  2,  2,  2,  2,  2,  2,  2,  2,\n",
              "        3,  3,  3,  3,  3,  3,  3,  3,  3,  3,  3,  3,  3,  3,  3,  3,  3,\n",
              "        3,  3,  3,  3,  3,  3,  3,  3,  3,  3,  3,  3,  3,  3,  3,  3,  3,\n",
              "        3,  3,  3,  3,  3,  3,  3,  3,  3,  3,  3,  3,  3,  3,  3,  3,  3,\n",
              "        3,  3,  3,  3,  3,  3,  3,  3,  3,  3,  3,  3,  3,  3,  3,  3,  3,\n",
              "        3,  3,  3,  3,  3,  3,  3,  3,  3,  3,  3,  3,  3,  3,  3,  3,  3,\n",
              "        3,  3,  3,  3,  3,  3,  3,  3,  3,  3,  3,  3,  3,  3,  3,  3,  3,\n",
              "        3,  3,  3,  3,  3,  3,  3,  3,  3,  3,  3,  3,  3,  3,  3,  3,  3,\n",
              "        3,  3,  3,  4,  4,  4,  4,  4,  4,  4,  4,  4,  4,  4,  4,  4,  4,\n",
              "        4,  4,  4,  4,  4,  4,  4,  4,  4,  4,  4,  4,  4,  4,  4,  4,  4,\n",
              "        4,  4,  4,  4,  4,  4,  4,  4,  4,  4,  4,  4,  4,  5,  5,  5,  5,\n",
              "        5,  5,  5,  5,  5,  5,  5,  5,  5,  5,  5,  5,  5,  5,  5,  5,  5,\n",
              "        5,  5,  5,  5,  5,  5,  5,  5,  5,  5,  5,  5,  5,  5,  5,  5,  5,\n",
              "        5,  5,  5,  5,  5,  5,  5,  5,  5,  5,  5,  5,  5,  5,  5,  5,  5,\n",
              "        5,  5,  5,  5,  5,  5,  5,  5,  5,  5,  5,  5,  5,  5,  5,  5,  5,\n",
              "        5,  5,  5,  5,  5,  5,  5,  5,  5,  5,  5,  5,  5,  5,  5,  5,  5,\n",
              "        5,  5,  5,  5,  5,  5,  6,  6,  6,  6,  6,  6,  6,  6,  6,  6,  6,\n",
              "        6,  6,  6,  6,  6,  6,  6,  6,  6,  6,  6,  6,  6,  6,  6,  6,  6,\n",
              "        6,  6,  6,  6,  6,  6,  6,  6,  6,  6,  6,  6,  6,  6,  6,  6,  6,\n",
              "        6,  6,  6,  6,  6,  6,  6,  6,  6,  6,  6,  6,  6,  6,  6,  6,  6,\n",
              "        6,  6,  6,  6,  6,  6,  6,  6,  6,  6,  6,  6,  6,  6,  6,  6,  6,\n",
              "        6,  6,  6,  6,  6,  6,  6,  6,  6,  6,  6,  6,  6,  6,  6,  6,  6,\n",
              "        6,  6,  6,  6,  6,  6,  6,  6,  6,  6,  6,  6,  6,  6,  6,  6,  6,\n",
              "        6,  6,  6,  6,  6,  6,  6,  6,  6,  6,  6,  6,  6,  6,  6,  6,  6,\n",
              "        7,  7,  7,  7,  7,  7,  7,  7,  7,  7,  7,  7,  7,  7,  7,  7,  7,\n",
              "        7,  7,  7,  7,  7,  7,  7,  7,  7,  7,  7,  7,  7,  7,  7,  7,  7,\n",
              "        7,  7,  7,  7,  7,  7,  7,  7,  7,  7,  8,  8,  8,  8,  8,  8,  8,\n",
              "        8,  8,  8,  8,  8,  8,  8,  8,  8,  8,  8,  8,  8,  8,  8,  8,  8,\n",
              "        8,  8,  8,  8,  8,  8,  8,  8,  8,  8,  8,  8,  8,  8,  8,  8,  8,\n",
              "        8,  8,  8,  8,  8,  8,  8,  8,  8,  8,  8,  8,  8,  8,  8,  8,  8,\n",
              "        8,  8,  8,  8,  8,  8,  8,  8,  8,  8,  8,  8,  8,  8,  8,  8,  8,\n",
              "        8,  8,  8,  8,  8,  8,  8,  8,  8,  8,  8,  8,  8,  8,  8,  8,  8,\n",
              "        8,  8,  8,  8,  8,  8,  8,  8,  8,  8,  8,  9,  9,  9,  9,  9,  9,\n",
              "        9,  9,  9,  9,  9,  9,  9,  9,  9,  9,  9,  9,  9,  9,  9,  9,  9,\n",
              "        9,  9,  9,  9,  9,  9,  9,  9,  9,  9,  9,  9,  9,  9,  9,  9,  9,\n",
              "        9,  9,  9,  9,  9,  9, 10, 10, 10, 10, 10, 10, 10, 10, 10, 10, 10,\n",
              "       10, 10, 10, 10, 10, 10, 10, 10, 10, 10, 10, 10, 10, 10, 10, 10, 10,\n",
              "       10, 10, 10, 10, 10, 10, 10, 10, 10, 10, 10, 10, 10, 10, 10, 10, 10,\n",
              "       10, 10, 10, 10, 10, 10, 10, 10, 10, 10, 10, 10, 10, 10, 10, 10, 10,\n",
              "       10, 10, 10, 10, 10, 10, 10, 10, 10, 10, 10, 10, 10, 10, 10, 10, 10,\n",
              "       10, 10, 10, 10, 10, 10, 10, 10, 10, 10, 10, 10, 10, 10, 10, 10, 10,\n",
              "       10, 10, 10, 11, 11, 11, 11, 11, 11, 11, 11, 11, 11, 11, 11, 11, 11,\n",
              "       11, 11, 11, 11, 11, 11, 11, 11, 11, 11, 11, 11, 11, 11, 11, 11, 11,\n",
              "       11, 11, 11, 11, 11, 11, 11, 11, 11, 11, 11, 11, 11, 11, 11, 11, 11,\n",
              "       11, 11, 11, 11, 11, 11, 11, 11, 11, 11, 11, 11, 11, 11, 11, 11, 11,\n",
              "       11, 11, 11, 11, 11, 11, 11, 11, 11, 11, 11, 11], dtype=int32)"
            ]
          },
          "metadata": {
            "tags": []
          },
          "execution_count": 28
        }
      ]
    },
    {
      "cell_type": "code",
      "metadata": {
        "id": "qm2OO_tOZOwM",
        "colab_type": "code",
        "outputId": "224421ec-d350-4f84-f099-a5d5f608bbae",
        "colab": {
          "base_uri": "https://localhost:8080/",
          "height": 632
        }
      },
      "source": [
        "pred= model.predict_generator(validation_generator, 50)\n",
        "predicted_class_indices=np.argmax(pred,axis=1)\n",
        "print(predicted_class_indices)\n",
        "labels = (validation_generator.class_indices)\n",
        "print (labels)"
      ],
      "execution_count": 0,
      "outputs": [
        {
          "output_type": "stream",
          "text": [
            "[ 7  7  1  0  3  3  3  3  6 10  5  5  8  3  3 10  5  6  7  3  6  2  8 11\n",
            "  3  8  5  1  1  8  8  3  3  0  1  1  8  5  6  4  6  6  1 11  0  8  7  6\n",
            "  9  5  4  0  9  3  6 10  0  2 10  1  1  1  6  8  6  0  7 11  3  7  9 10\n",
            "  7  6  6  6  9  4  5  1  3  5 10  2 11  5  3  6  7  9 11  8 10 11  4  6\n",
            "  6 11  8  8 10  7  6  3  3 10  5 11  6  5  3  6  5  8 11  3  6  3  6 11\n",
            "  6  4  2  5  8  6 11  1  9 11  6  1  3  4  3  2  1  6  5  6  4  1  3  0\n",
            " 11  0  5  6 10  0  6  5  6  2  8  6  3  5  3 11  8  9  5  5  8  8 11 11\n",
            "  3  8  3  3  5  6 10  9 11  5  6  6  1  6 11  3  0 11  5  6  3 10  6  3\n",
            "  2  8  6  1  3  3  4  3  2  4  1  9  5  1  5  3  8  3 10  4  2  6  5  5\n",
            " 11  7  3  3  8  8  7  5  6 10 10  8  1  9  5  8  1  7 10  3  3  7  6  2\n",
            "  6 10  1  5  9  4  6  7  3  9  1  3  9  4  1  6  7  1 11  5  3  8  6  4\n",
            "  7  3 11  3  6  1 10  3  1  5  5 11  3 11 11  3  3 10  9  6  8  4  1 11\n",
            "  2  6 10  7  2  8  3  6  9  6  1  6  8 10 11  1  3  8  8 11  7  4  8  7\n",
            "  9  9  8  1  2  6  9  2  5  6  1  1 10 11  7 10  1  6  8  2 10  3  1  6\n",
            "  2 10  5  0  8  1  8  3  6  7  7  6  1  7  6  5  5  8  6  0  1  6  8  4\n",
            "  3  6 11 11  1  2  2  7  8  6  3  3  3  7  6  0 10  0  3  8  2  3  4 11\n",
            "  6  7 10  6  3  4 10  2  6  6 10  6  1 10  3  8  6  6  6  2  2  8 11 10\n",
            "  7 10  5 11  0 10 10  5  8 11  2  8  0  3 11  8 10  6 10  4  8  9  2 10\n",
            "  3  1  0  6  8  7  7  5  5  7  9  6 10  8  2  8  8  8  6  8  6  7  8  3\n",
            " 10 10  5  6  9 11 10  3  3  4  8  5  8  8  6  6  2  5  3  4  3  6  6  6\n",
            "  8  0  2  4  4  1  5 10  3  1  1  6  6  0  5  3  8  9  6  5  3  3  6  5\n",
            "  6  6  1  3  4  9  6  1  0  8 11  6  9  5  2  5  6  1  7  8 11  3  8 11\n",
            " 11  5 11 10 10  6  6  8  0  3 10  3 10 11 11 10 10  5  6  5  6  3 10  3\n",
            "  6  6  1  9 11  8  3  3  9 11  5  9 11  8  5  8 10  8 10  1  6  5 11  6\n",
            "  1  4 10  4  8  7  7  2 10  2  3  6 11  8  1 10  1  5 10  0 10  7  6  0\n",
            "  8  8  6  9  1 10  0 11  5  6  8  1  8  6  6 10  6  7  8  5  6  5  1  5\n",
            "  6  8  2  8  7  3  2  3  8 10  8 11  1  8  3  6  1  1 10  5  8  7  6  3\n",
            "  2  1  4  5  5 10  6  3  1  3  6  5  4  8  1  0  6  5  4 10  4  6  2  3\n",
            "  1 10  1  3  3  3  1  4  7  2  6 10  8  6  9  5  6  4 11 10  5  3  6  1\n",
            "  1  6  2  8  9  8  9  8  1  2  8  5  9 10  2  1  1 11  8  3  2  2  1  6\n",
            "  1 10  7  8  5  4  3  1  1  3 10  8  3 11  9  6  5 10  3  7  3  7 11 10\n",
            " 10  7  3  8 10  1  5  1  5  6 10  8  3  2 10  8  0  5  1  2  4  8  6 10\n",
            " 10  6  2  3  3  5 10  6  1  5  5 10  7 10  3  8  6  3  3  8  3  6  8  3\n",
            "  4  2 10  9 11 11 10  6]\n",
            "{'Black-grass': 0, 'Charlock': 1, 'Cleavers': 2, 'Common Chickweed': 3, 'Common wheat': 4, 'Fat Hen': 5, 'Loose Silky-bent': 6, 'Maize': 7, 'Scentless Mayweed': 8, 'Shepherds Purse': 9, 'Small-flowered Cranesbill': 10, 'Sugar beet': 11}\n"
          ],
          "name": "stdout"
        }
      ]
    },
    {
      "cell_type": "markdown",
      "metadata": {
        "id": "OdcAWb0B5HhR",
        "colab_type": "text"
      },
      "source": [
        "## Comparison\n",
        "\n",
        "1. Model take longer time to get trained, Transfer learing even took longer for each epoch\n",
        "2. Accuracy of the model with transfer learning is in same range with CNN model without Tr Learning. Not sure what else needs to be done. Please advise."
      ]
    },
    {
      "cell_type": "markdown",
      "metadata": {
        "id": "S6xlOiql4KOe",
        "colab_type": "text"
      },
      "source": [
        "## Get output class for test data "
      ]
    },
    {
      "cell_type": "code",
      "metadata": {
        "id": "90IeKetNV2gg",
        "colab_type": "code",
        "outputId": "55016a46-32cb-48a8-bc9e-a3779c00da5f",
        "colab": {
          "base_uri": "https://localhost:8080/",
          "height": 51
        }
      },
      "source": [
        "def read_img(img_list, img):\n",
        "    n = cv2.imread(img, 1)\n",
        "    arr = img_to_array(n)  \n",
        "    print(arr.shape)\n",
        "    arr = cv2.resize(arr, (150,150)) #Numpy array with shape (HEIGHT, WIDTH,3)\n",
        "    print(arr.shape)\n",
        "    img_list.append(arr)\n",
        "    return img_list\n",
        "\n",
        "#path = glob.glob(\"/content/drive/My Drive/Projects/CNN/test/ffc6f8527.png\") #or jpg\n",
        "#path = glob.glob(\"/content/drive/My Drive/Projects/CNN/train/Black-grass/f5ca3d442.png\") \n",
        "path = glob.glob(\"/content/drive/My Drive/Projects/CNN/train/Maize/ff4b55219.png\") \n",
        "\n",
        "list_ = []\n",
        "\n",
        "cv_image = [read_img(list_, img) for img in path]"
      ],
      "execution_count": 0,
      "outputs": [
        {
          "output_type": "stream",
          "text": [
            "(383, 383, 3)\n",
            "(150, 150, 3)\n"
          ],
          "name": "stdout"
        }
      ]
    },
    {
      "cell_type": "code",
      "metadata": {
        "id": "I5ac5ax09nCl",
        "colab_type": "code",
        "outputId": "e8f6a6be-1b1b-48e4-f4bc-56ba68c19cd6",
        "colab": {
          "base_uri": "https://localhost:8080/",
          "height": 34
        }
      },
      "source": [
        "cv_image = np.array(cv_image)\n",
        "cv_image.shape"
      ],
      "execution_count": 0,
      "outputs": [
        {
          "output_type": "execute_result",
          "data": {
            "text/plain": [
              "(1, 1, 150, 150, 3)"
            ]
          },
          "metadata": {
            "tags": []
          },
          "execution_count": 56
        }
      ]
    },
    {
      "cell_type": "code",
      "metadata": {
        "id": "Yp9iqE3mNOOU",
        "colab_type": "code",
        "colab": {}
      },
      "source": [
        "cv_image = np.squeeze(cv_image, axis=0)"
      ],
      "execution_count": 0,
      "outputs": []
    },
    {
      "cell_type": "code",
      "metadata": {
        "id": "rbTlwWL_D9kd",
        "colab_type": "code",
        "outputId": "57f29c59-a4c0-4ada-e9e9-c3d886a24c95",
        "colab": {
          "base_uri": "https://localhost:8080/",
          "height": 34
        }
      },
      "source": [
        "cv_image.shape"
      ],
      "execution_count": 0,
      "outputs": [
        {
          "output_type": "execute_result",
          "data": {
            "text/plain": [
              "(1, 150, 150, 3)"
            ]
          },
          "metadata": {
            "tags": []
          },
          "execution_count": 49
        }
      ]
    },
    {
      "cell_type": "code",
      "metadata": {
        "id": "5kLYgFiC-C_u",
        "colab_type": "code",
        "colab": {}
      },
      "source": [
        "cv_image = (cv_image) / 255.0"
      ],
      "execution_count": 0,
      "outputs": []
    },
    {
      "cell_type": "code",
      "metadata": {
        "id": "v6Iwe2ZGu5US",
        "colab_type": "code",
        "outputId": "ccdd3d41-a94f-4be5-ed0e-3f1fb399eaad",
        "colab": {
          "base_uri": "https://localhost:8080/",
          "height": 102
        }
      },
      "source": [
        "yFit = model.predict(cv_image, verbose=1)\n",
        "yFit"
      ],
      "execution_count": 0,
      "outputs": [
        {
          "output_type": "stream",
          "text": [
            "\r1/1 [==============================] - 0s 41ms/step\n"
          ],
          "name": "stdout"
        },
        {
          "output_type": "execute_result",
          "data": {
            "text/plain": [
              "array([[4.5880071e-05, 1.5040155e-01, 2.9502070e-01, 1.4537032e-03,\n",
              "        3.2706201e-04, 6.3517421e-02, 1.4701315e-05, 4.7226670e-01,\n",
              "        3.8576207e-05, 1.1027932e-04, 1.3519833e-02, 3.2835854e-03]],\n",
              "      dtype=float32)"
            ]
          },
          "metadata": {
            "tags": []
          },
          "execution_count": 59
        }
      ]
    },
    {
      "cell_type": "code",
      "metadata": {
        "id": "0c1dNlx85XjO",
        "colab_type": "code",
        "outputId": "ec889bdb-31f0-4066-d1c3-88883e9f70ed",
        "colab": {
          "base_uri": "https://localhost:8080/",
          "height": 51
        }
      },
      "source": [
        "pred= model.predict(cv_image, verbose=1)\n",
        "predicted_class_indices=np.argmax(pred,axis=1)\n",
        "print(predicted_class_indices)"
      ],
      "execution_count": 0,
      "outputs": [
        {
          "output_type": "stream",
          "text": [
            "\r1/1 [==============================] - 0s 31ms/step\n",
            "[7]\n"
          ],
          "name": "stdout"
        }
      ]
    },
    {
      "cell_type": "code",
      "metadata": {
        "id": "lkwFB05g6zVt",
        "colab_type": "code",
        "outputId": "0bb60f12-9b72-44d7-c6b4-fbe35b454583",
        "colab": {
          "base_uri": "https://localhost:8080/",
          "height": 54
        }
      },
      "source": [
        "print(validation_generator.class_indices)"
      ],
      "execution_count": 0,
      "outputs": [
        {
          "output_type": "stream",
          "text": [
            "{'Black-grass': 0, 'Charlock': 1, 'Cleavers': 2, 'Common Chickweed': 3, 'Common wheat': 4, 'Fat Hen': 5, 'Loose Silky-bent': 6, 'Maize': 7, 'Scentless Mayweed': 8, 'Shepherds Purse': 9, 'Small-flowered Cranesbill': 10, 'Sugar beet': 11}\n"
          ],
          "name": "stdout"
        }
      ]
    },
    {
      "cell_type": "markdown",
      "metadata": {
        "id": "n_eh0Dol7j3a",
        "colab_type": "text"
      },
      "source": [
        "# It predicted correctly the image of a Maize seedling."
      ]
    },
    {
      "cell_type": "markdown",
      "metadata": {
        "id": "fKJIThoYC7GX",
        "colab_type": "text"
      },
      "source": [
        "# This is the actual image ->"
      ]
    },
    {
      "cell_type": "code",
      "metadata": {
        "id": "nGqLA8vY60IR",
        "colab_type": "code",
        "outputId": "4059380f-adcb-4b63-8c35-f46c1ddc8106",
        "colab": {
          "base_uri": "https://localhost:8080/",
          "height": 269
        }
      },
      "source": [
        "#from keras.preprocessing.image import load_img\n",
        "import skimage.io as io\n",
        "# load the image\n",
        "#img = load_img(\"/content/drive/My Drive/Projects/CNN/train/Maize/ff4b55219.png\")\n",
        "\n",
        "#img.show()\n",
        "\n",
        "img = io.imread(\"/content/drive/My Drive/Projects/CNN/train/Maize/ff4b55219.png\")\n",
        "plt.imshow(img)\n",
        "plt.show()"
      ],
      "execution_count": 0,
      "outputs": [
        {
          "output_type": "display_data",
          "data": {
            "image/png": "[encoded data removed]",
            "text/plain": [
              "<Figure size 432x288 with 1 Axes>"
            ]
          },
          "metadata": {
            "tags": []
          }
        }
      ]
    }
  ]
}