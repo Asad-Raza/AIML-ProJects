{
 "cells": [
  {
   "cell_type": "markdown",
   "metadata": {
    "colab_type": "text",
    "id": "NFfDTfhlaEI_"
   },
   "source": [
    "# Transfer Learning MNIST"
   ]
  },
  {
   "cell_type": "markdown",
   "metadata": {
    "colab_type": "text",
    "id": "rNwbqCFRaEJC"
   },
   "source": [
    "* Train a simple convnet on the MNIST dataset the first 5 digits [0-4].\n",
    "* Freeze convolutional layers and fine-tune dense layers for the classification of digits [5-9]."
   ]
  },
  {
   "cell_type": "markdown",
   "metadata": {
    "colab_type": "text",
    "id": "5Dnzaw1i5sXF"
   },
   "source": [
    "## MNIST Dataset\n",
    "The MNIST database contains 60,000 training images and 10,000 testing images taken from American Census Bureau employees and American high school students. The MNIST dataset is one of the most common datasets used for image classification and accessible from many different sources. In fact, even Tensorflow and Keras allow us to import and download the MNIST dataset directly from their API."
   ]
  },
  {
   "cell_type": "markdown",
   "metadata": {
    "colab_type": "text",
    "id": "bpUULy1Z5sXF"
   },
   "source": [
    "Let's import keras and load MNIST dataset"
   ]
  },
  {
   "cell_type": "code",
   "execution_count": 0,
   "metadata": {
    "colab": {},
    "colab_type": "code",
    "id": "KiG7IPhm5sXG"
   },
   "outputs": [],
   "source": [
    "# Initialize the random number generator\n",
    "import random\n",
    "random.seed(0)\n",
    "\n",
    "import warnings\n",
    "warnings.filterwarnings(\"ignore\")"
   ]
  },
  {
   "cell_type": "code",
   "execution_count": 0,
   "metadata": {
    "colab": {
     "base_uri": "https://localhost:8080/",
     "height": 35
    },
    "colab_type": "code",
    "id": "-8czOT4yLZLM",
    "outputId": "6967f21e-91b5-4009-eb1c-699f516cd0d5"
   },
   "outputs": [
    {
     "name": "stdout",
     "output_type": "stream",
     "text": [
      "Drive already mounted at /drive; to attempt to forcibly remount, call drive.mount(\"/drive\", force_remount=True).\n"
     ]
    }
   ],
   "source": [
    "from google.colab import drive\n",
    "drive.mount('/drive')"
   ]
  },
  {
   "cell_type": "code",
   "execution_count": 0,
   "metadata": {
    "colab": {},
    "colab_type": "code",
    "id": "ZqUiJM_Z5sXL"
   },
   "outputs": [],
   "source": [
    "from keras.backend import backend\n",
    "from keras.datasets import mnist\n",
    "\n",
    "# the data, shuffled and split between train and test sets\n",
    "(X_train, y_train), (X_test, y_test) = mnist.load_data()"
   ]
  },
  {
   "cell_type": "markdown",
   "metadata": {
    "colab_type": "text",
    "id": "RVw4wsuW5sXO"
   },
   "source": [
    "X_train and X_test contain greyscale RGB codes (from 0 to 255) while y_train and y_test contains labels from 0 to 9 which represents which number they actually are."
   ]
  },
  {
   "cell_type": "markdown",
   "metadata": {
    "colab_type": "text",
    "id": "xgQ86Vhw5sXP"
   },
   "source": [
    "Let's visualize some numbers using matplotlib"
   ]
  },
  {
   "cell_type": "code",
   "execution_count": 0,
   "metadata": {
    "colab": {
     "base_uri": "https://localhost:8080/",
     "height": 306
    },
    "colab_type": "code",
    "id": "VZwg00gO5sXQ",
    "outputId": "f3c5dd25-6690-40f4-853c-9e57dc7ee041"
   },
   "outputs": [
    {
     "name": "stdout",
     "output_type": "stream",
     "text": [
      "Label: 0\n"
     ]
    },
    {
     "data": {
      "text/plain": [
       "<matplotlib.image.AxesImage at 0x7f18d9045cf8>"
      ]
     },
     "execution_count": 57,
     "metadata": {
      "tags": []
     },
     "output_type": "execute_result"
    },
    {
     "data": {
      "image/png": "[encoded data removed]",
      "text/plain": [
       "<Figure size 432x288 with 1 Axes>"
      ]
     },
     "metadata": {
      "tags": []
     },
     "output_type": "display_data"
    }
   ],
   "source": [
    "import matplotlib.pyplot as plt\n",
    "%matplotlib inline\n",
    "print(\"Label: {}\".format(y_train[1000]))\n",
    "plt.imshow(X_train[1000], cmap='gray')"
   ]
  },
  {
   "cell_type": "markdown",
   "metadata": {
    "colab_type": "text",
    "id": "p64mhwp95sXS"
   },
   "source": [
    "## Question 1"
   ]
  },
  {
   "cell_type": "markdown",
   "metadata": {
    "colab_type": "text",
    "id": "XxNAiWYd5sXT"
   },
   "source": [
    "### Create two datasets\n",
    "- First having digits from 0 to 4\n",
    "- Second having digits from 5 to 9\n",
    "\n",
    "Hint: use labels to separate data"
   ]
  },
  {
   "cell_type": "code",
   "execution_count": 0,
   "metadata": {
    "colab": {},
    "colab_type": "code",
    "id": "1807m1CL5sXT"
   },
   "outputs": [],
   "source": [
    "import numpy as np\n",
    "import pandas as pd\n",
    "import keras\n",
    "from keras.models import Sequential\n",
    "from keras.layers import Dense, Activation, Dropout, Flatten, Reshape\n",
    "from keras.layers import Convolution2D, MaxPooling2D\n",
    "from keras.utils import np_utils\n",
    "import pickle\n",
    "from matplotlib import pyplot as plt\n",
    "import seaborn as sns\n"
   ]
  },
  {
   "cell_type": "code",
   "execution_count": 0,
   "metadata": {
    "colab": {},
    "colab_type": "code",
    "id": "qy1byAuROLOs"
   },
   "outputs": [],
   "source": []
  },
  {
   "cell_type": "code",
   "execution_count": 0,
   "metadata": {
    "colab": {},
    "colab_type": "code",
    "id": "Ca2XZu_xOMjY"
   },
   "outputs": [],
   "source": [
    "train_1 = np.isin(y_train, [0,1,2,3,4])\n",
    "test_1 = np.isin(y_test, [0,1,2,3,4])\n",
    "train_2 = np.isin(y_train, [5,6,7,8,9])\n",
    "test_2 = np.isin(y_test, [5,6,7,8,9])\n",
    "\n",
    "\n",
    "X_train1, y_train1 = X_train[train_1], y_train[train_1]\n",
    "X_test1, y_test1 = X_test[test_1], y_test[test_1]\n",
    "X_train2, y_train2 = X_train[train_2], y_train[train_2]\n",
    "X_test2, y_test2 = X_test[test_2], y_test[test_2]"
   ]
  },
  {
   "cell_type": "markdown",
   "metadata": {
    "colab_type": "text",
    "id": "M9jKcF1z5sXV"
   },
   "source": [
    "## Question 2"
   ]
  },
  {
   "cell_type": "markdown",
   "metadata": {
    "colab_type": "text",
    "id": "NMo7lvwQ5sXW"
   },
   "source": [
    "### Print shape of the data\n",
    "- print shape of all variables of both the datasets you created"
   ]
  },
  {
   "cell_type": "code",
   "execution_count": 0,
   "metadata": {
    "colab": {
     "base_uri": "https://localhost:8080/",
     "height": 164
    },
    "colab_type": "code",
    "id": "kH7ZjEoH5sXW",
    "outputId": "e9b69690-3cb9-46f5-8c04-9328eea336ce"
   },
   "outputs": [
    {
     "name": "stdout",
     "output_type": "stream",
     "text": [
      "(30596, 28, 28)\n",
      "(29404, 28, 28)\n",
      "(30596,)\n",
      "(29404,)\n",
      "(5139, 28, 28)\n",
      "(4861, 28, 28)\n",
      "(5139,)\n",
      "(4861,)\n"
     ]
    }
   ],
   "source": [
    "print(X_train1.shape)\n",
    "print(X_train2.shape)\n",
    "print(y_train1.shape)\n",
    "print(y_train2.shape)\n",
    "print(X_test1.shape)\n",
    "print(X_test2.shape)\n",
    "print(y_test1.shape)\n",
    "print(y_test2.shape)"
   ]
  },
  {
   "cell_type": "markdown",
   "metadata": {
    "colab_type": "text",
    "id": "IUU4PkKU5sXY"
   },
   "source": [
    "## Question 3"
   ]
  },
  {
   "cell_type": "markdown",
   "metadata": {
    "colab_type": "text",
    "id": "4I8ajqdt5sXY"
   },
   "source": [
    "### Reshape data\n",
    "- reshape first dataset\n",
    "- To be able to use the dataset in Keras, we need 4-dims numpy arrays. \n",
    "- reshape features to pass it to a Conv2D layer\n",
    "- channel = 1\n",
    "- reshape features of first dataset only\n",
    "- do not reshape labels"
   ]
  },
  {
   "cell_type": "code",
   "execution_count": 0,
   "metadata": {
    "colab": {},
    "colab_type": "code",
    "id": "38wgBEcz5sXa"
   },
   "outputs": [],
   "source": [
    "X_train1 = X_train1.reshape(X_train1.shape[0], 28, 28, 1).astype('float32')\n",
    "X_test1 = X_test1.reshape(X_test1.shape[0], 28, 28, 1).astype('float32')"
   ]
  },
  {
   "cell_type": "markdown",
   "metadata": {
    "colab_type": "text",
    "id": "_5H-BtNm5sXg"
   },
   "source": [
    "## Question 4"
   ]
  },
  {
   "cell_type": "markdown",
   "metadata": {
    "colab_type": "text",
    "id": "2ahCMtCl5sXh"
   },
   "source": [
    "### Normalize data\n",
    "- normalize first dataset\n",
    "- we must normalize our data as it is always required in neural network models\n",
    "- we can achieve this by dividing the RGB codes to 255 (which is the maximum RGB code minus the minimum RGB code)\n",
    "- normalize X_train and X_test\n",
    "- make sure that the values are float so that we can get decimal points after division"
   ]
  },
  {
   "cell_type": "code",
   "execution_count": 0,
   "metadata": {
    "colab": {},
    "colab_type": "code",
    "id": "z4mti7pg5sXj"
   },
   "outputs": [],
   "source": [
    "X_train1 /= 255\n",
    "X_test1 /= 255"
   ]
  },
  {
   "cell_type": "markdown",
   "metadata": {
    "colab_type": "text",
    "id": "TfQ6545D5sXp"
   },
   "source": [
    "### Print shape of data and number of images\n",
    "- for first dataset\n",
    "- print shape of X_train\n",
    "- print number of images in X_train\n",
    "- print number of images in X_test"
   ]
  },
  {
   "cell_type": "code",
   "execution_count": 0,
   "metadata": {
    "colab": {
     "base_uri": "https://localhost:8080/",
     "height": 90
    },
    "colab_type": "code",
    "id": "uQfQXZMo5sXp",
    "outputId": "3e74572a-02b8-4a5f-c9f3-b25d56066c9f"
   },
   "outputs": [
    {
     "name": "stdout",
     "output_type": "stream",
     "text": [
      "Shape of X_train1 (30596, 28, 28, 1)\n",
      "No. of images in X_train1 30596\n",
      "Shape of X_test1 (5139, 28, 28, 1)\n",
      "No. of images in X_test1 5139\n"
     ]
    }
   ],
   "source": [
    "print(\"Shape of X_train1\", X_train1.shape)\n",
    "print(\"No. of images in X_train1\",X_train1.shape[0])\n",
    "print(\"Shape of X_test1\", X_test1.shape)\n",
    "print(\"No. of images in X_test1\",X_test1.shape[0])"
   ]
  },
  {
   "cell_type": "markdown",
   "metadata": {
    "colab_type": "text",
    "id": "9oFjomSh5sXu"
   },
   "source": [
    "## Question 5"
   ]
  },
  {
   "cell_type": "markdown",
   "metadata": {
    "colab_type": "text",
    "id": "2lEFQQNk5sXu"
   },
   "source": [
    "### One-hot encode the class vector\n",
    "- encode labels of first dataset\n",
    "- convert class vectors (integers) to binary class matrix\n",
    "- convert y_train and y_test\n",
    "- number of classes: 5\n",
    "- we are doing this to use categorical_crossentropy as loss\n",
    "\n",
    "Hint: you can use keras.utils.to_categorical"
   ]
  },
  {
   "cell_type": "code",
   "execution_count": 0,
   "metadata": {
    "colab": {
     "base_uri": "https://localhost:8080/",
     "height": 35
    },
    "colab_type": "code",
    "id": "aejx3Zb35sXv",
    "outputId": "2d57f975-ac05-4298-c74b-b7161fe83747"
   },
   "outputs": [
    {
     "data": {
      "text/plain": [
       "(5139, 5)"
      ]
     },
     "execution_count": 64,
     "metadata": {
      "tags": []
     },
     "output_type": "execute_result"
    }
   ],
   "source": [
    "y_train1 = np_utils.to_categorical(y_train1, 5)\n",
    "y_test1 = np_utils.to_categorical(y_test1, 5)\n",
    "y_test1.shape"
   ]
  },
  {
   "cell_type": "markdown",
   "metadata": {
    "colab_type": "text",
    "id": "PlkiipRA5sXw"
   },
   "source": [
    "## Question 6\n",
    "We will build our model by using high level Keras."
   ]
  },
  {
   "cell_type": "markdown",
   "metadata": {
    "colab_type": "text",
    "id": "KzYMC_xm5sXx"
   },
   "source": [
    "### Initialize a sequential model\n",
    "- define a sequential model\n",
    "- add 2 convolutional layers\n",
    "    - no of filters: 32\n",
    "    - kernel size: 3x3\n",
    "    - activation: \"relu\"\n",
    "    - input shape: (28, 28, 1) for first layer\n",
    "- add a max pooling layer of size 2x2\n",
    "- add a dropout layer\n",
    "    - dropout layers fight with the overfitting by disregarding some of the neurons while training\n",
    "    - use dropout rate 0.2"
   ]
  },
  {
   "cell_type": "code",
   "execution_count": 0,
   "metadata": {
    "colab": {},
    "colab_type": "code",
    "id": "mDr-HKl-5sXx"
   },
   "outputs": [],
   "source": [
    "    # Define model\n",
    "    model1 = Sequential()\n",
    "\n",
    "    # 1st Conv Layer\n",
    "    model1.add(Convolution2D(32, 3, 3, input_shape=(28, 28, 1)))\n",
    "    model1.add(Activation('relu'))\n",
    "\n",
    "    # 2nd Conv Layer\n",
    "    model1.add(Convolution2D(32, 3, 3))\n",
    "    model1.add(Activation('relu'))\n",
    "    \n",
    "    # Max Pooling\n",
    "    model1.add(MaxPooling2D(pool_size=(2,2)))\n",
    "    \n",
    "    # Dropout\n",
    "    model1.add(Dropout(0.2))"
   ]
  },
  {
   "cell_type": "markdown",
   "metadata": {
    "colab_type": "text",
    "id": "k2RaPWiP5sXz"
   },
   "source": [
    "## Question 7"
   ]
  },
  {
   "cell_type": "markdown",
   "metadata": {
    "colab_type": "text",
    "id": "4ajGIM6t5sXz"
   },
   "source": [
    "### Add classification layers\n",
    "- do this after doing question 6\n",
    "- flatten the data\n",
    "    - add Flatten later\n",
    "    - flatten layers flatten 2D arrays to 1D array before building the fully connected layers\n",
    "- add 2 dense layers\n",
    "    - number of neurons in first layer: 128\n",
    "    - number of neurons in last layer: number of classes\n",
    "    - activation function in first layer: relu\n",
    "    - activation function in last layer: softmax\n",
    "    - we may experiment with any number of neurons for the first Dense layer; however, the final Dense layer must have neurons equal to the number of output classes\n",
    "- you can add a dropout layer in between, if necessary"
   ]
  },
  {
   "cell_type": "code",
   "execution_count": 0,
   "metadata": {
    "colab": {},
    "colab_type": "code",
    "id": "jBxWAN265sX0"
   },
   "outputs": [],
   "source": [
    "    # 1st Fully Connected Layer\n",
    "    model1.add(Flatten())\n",
    "    model1.add(Dense(128))\n",
    "    model1.add(Activation('relu'))\n",
    "    \n",
    "    # More Dropout\n",
    "    model1.add(Dropout(0.2))\n",
    "    \n",
    "    # Prediction Layer\n",
    "    model1.add(Dense(5))\n",
    "    model1.add(Activation('softmax'))"
   ]
  },
  {
   "cell_type": "markdown",
   "metadata": {
    "colab_type": "text",
    "id": "Lhtm4d5K5sX1"
   },
   "source": [
    "## Question 8"
   ]
  },
  {
   "cell_type": "markdown",
   "metadata": {
    "colab_type": "text",
    "id": "SmXg8EaF5sX2"
   },
   "source": [
    "### Compile and fit the model\n",
    "- compile your model\n",
    "    - loss: \"categorical_crossentropy\"\n",
    "    - metrics: \"accuracy\"\n",
    "    - optimizer: \"sgd\"\n",
    "- fit your model\n",
    "    - give train data - features and labels\n",
    "    - batch size: 128\n",
    "    - epochs: 10\n",
    "    - give validation data - features and labels"
   ]
  },
  {
   "cell_type": "code",
   "execution_count": 0,
   "metadata": {
    "colab": {
     "base_uri": "https://localhost:8080/",
     "height": 403
    },
    "colab_type": "code",
    "id": "cgclxC8s5sX4",
    "outputId": "6897e7a1-20d2-4551-928b-fd407fd11b7b"
   },
   "outputs": [
    {
     "name": "stdout",
     "output_type": "stream",
     "text": [
      "Train on 30596 samples, validate on 5139 samples\n",
      "Epoch 1/10\n",
      "30596/30596 [==============================] - 5s 157us/step - loss: 0.6410 - acc: 0.8092 - val_loss: 0.1156 - val_acc: 0.9677\n",
      "Epoch 2/10\n",
      "30596/30596 [==============================] - 4s 125us/step - loss: 0.1614 - acc: 0.9498 - val_loss: 0.0878 - val_acc: 0.9753\n",
      "Epoch 3/10\n",
      "30596/30596 [==============================] - 4s 125us/step - loss: 0.1338 - acc: 0.9592 - val_loss: 0.0784 - val_acc: 0.9780\n",
      "Epoch 4/10\n",
      "30596/30596 [==============================] - 4s 128us/step - loss: 0.1196 - acc: 0.9641 - val_loss: 0.0631 - val_acc: 0.9825\n",
      "Epoch 5/10\n",
      "30596/30596 [==============================] - 4s 128us/step - loss: 0.1055 - acc: 0.9680 - val_loss: 0.0613 - val_acc: 0.9835\n",
      "Epoch 6/10\n",
      "30596/30596 [==============================] - 4s 130us/step - loss: 0.0969 - acc: 0.9704 - val_loss: 0.0520 - val_acc: 0.9842\n",
      "Epoch 7/10\n",
      "30596/30596 [==============================] - 4s 130us/step - loss: 0.0902 - acc: 0.9722 - val_loss: 0.2210 - val_acc: 0.9233\n",
      "Epoch 8/10\n",
      "30596/30596 [==============================] - 4s 131us/step - loss: 0.0857 - acc: 0.9729 - val_loss: 0.0468 - val_acc: 0.9875\n",
      "Epoch 9/10\n",
      "30596/30596 [==============================] - 4s 129us/step - loss: 0.0778 - acc: 0.9760 - val_loss: 0.0440 - val_acc: 0.9883\n",
      "Epoch 10/10\n",
      "30596/30596 [==============================] - 4s 130us/step - loss: 0.0720 - acc: 0.9772 - val_loss: 0.0384 - val_acc: 0.9875\n"
     ]
    }
   ],
   "source": [
    "    # Loss and Optimizer\n",
    "    model1.compile(loss='categorical_crossentropy', optimizer='sgd', metrics=['accuracy'])\n",
    "    \n",
    "    # Store Training Results\n",
    "    early_stopping = keras.callbacks.EarlyStopping(monitor='val_acc', patience=7, verbose=1, mode='auto') \n",
    "    #Stop training when a monitored quantity has stopped improving.\n",
    "    callback_list = [early_stopping]\n",
    "\n",
    "    # Train the model\n",
    "    history = model1.fit(X_train1, y_train1, batch_size=128, nb_epoch=10, \n",
    "              validation_data= (X_test1, y_test1),callbacks=callback_list)"
   ]
  },
  {
   "cell_type": "markdown",
   "metadata": {
    "colab_type": "text",
    "id": "oSVZUu3p5sX5"
   },
   "source": [
    "## Question 9"
   ]
  },
  {
   "cell_type": "markdown",
   "metadata": {
    "colab_type": "text",
    "id": "Y5TQ3yLV5sX6"
   },
   "source": [
    "### Evaluate model\n",
    "- evaluate your model and get accuracy\n",
    "- use test features and labels"
   ]
  },
  {
   "cell_type": "code",
   "execution_count": 0,
   "metadata": {
    "colab": {
     "base_uri": "https://localhost:8080/",
     "height": 368
    },
    "colab_type": "code",
    "id": "bBvuD3ba5sX7",
    "outputId": "cb06c388-402f-4002-ac2d-9f2c748211e4"
   },
   "outputs": [
    {
     "name": "stdout",
     "output_type": "stream",
     "text": [
      "\n",
      "Test loss: 0.038\n",
      "Test accuracy: 0.988\n"
     ]
    },
    {
     "data": {
      "text/plain": [
       "<matplotlib.legend.Legend at 0x7f188cf5e320>"
      ]
     },
     "execution_count": 74,
     "metadata": {
      "tags": []
     },
     "output_type": "execute_result"
    },
    {
     "data": {
      "image/png": "[encoded data removed]",
      "text/plain": [
       "<Figure size 432x288 with 1 Axes>"
      ]
     },
     "metadata": {
      "tags": []
     },
     "output_type": "display_data"
    }
   ],
   "source": [
    "score = model1.evaluate(X_test1,y_test1, verbose = False)\n",
    "print()\n",
    "print('Test loss:', round(score[0],3))\n",
    "print('Test accuracy:', round(score[1],3))\n",
    "\n",
    "plt.plot(history.history['loss'])\n",
    "plt.plot(history.history['val_loss'])\n",
    "plt.title('model loss')\n",
    "plt.ylabel('loss')\n",
    "plt.xlabel('epoch')\n",
    "plt.legend(['train','test'],loc = 'upper left')"
   ]
  },
  {
   "cell_type": "markdown",
   "metadata": {
    "colab_type": "text",
    "id": "8aUzOh9m5sX-"
   },
   "source": [
    "## Question 10"
   ]
  },
  {
   "cell_type": "markdown",
   "metadata": {
    "colab_type": "text",
    "id": "srd-YYNH5sX-"
   },
   "source": [
    "## Transfer learning\n",
    "Now we will apply this model on second dataset (5-9 digits)\n",
    "\n",
    "- fix the first convolution layers so that the weights in the convolution layers dont get updated in the process of training\n",
    "- get the second dataset\n",
    "- train the last 2 dense layers\n",
    "- predict the accuracy and loss"
   ]
  },
  {
   "cell_type": "markdown",
   "metadata": {
    "colab_type": "text",
    "id": "KvhdH7D55sYA"
   },
   "source": [
    "### Make only dense layers trainable\n",
    "- set trainalble = False for all layers other than Dense layers"
   ]
  },
  {
   "cell_type": "code",
   "execution_count": 0,
   "metadata": {
    "colab": {
     "base_uri": "https://localhost:8080/",
     "height": 458
    },
    "colab_type": "code",
    "id": "brN7VZHFaEJ4",
    "outputId": "9dda459d-3dc8-4608-a206-23efb5e250a2"
   },
   "outputs": [
    {
     "name": "stdout",
     "output_type": "stream",
     "text": [
      "\u001b[34mconv2d_7\u001b[0m\n",
      "\u001b[31mFalse\u001b[0m\n",
      "\u001b[34mactivation_13\u001b[0m\n",
      "\u001b[31mFalse\u001b[0m\n",
      "\u001b[34mconv2d_8\u001b[0m\n",
      "\u001b[31mFalse\u001b[0m\n",
      "\u001b[34mactivation_14\u001b[0m\n",
      "\u001b[31mFalse\u001b[0m\n",
      "\u001b[34mmax_pooling2d_4\u001b[0m\n",
      "\u001b[31mFalse\u001b[0m\n",
      "\u001b[34mdropout_7\u001b[0m\n",
      "\u001b[31mFalse\u001b[0m\n",
      "\u001b[34mflatten_5\u001b[0m\n",
      "\u001b[31mFalse\u001b[0m\n",
      "\u001b[34mdense_7\u001b[0m\n",
      "\u001b[31mTrue\u001b[0m\n",
      "\u001b[34mactivation_15\u001b[0m\n",
      "\u001b[31mFalse\u001b[0m\n",
      "\u001b[34mdropout_8\u001b[0m\n",
      "\u001b[31mFalse\u001b[0m\n",
      "\u001b[34mdense_8\u001b[0m\n",
      "\u001b[31mTrue\u001b[0m\n",
      "\u001b[34mactivation_16\u001b[0m\n",
      "\u001b[31mFalse\u001b[0m\n"
     ]
    }
   ],
   "source": [
    "#Freezing layers in the model which don't have 'dense' in their name\n",
    "for layer in model1.layers:\n",
    "  if('dense' not in layer.name): #prefix detection to freeze layers which does not have dense\n",
    "    #Freezing a layer\n",
    "    layer.trainable = False\n",
    "\n",
    "#Module to print colourful statements\n",
    "from termcolor import colored\n",
    "\n",
    "#Check which layers have been frozen \n",
    "for layer in model1.layers:\n",
    "  print (colored(layer.name, 'blue'))\n",
    "  print (colored(layer.trainable, 'red'))"
   ]
  },
  {
   "cell_type": "markdown",
   "metadata": {
    "colab_type": "text",
    "id": "FYR9VGzO5sYE"
   },
   "source": [
    "### Modify data\n",
    "- in your second data, class labels will start from 5 to 9 but for keras.utils.to_categorical the labels should start from 0\n",
    "- so you need to subtract 5 from train and test labels"
   ]
  },
  {
   "cell_type": "code",
   "execution_count": 0,
   "metadata": {
    "colab": {
     "base_uri": "https://localhost:8080/",
     "height": 35
    },
    "colab_type": "code",
    "id": "lC5W75L35sYF",
    "outputId": "d3f6250e-4092-4d65-d415-685ba07114de"
   },
   "outputs": [
    {
     "data": {
      "text/plain": [
       "(4861, 5)"
      ]
     },
     "execution_count": 82,
     "metadata": {
      "tags": []
     },
     "output_type": "execute_result"
    }
   ],
   "source": [
    "y_train2 = y_train2 - 5\n",
    "y_test2 = y_test2 - 5\n",
    "y_train2 = np_utils.to_categorical(y_train2, 5)\n",
    "y_test2 = np_utils.to_categorical(y_test2, 5)\n",
    "y_test2.shape"
   ]
  },
  {
   "cell_type": "markdown",
   "metadata": {
    "colab_type": "text",
    "id": "YGY3OTBt5sYG"
   },
   "source": [
    "### Reshape data\n",
    "- reshape second dataset\n",
    "- To be able to use the dataset in Keras, we need 4-dims numpy arrays. \n",
    "- reshape features to pass it to a Conv2D layer\n",
    "- channel = 1\n",
    "- reshape features of first dataset only\n",
    "- do not reshape labels"
   ]
  },
  {
   "cell_type": "code",
   "execution_count": 0,
   "metadata": {
    "colab": {},
    "colab_type": "code",
    "id": "0V7RUlRD5sYH"
   },
   "outputs": [],
   "source": [
    "X_train2 = X_train2.reshape(X_train2.shape[0], 28, 28, 1).astype('float32')\n",
    "X_test2 = X_test2.reshape(X_test2.shape[0], 28, 28, 1).astype('float32')"
   ]
  },
  {
   "cell_type": "markdown",
   "metadata": {
    "colab_type": "text",
    "id": "c7omqMQH5sYJ"
   },
   "source": [
    "### Normalize data\n",
    "- normalize second data\n",
    "- we must normalize our data as it is always required in neural network models\n",
    "- we can achieve this by dividing the RGB codes to 255 (which is the maximum RGB code minus the minimum RGB code)\n",
    "- normalize X_train and X_test\n",
    "- make sure that the values are float so that we can get decimal points after division"
   ]
  },
  {
   "cell_type": "code",
   "execution_count": 0,
   "metadata": {
    "colab": {},
    "colab_type": "code",
    "id": "PEFYNHRp5sYJ"
   },
   "outputs": [],
   "source": [
    "X_train2 /= 255\n",
    "X_test2 /= 255"
   ]
  },
  {
   "cell_type": "markdown",
   "metadata": {
    "colab_type": "text",
    "id": "0OfdlF655sYM"
   },
   "source": [
    "### Print shape of data and number of images\n",
    "- print shape of X_train\n",
    "- print number of images in X_train\n",
    "- print number of images in X_test"
   ]
  },
  {
   "cell_type": "code",
   "execution_count": 0,
   "metadata": {
    "colab": {
     "base_uri": "https://localhost:8080/",
     "height": 90
    },
    "colab_type": "code",
    "id": "bZEkCQ-P5sYO",
    "outputId": "f99d0484-24d0-407b-8dfb-af58a8aa5a9e"
   },
   "outputs": [
    {
     "name": "stdout",
     "output_type": "stream",
     "text": [
      "Shape of X_train2 (29404, 28, 28, 1)\n",
      "No. of images in X_train2 29404\n",
      "Shape of X_test2 (4861, 28, 28, 1)\n",
      "No. of images in X_test2 4861\n"
     ]
    }
   ],
   "source": [
    "print(\"Shape of X_train2\", X_train2.shape)\n",
    "print(\"No. of images in X_train2\",X_train2.shape[0])\n",
    "print(\"Shape of X_test2\", X_test2.shape)\n",
    "print(\"No. of images in X_test2\",X_test2.shape[0])"
   ]
  },
  {
   "cell_type": "markdown",
   "metadata": {
    "colab_type": "text",
    "id": "c_3-0Qwo5sYQ"
   },
   "source": [
    "### One-hot encode the class vector\n",
    "- convert class vectors (integers) to binary class matrix\n",
    "- convert y_train and y_test\n",
    "- number of classes: 5\n",
    "- we are doing this to use categorical_crossentropy as loss\n",
    "\n",
    "Hint: you can use keras.utils.to_categorical"
   ]
  },
  {
   "cell_type": "code",
   "execution_count": 0,
   "metadata": {
    "colab": {},
    "colab_type": "code",
    "id": "k46Me5Re5sYR"
   },
   "outputs": [],
   "source": [
    "y_train2 = np_utils.to_categorical(y_train2, 5)\n",
    "y_test2 = np_utils.to_categorical(y_test2, 5)\n",
    "y_test2.shape"
   ]
  },
  {
   "cell_type": "markdown",
   "metadata": {
    "colab_type": "text",
    "id": "D9xEoW515sYS"
   },
   "source": [
    "### Fit the model\n",
    "- give train data - features and labels\n",
    "- batch size: 128\n",
    "- epochs: 10\n",
    "- give validation data - features and labels"
   ]
  },
  {
   "cell_type": "code",
   "execution_count": 0,
   "metadata": {
    "colab": {
     "base_uri": "https://localhost:8080/",
     "height": 403
    },
    "colab_type": "code",
    "id": "B6f-XAc-5sYT",
    "outputId": "5955c789-b3d6-4351-a6e6-5e5ff96cc3b3"
   },
   "outputs": [
    {
     "name": "stdout",
     "output_type": "stream",
     "text": [
      "Train on 29404 samples, validate on 4861 samples\n",
      "Epoch 1/10\n",
      "29404/29404 [==============================] - 2s 85us/step - loss: 0.4309 - acc: 0.8597 - val_loss: 0.1928 - val_acc: 0.9403\n",
      "Epoch 2/10\n",
      "29404/29404 [==============================] - 2s 64us/step - loss: 0.2209 - acc: 0.9283 - val_loss: 0.1495 - val_acc: 0.9523\n",
      "Epoch 3/10\n",
      "29404/29404 [==============================] - 2s 63us/step - loss: 0.1834 - acc: 0.9416 - val_loss: 0.1266 - val_acc: 0.9613\n",
      "Epoch 4/10\n",
      "29404/29404 [==============================] - 2s 64us/step - loss: 0.1602 - acc: 0.9479 - val_loss: 0.1132 - val_acc: 0.9644\n",
      "Epoch 5/10\n",
      "29404/29404 [==============================] - 2s 63us/step - loss: 0.1487 - acc: 0.9516 - val_loss: 0.1040 - val_acc: 0.9671\n",
      "Epoch 6/10\n",
      "29404/29404 [==============================] - 2s 63us/step - loss: 0.1382 - acc: 0.9563 - val_loss: 0.0989 - val_acc: 0.9685\n",
      "Epoch 7/10\n",
      "29404/29404 [==============================] - 2s 62us/step - loss: 0.1304 - acc: 0.9578 - val_loss: 0.0901 - val_acc: 0.9702\n",
      "Epoch 8/10\n",
      "29404/29404 [==============================] - 2s 62us/step - loss: 0.1244 - acc: 0.9598 - val_loss: 0.0875 - val_acc: 0.9710\n",
      "Epoch 9/10\n",
      "29404/29404 [==============================] - 2s 61us/step - loss: 0.1187 - acc: 0.9619 - val_loss: 0.0815 - val_acc: 0.9720\n",
      "Epoch 10/10\n",
      "29404/29404 [==============================] - 2s 63us/step - loss: 0.1123 - acc: 0.9634 - val_loss: 0.0824 - val_acc: 0.9718\n"
     ]
    }
   ],
   "source": [
    "    # Loss and Optimizer\n",
    "    model1.compile(loss='categorical_crossentropy', optimizer='sgd', metrics=['accuracy'])\n",
    "    \n",
    "    # Store Training Results\n",
    "    early_stopping = keras.callbacks.EarlyStopping(monitor='val_acc', patience=7, verbose=1, mode='auto') \n",
    "    #Stop training when a monitored quantity has stopped improving.\n",
    "    callback_list = [early_stopping]\n",
    "\n",
    "    # Train the model\n",
    "    history2 = model1.fit(X_train2, y_train2, batch_size=128, nb_epoch=10, validation_data = (X_test2, y_test2), callbacks = callback_list)"
   ]
  },
  {
   "cell_type": "markdown",
   "metadata": {
    "colab_type": "text",
    "id": "85ginrII5sYV"
   },
   "source": [
    "### Evaluate model\n",
    "- evaluate your model and get accuracy\n",
    "- use test features and labels"
   ]
  },
  {
   "cell_type": "code",
   "execution_count": 0,
   "metadata": {
    "colab": {
     "base_uri": "https://localhost:8080/",
     "height": 368
    },
    "colab_type": "code",
    "id": "k11-vrsm5sYW",
    "outputId": "4cc72816-4ef9-4b30-efef-11a4ccdb0fa8"
   },
   "outputs": [
    {
     "name": "stdout",
     "output_type": "stream",
     "text": [
      "\n",
      "Test loss: 0.082\n",
      "Test accuracy: 0.972\n"
     ]
    },
    {
     "data": {
      "text/plain": [
       "<matplotlib.legend.Legend at 0x7f18d9a1ba90>"
      ]
     },
     "execution_count": 95,
     "metadata": {
      "tags": []
     },
     "output_type": "execute_result"
    },
    {
     "data": {
      "image/png": "[encoded data removed]",
      "text/plain": [
       "<Figure size 432x288 with 1 Axes>"
      ]
     },
     "metadata": {
      "tags": []
     },
     "output_type": "display_data"
    }
   ],
   "source": [
    "score = model1.evaluate(X_test2,y_test2, verbose = False)\n",
    "print()\n",
    "print('Test loss:', round(score[0],3))\n",
    "print('Test accuracy:', round(score[1],3))\n",
    "\n",
    "plt.plot(history2.history['loss'])\n",
    "plt.plot(history2.history['val_loss'])\n",
    "plt.title('model loss')\n",
    "plt.ylabel('loss')\n",
    "plt.xlabel('epoch')\n",
    "plt.legend(['train','test'],loc = 'upper left')"
   ]
  },
  {
   "cell_type": "markdown",
   "metadata": {
    "colab_type": "text",
    "id": "dTNhSDqn5sYY"
   },
   "source": [
    "-----------------------------------------------------------------------------"
   ]
  },
  {
   "cell_type": "markdown",
   "metadata": {
    "colab_type": "text",
    "id": "FU-HwvIdH0M-"
   },
   "source": [
    "# Sentiment analysis \n",
    "\n",
    "The objective of the second problem is to perform Sentiment analysis from the tweets collected from the users targeted at various mobile devices.\n",
    "Based on the tweet posted by a user (text), we will classify if the sentiment of the user targeted at a particular mobile device is positive or not."
   ]
  },
  {
   "cell_type": "markdown",
   "metadata": {
    "colab_type": "text",
    "id": "aIWWfNks5sYa"
   },
   "source": [
    "## Question 1"
   ]
  },
  {
   "cell_type": "markdown",
   "metadata": {
    "colab_type": "text",
    "id": "nAQDiZHRH0M_"
   },
   "source": [
    "### Read the data\n",
    "- read tweets.csv\n",
    "- use latin encoding if it gives encoding error while loading"
   ]
  },
  {
   "cell_type": "code",
   "execution_count": 2,
   "metadata": {
    "colab": {
     "base_uri": "https://localhost:8080/",
     "height": 121
    },
    "colab_type": "code",
    "id": "qSss62rHqrjC",
    "outputId": "624413e9-4525-495e-b888-76521bc2a8c8"
   },
   "outputs": [
    {
     "name": "stdout",
     "output_type": "stream",
     "text": [
      "Go to this URL in a browser: https://accounts.google.com/o/oauth2/auth?client_id=947318989803-6bn6qk8qdgf4n4g3pfee6491hc0brc4i.apps.googleusercontent.com&redirect_uri=urn%3Aietf%3Awg%3Aoauth%3A2.0%3Aoob&scope=email%20https%3A%2F%2Fwww.googleapis.com%2Fauth%2Fdocs.test%20https%3A%2F%2Fwww.googleapis.com%2Fauth%2Fdrive%20https%3A%2F%2Fwww.googleapis.com%2Fauth%2Fdrive.photos.readonly%20https%3A%2F%2Fwww.googleapis.com%2Fauth%2Fpeopleapi.readonly&response_type=code\n",
      "\n",
      "Enter your authorization code:\n",
      "··········\n",
      "Mounted at /content/drive\n"
     ]
    }
   ],
   "source": [
    "from google.colab import drive\n",
    "drive.mount('/content/drive')"
   ]
  },
  {
   "cell_type": "code",
   "execution_count": 0,
   "metadata": {
    "colab": {},
    "colab_type": "code",
    "id": "3eXGIe-SH0NA"
   },
   "outputs": [],
   "source": [
    "import pandas as pd\n",
    "\n",
    "df = pd.read_csv('/content/drive/My Drive/Colab Notebooks/tweets.csv',encoding = 'latin-1')"
   ]
  },
  {
   "cell_type": "markdown",
   "metadata": {
    "colab_type": "text",
    "id": "39pqw0aE5sYe"
   },
   "source": [
    "### Drop null values\n",
    "- drop all the rows with null values"
   ]
  },
  {
   "cell_type": "code",
   "execution_count": 5,
   "metadata": {
    "colab": {
     "base_uri": "https://localhost:8080/",
     "height": 34
    },
    "colab_type": "code",
    "id": "VElgHWshlIdW",
    "outputId": "d23ccad6-a708-45b0-a174-7f9045252303"
   },
   "outputs": [
    {
     "data": {
      "text/plain": [
       "(9093, 3)"
      ]
     },
     "execution_count": 5,
     "metadata": {
      "tags": []
     },
     "output_type": "execute_result"
    }
   ],
   "source": [
    "df.shape"
   ]
  },
  {
   "cell_type": "code",
   "execution_count": 6,
   "metadata": {
    "colab": {
     "base_uri": "https://localhost:8080/",
     "height": 67
    },
    "colab_type": "code",
    "id": "BF_69oyI5sYf",
    "outputId": "f80e05f6-dcb3-416b-9e99-4f11055ec7af"
   },
   "outputs": [
    {
     "data": {
      "text/plain": [
       "Index(['tweet_text', 'emotion_in_tweet_is_directed_at',\n",
       "       'is_there_an_emotion_directed_at_a_brand_or_product'],\n",
       "      dtype='object')"
      ]
     },
     "execution_count": 6,
     "metadata": {
      "tags": []
     },
     "output_type": "execute_result"
    }
   ],
   "source": [
    "df.columns"
   ]
  },
  {
   "cell_type": "code",
   "execution_count": 0,
   "metadata": {
    "colab": {},
    "colab_type": "code",
    "id": "Wbl8iVofrdbW"
   },
   "outputs": [],
   "source": [
    "df.dropna(axis=0,inplace=True)"
   ]
  },
  {
   "cell_type": "markdown",
   "metadata": {
    "colab_type": "text",
    "id": "0bm4bDiy5sYg"
   },
   "source": [
    "### Print the dataframe\n",
    "- print initial 5 rows of the data\n",
    "- use df.head()"
   ]
  },
  {
   "cell_type": "code",
   "execution_count": 8,
   "metadata": {
    "colab": {
     "base_uri": "https://localhost:8080/",
     "height": 195
    },
    "colab_type": "code",
    "id": "ceSlvAVa5sYh",
    "outputId": "c3d6299a-9220-402e-c35f-54c73d6b5e31",
    "scrolled": true
   },
   "outputs": [
    {
     "data": {
      "text/html": [
       "<div>\n",
       "<style scoped>\n",
       "    .dataframe tbody tr th:only-of-type {\n",
       "        vertical-align: middle;\n",
       "    }\n",
       "\n",
       "    .dataframe tbody tr th {\n",
       "        vertical-align: top;\n",
       "    }\n",
       "\n",
       "    .dataframe thead th {\n",
       "        text-align: right;\n",
       "    }\n",
       "</style>\n",
       "<table border=\"1\" class=\"dataframe\">\n",
       "  <thead>\n",
       "    <tr style=\"text-align: right;\">\n",
       "      <th></th>\n",
       "      <th>tweet_text</th>\n",
       "      <th>emotion_in_tweet_is_directed_at</th>\n",
       "      <th>is_there_an_emotion_directed_at_a_brand_or_product</th>\n",
       "    </tr>\n",
       "  </thead>\n",
       "  <tbody>\n",
       "    <tr>\n",
       "      <th>0</th>\n",
       "      <td>.@wesley83 I have a 3G iPhone. After 3 hrs twe...</td>\n",
       "      <td>iPhone</td>\n",
       "      <td>Negative emotion</td>\n",
       "    </tr>\n",
       "    <tr>\n",
       "      <th>1</th>\n",
       "      <td>@jessedee Know about @fludapp ? Awesome iPad/i...</td>\n",
       "      <td>iPad or iPhone App</td>\n",
       "      <td>Positive emotion</td>\n",
       "    </tr>\n",
       "    <tr>\n",
       "      <th>2</th>\n",
       "      <td>@swonderlin Can not wait for #iPad 2 also. The...</td>\n",
       "      <td>iPad</td>\n",
       "      <td>Positive emotion</td>\n",
       "    </tr>\n",
       "    <tr>\n",
       "      <th>3</th>\n",
       "      <td>@sxsw I hope this year's festival isn't as cra...</td>\n",
       "      <td>iPad or iPhone App</td>\n",
       "      <td>Negative emotion</td>\n",
       "    </tr>\n",
       "    <tr>\n",
       "      <th>4</th>\n",
       "      <td>@sxtxstate great stuff on Fri #SXSW: Marissa M...</td>\n",
       "      <td>Google</td>\n",
       "      <td>Positive emotion</td>\n",
       "    </tr>\n",
       "  </tbody>\n",
       "</table>\n",
       "</div>"
      ],
      "text/plain": [
       "                                          tweet_text  ... is_there_an_emotion_directed_at_a_brand_or_product\n",
       "0  .@wesley83 I have a 3G iPhone. After 3 hrs twe...  ...                                   Negative emotion\n",
       "1  @jessedee Know about @fludapp ? Awesome iPad/i...  ...                                   Positive emotion\n",
       "2  @swonderlin Can not wait for #iPad 2 also. The...  ...                                   Positive emotion\n",
       "3  @sxsw I hope this year's festival isn't as cra...  ...                                   Negative emotion\n",
       "4  @sxtxstate great stuff on Fri #SXSW: Marissa M...  ...                                   Positive emotion\n",
       "\n",
       "[5 rows x 3 columns]"
      ]
     },
     "execution_count": 8,
     "metadata": {
      "tags": []
     },
     "output_type": "execute_result"
    }
   ],
   "source": [
    "df.head()"
   ]
  },
  {
   "cell_type": "code",
   "execution_count": 9,
   "metadata": {
    "colab": {
     "base_uri": "https://localhost:8080/",
     "height": 34
    },
    "colab_type": "code",
    "id": "KeQZx-NRrlON",
    "outputId": "ad123ec0-e14f-42ef-8a74-cdef26e0a967"
   },
   "outputs": [
    {
     "data": {
      "text/plain": [
       "(3291, 3)"
      ]
     },
     "execution_count": 9,
     "metadata": {
      "tags": []
     },
     "output_type": "execute_result"
    }
   ],
   "source": [
    "df.shape"
   ]
  },
  {
   "cell_type": "markdown",
   "metadata": {
    "colab_type": "text",
    "id": "jcWfPVqG5sYi"
   },
   "source": [
    "## Question 2"
   ]
  },
  {
   "cell_type": "markdown",
   "metadata": {
    "colab_type": "text",
    "id": "JBbAeip_5sYj"
   },
   "source": [
    "### Preprocess data\n",
    "- convert all text to lowercase - use .lower()\n",
    "- select only numbers, alphabets, and #+_ from text - use re.sub()\n",
    "- strip all the text - use .strip()\n",
    "    - this is for removing extra spaces"
   ]
  },
  {
   "cell_type": "code",
   "execution_count": 0,
   "metadata": {
    "colab": {},
    "colab_type": "code",
    "id": "PE4Bn_YT5sYj"
   },
   "outputs": [],
   "source": [
    "import spacy\n",
    "import nltk\n",
    "from nltk.tokenize.toktok import ToktokTokenizer\n",
    "import re\n",
    "import unicodedata\n",
    "df =df.apply(lambda x: x.astype(str).str.lower())"
   ]
  },
  {
   "cell_type": "markdown",
   "metadata": {
    "colab_type": "text",
    "id": "QlMvbtrK5sYl"
   },
   "source": [
    "print dataframe"
   ]
  },
  {
   "cell_type": "code",
   "execution_count": 11,
   "metadata": {
    "colab": {
     "base_uri": "https://localhost:8080/",
     "height": 1000
    },
    "colab_type": "code",
    "id": "afocjaUn5sYm",
    "outputId": "77cf2e29-5339-44ab-b6a2-3787e05a46ee"
   },
   "outputs": [
    {
     "data": {
      "text/html": [
       "<div>\n",
       "<style scoped>\n",
       "    .dataframe tbody tr th:only-of-type {\n",
       "        vertical-align: middle;\n",
       "    }\n",
       "\n",
       "    .dataframe tbody tr th {\n",
       "        vertical-align: top;\n",
       "    }\n",
       "\n",
       "    .dataframe thead th {\n",
       "        text-align: right;\n",
       "    }\n",
       "</style>\n",
       "<table border=\"1\" class=\"dataframe\">\n",
       "  <thead>\n",
       "    <tr style=\"text-align: right;\">\n",
       "      <th></th>\n",
       "      <th>tweet_text</th>\n",
       "      <th>emotion_in_tweet_is_directed_at</th>\n",
       "      <th>is_there_an_emotion_directed_at_a_brand_or_product</th>\n",
       "    </tr>\n",
       "  </thead>\n",
       "  <tbody>\n",
       "    <tr>\n",
       "      <th>0</th>\n",
       "      <td>wesley83ihavea3giphoneafter3hrstweetingat#rise...</td>\n",
       "      <td>iphone</td>\n",
       "      <td>negativeemotion</td>\n",
       "    </tr>\n",
       "    <tr>\n",
       "      <th>1</th>\n",
       "      <td>jessedeeknowaboutfludappawesomeipadiphoneappth...</td>\n",
       "      <td>ipadoriphoneapp</td>\n",
       "      <td>positiveemotion</td>\n",
       "    </tr>\n",
       "    <tr>\n",
       "      <th>2</th>\n",
       "      <td>swonderlincannotwaitfor#ipad2alsotheyshouldsal...</td>\n",
       "      <td>ipad</td>\n",
       "      <td>positiveemotion</td>\n",
       "    </tr>\n",
       "    <tr>\n",
       "      <th>3</th>\n",
       "      <td>sxswihopethisyearsfestivalisntascrashyasthisye...</td>\n",
       "      <td>ipadoriphoneapp</td>\n",
       "      <td>negativeemotion</td>\n",
       "    </tr>\n",
       "    <tr>\n",
       "      <th>4</th>\n",
       "      <td>sxtxstategreatstuffonfri#sxswmarissamayergoogl...</td>\n",
       "      <td>google</td>\n",
       "      <td>positiveemotion</td>\n",
       "    </tr>\n",
       "    <tr>\n",
       "      <th>7</th>\n",
       "      <td>#sxswisjuststarting#ctiaisaroundthecornerand#g...</td>\n",
       "      <td>android</td>\n",
       "      <td>positiveemotion</td>\n",
       "    </tr>\n",
       "    <tr>\n",
       "      <th>8</th>\n",
       "      <td>beautifullysmartandsimpleideartmadebymanythene...</td>\n",
       "      <td>ipadoriphoneapp</td>\n",
       "      <td>positiveemotion</td>\n",
       "    </tr>\n",
       "    <tr>\n",
       "      <th>9</th>\n",
       "      <td>countingdownthedaysto#sxswplusstrongcanadiando...</td>\n",
       "      <td>apple</td>\n",
       "      <td>positiveemotion</td>\n",
       "    </tr>\n",
       "    <tr>\n",
       "      <th>10</th>\n",
       "      <td>excitedtomeetthesamsungmobileusat#sxswsoicansh...</td>\n",
       "      <td>android</td>\n",
       "      <td>positiveemotion</td>\n",
       "    </tr>\n",
       "    <tr>\n",
       "      <th>11</th>\n",
       "      <td>findampstartimpromptupartiesat#sxswwithhurrica...</td>\n",
       "      <td>androidapp</td>\n",
       "      <td>positiveemotion</td>\n",
       "    </tr>\n",
       "    <tr>\n",
       "      <th>12</th>\n",
       "      <td>foursquareupsthegamejustintimefor#sxswhttpjmpg...</td>\n",
       "      <td>androidapp</td>\n",
       "      <td>positiveemotion</td>\n",
       "    </tr>\n",
       "    <tr>\n",
       "      <th>13</th>\n",
       "      <td>gottalovethis#sxswgooglecalendarfeaturingtoppa...</td>\n",
       "      <td>othergoogleproductorservice</td>\n",
       "      <td>positiveemotion</td>\n",
       "    </tr>\n",
       "    <tr>\n",
       "      <th>14</th>\n",
       "      <td>great#sxswipadappfrommadebymanyhttptinyurlcom4...</td>\n",
       "      <td>ipadoriphoneapp</td>\n",
       "      <td>positiveemotion</td>\n",
       "    </tr>\n",
       "    <tr>\n",
       "      <th>15</th>\n",
       "      <td>hahaawesomelyradipadappbymadebymanyhttpbitlyht...</td>\n",
       "      <td>ipadoriphoneapp</td>\n",
       "      <td>positiveemotion</td>\n",
       "    </tr>\n",
       "    <tr>\n",
       "      <th>17</th>\n",
       "      <td>ijustnoticeddstiscomingthisweekendhowmanyiphon...</td>\n",
       "      <td>iphone</td>\n",
       "      <td>negativeemotion</td>\n",
       "    </tr>\n",
       "    <tr>\n",
       "      <th>18</th>\n",
       "      <td>justaddedmy#sxswflightstoplanelymatchingpeople...</td>\n",
       "      <td>ipadoriphoneapp</td>\n",
       "      <td>positiveemotion</td>\n",
       "    </tr>\n",
       "    <tr>\n",
       "      <th>19</th>\n",
       "      <td>musthave#sxswapprtmalbonsterlovelyreviewfromfo...</td>\n",
       "      <td>ipadoriphoneapp</td>\n",
       "      <td>positiveemotion</td>\n",
       "    </tr>\n",
       "    <tr>\n",
       "      <th>20</th>\n",
       "      <td>needtobuyanipad2whileiminaustinat#sxswnotsurei...</td>\n",
       "      <td>ipad</td>\n",
       "      <td>positiveemotion</td>\n",
       "    </tr>\n",
       "    <tr>\n",
       "      <th>21</th>\n",
       "      <td>ohmygodthe#sxswappforipadispureunadulteratedaw...</td>\n",
       "      <td>ipadoriphoneapp</td>\n",
       "      <td>positiveemotion</td>\n",
       "    </tr>\n",
       "    <tr>\n",
       "      <th>22</th>\n",
       "      <td>okaythisisreallyityaynewfoursquarefor#androida...</td>\n",
       "      <td>androidapp</td>\n",
       "      <td>positiveemotion</td>\n",
       "    </tr>\n",
       "    <tr>\n",
       "      <th>23</th>\n",
       "      <td>photojustinstalledthe#sxswiphoneappwhichisreal...</td>\n",
       "      <td>ipadoriphoneapp</td>\n",
       "      <td>positiveemotion</td>\n",
       "    </tr>\n",
       "    <tr>\n",
       "      <th>24</th>\n",
       "      <td>reallyenjoyingthechangesingowalla30forandroidl...</td>\n",
       "      <td>androidapp</td>\n",
       "      <td>positiveemotion</td>\n",
       "    </tr>\n",
       "    <tr>\n",
       "      <th>25</th>\n",
       "      <td>rtlaurieshookimlookingforwardtothe#smcdallaspr...</td>\n",
       "      <td>ipad</td>\n",
       "      <td>positiveemotion</td>\n",
       "    </tr>\n",
       "    <tr>\n",
       "      <th>26</th>\n",
       "      <td>rthahaawesomelyradipadappbymadebymanyhttpbitly...</td>\n",
       "      <td>ipadoriphoneapp</td>\n",
       "      <td>positiveemotion</td>\n",
       "    </tr>\n",
       "    <tr>\n",
       "      <th>27</th>\n",
       "      <td>someonestartedan#austinpartnerhubgroupingoogle...</td>\n",
       "      <td>othergoogleproductorservice</td>\n",
       "      <td>positiveemotion</td>\n",
       "    </tr>\n",
       "    <tr>\n",
       "      <th>28</th>\n",
       "      <td>thenew#4sq3lookslikeitisgoingtorockupdateforip...</td>\n",
       "      <td>ipadoriphoneapp</td>\n",
       "      <td>positiveemotion</td>\n",
       "    </tr>\n",
       "    <tr>\n",
       "      <th>29</th>\n",
       "      <td>theywererightthegowalla3appon#androidissweeeee...</td>\n",
       "      <td>androidapp</td>\n",
       "      <td>positiveemotion</td>\n",
       "    </tr>\n",
       "    <tr>\n",
       "      <th>30</th>\n",
       "      <td>verysmartfrommadebymany#hollergramipadappfor#s...</td>\n",
       "      <td>ipadoriphoneapp</td>\n",
       "      <td>positiveemotion</td>\n",
       "    </tr>\n",
       "    <tr>\n",
       "      <th>31</th>\n",
       "      <td>youmusthavethisappforyouripadifyouaregoingto#s...</td>\n",
       "      <td>ipadoriphoneapp</td>\n",
       "      <td>positiveemotion</td>\n",
       "    </tr>\n",
       "    <tr>\n",
       "      <th>36</th>\n",
       "      <td>thebestrtmentionhafirstinlinefor#ipad2at#sxswq...</td>\n",
       "      <td>ipad</td>\n",
       "      <td>positiveemotion</td>\n",
       "    </tr>\n",
       "    <tr>\n",
       "      <th>...</th>\n",
       "      <td>...</td>\n",
       "      <td>...</td>\n",
       "      <td>...</td>\n",
       "    </tr>\n",
       "    <tr>\n",
       "      <th>9008</th>\n",
       "      <td>imprettysurethepanelistthatthinksquotappleisdr...</td>\n",
       "      <td>apple</td>\n",
       "      <td>negativeemotion</td>\n",
       "    </tr>\n",
       "    <tr>\n",
       "      <th>9009</th>\n",
       "      <td>veryhappythatdiscovrhasbeennamedasoneofthetopt...</td>\n",
       "      <td>ipadoriphoneapp</td>\n",
       "      <td>positiveemotion</td>\n",
       "    </tr>\n",
       "    <tr>\n",
       "      <th>9012</th>\n",
       "      <td>apparentlythereisanipadandiphoneapptoblock#sxs...</td>\n",
       "      <td>ipadoriphoneapp</td>\n",
       "      <td>positiveemotion</td>\n",
       "    </tr>\n",
       "    <tr>\n",
       "      <th>9013</th>\n",
       "      <td>onthewayto#sxswseeyoualltonighthopefullywithan...</td>\n",
       "      <td>ipad</td>\n",
       "      <td>positiveemotion</td>\n",
       "    </tr>\n",
       "    <tr>\n",
       "      <th>9017</th>\n",
       "      <td>stoppedbytronlegacyloungeat#sxswaudiosyncfunct...</td>\n",
       "      <td>ipad</td>\n",
       "      <td>positiveemotion</td>\n",
       "    </tr>\n",
       "    <tr>\n",
       "      <th>9018</th>\n",
       "      <td>seconddayusingmyappleipad2at#sxswandimreallyim...</td>\n",
       "      <td>ipad</td>\n",
       "      <td>positiveemotion</td>\n",
       "    </tr>\n",
       "    <tr>\n",
       "      <th>9022</th>\n",
       "      <td>bythewayilovethatyallaresodowntodiscussapplebr...</td>\n",
       "      <td>apple</td>\n",
       "      <td>positiveemotion</td>\n",
       "    </tr>\n",
       "    <tr>\n",
       "      <th>9025</th>\n",
       "      <td>absolutelyrtmentiontimelygoodschtufffromgoogle...</td>\n",
       "      <td>othergoogleproductorservice</td>\n",
       "      <td>positiveemotion</td>\n",
       "    </tr>\n",
       "    <tr>\n",
       "      <th>9027</th>\n",
       "      <td>goodjobyallrtmentionyesgowallawinsbestandoidap...</td>\n",
       "      <td>androidapp</td>\n",
       "      <td>positiveemotion</td>\n",
       "    </tr>\n",
       "    <tr>\n",
       "      <th>9029</th>\n",
       "      <td>topstoryat#sxswappleschoolsthemarketingexperts...</td>\n",
       "      <td>apple</td>\n",
       "      <td>positiveemotion</td>\n",
       "    </tr>\n",
       "    <tr>\n",
       "      <th>9033</th>\n",
       "      <td>mentionyepicantbelievetheysetupapopupstoreohwa...</td>\n",
       "      <td>apple</td>\n",
       "      <td>positiveemotion</td>\n",
       "    </tr>\n",
       "    <tr>\n",
       "      <th>9035</th>\n",
       "      <td>mentionyesipickeduptheipad2at#sxswmy1stone</td>\n",
       "      <td>ipad</td>\n",
       "      <td>positiveemotion</td>\n",
       "    </tr>\n",
       "    <tr>\n",
       "      <th>9036</th>\n",
       "      <td>mentionyesthatswhyifavoriteditiwanttowinineedt...</td>\n",
       "      <td>ipad</td>\n",
       "      <td>positiveemotion</td>\n",
       "    </tr>\n",
       "    <tr>\n",
       "      <th>9044</th>\n",
       "      <td>lookeveryonezomgmentiongotanipad2onthefirstday...</td>\n",
       "      <td>ipad</td>\n",
       "      <td>positiveemotion</td>\n",
       "    </tr>\n",
       "    <tr>\n",
       "      <th>9045</th>\n",
       "      <td>mentionyouaremyfavoritethanksforcomingtomentio...</td>\n",
       "      <td>iphone</td>\n",
       "      <td>positiveemotion</td>\n",
       "    </tr>\n",
       "    <tr>\n",
       "      <th>9048</th>\n",
       "      <td>mentionyoubetmankindleandappleforsureyoucanpre...</td>\n",
       "      <td>apple</td>\n",
       "      <td>positiveemotion</td>\n",
       "    </tr>\n",
       "    <tr>\n",
       "      <th>9051</th>\n",
       "      <td>mentionyoucangetanipad1forunder350nowandtheyll...</td>\n",
       "      <td>ipad</td>\n",
       "      <td>noemotiontowardbrandorproduct</td>\n",
       "    </tr>\n",
       "    <tr>\n",
       "      <th>9060</th>\n",
       "      <td>mentionyoumightalsoappreciatenewiphoneapptweet...</td>\n",
       "      <td>ipadoriphoneapp</td>\n",
       "      <td>positiveemotion</td>\n",
       "    </tr>\n",
       "    <tr>\n",
       "      <th>9061</th>\n",
       "      <td>mentionyourealizeimstillpadlessijustgaveawayac...</td>\n",
       "      <td>ipad</td>\n",
       "      <td>positiveemotion</td>\n",
       "    </tr>\n",
       "    <tr>\n",
       "      <th>9063</th>\n",
       "      <td>mentionyoushouldgettheipad2tosaveyourbackfroml...</td>\n",
       "      <td>ipad</td>\n",
       "      <td>positiveemotion</td>\n",
       "    </tr>\n",
       "    <tr>\n",
       "      <th>9064</th>\n",
       "      <td>mentionyoushouldseethelinehereat#sxswinfrontof...</td>\n",
       "      <td>apple</td>\n",
       "      <td>positiveemotion</td>\n",
       "    </tr>\n",
       "    <tr>\n",
       "      <th>9066</th>\n",
       "      <td>howmuchyouwanttobetappleisdisproportionatelyst...</td>\n",
       "      <td>apple</td>\n",
       "      <td>icanttell</td>\n",
       "    </tr>\n",
       "    <tr>\n",
       "      <th>9070</th>\n",
       "      <td>youknowyouvemadeitto#sxswwhenyouseeabunchofgro...</td>\n",
       "      <td>ipad</td>\n",
       "      <td>positiveemotion</td>\n",
       "    </tr>\n",
       "    <tr>\n",
       "      <th>9071</th>\n",
       "      <td>whatareyouressentialsfor#sxswminepocketcameral...</td>\n",
       "      <td>ipad</td>\n",
       "      <td>positiveemotion</td>\n",
       "    </tr>\n",
       "    <tr>\n",
       "      <th>9072</th>\n",
       "      <td>mentionyouriphone4casesareradandreadystopbytom...</td>\n",
       "      <td>iphone</td>\n",
       "      <td>positiveemotion</td>\n",
       "    </tr>\n",
       "    <tr>\n",
       "      <th>9077</th>\n",
       "      <td>mentionyourprguyjustconvincedmetoswitchbacktoi...</td>\n",
       "      <td>iphone</td>\n",
       "      <td>positiveemotion</td>\n",
       "    </tr>\n",
       "    <tr>\n",
       "      <th>9079</th>\n",
       "      <td>quotpapyrussortofliketheipadquotnicelol#sxswla...</td>\n",
       "      <td>ipad</td>\n",
       "      <td>positiveemotion</td>\n",
       "    </tr>\n",
       "    <tr>\n",
       "      <th>9080</th>\n",
       "      <td>dillersaysgoogletvquotmightberunoverbytheplays...</td>\n",
       "      <td>othergoogleproductorservice</td>\n",
       "      <td>negativeemotion</td>\n",
       "    </tr>\n",
       "    <tr>\n",
       "      <th>9085</th>\n",
       "      <td>ivealwaysusedcamera+formyiphonebcithasanimages...</td>\n",
       "      <td>ipadoriphoneapp</td>\n",
       "      <td>positiveemotion</td>\n",
       "    </tr>\n",
       "    <tr>\n",
       "      <th>9088</th>\n",
       "      <td>ipadeverywhere#sxswlink</td>\n",
       "      <td>ipad</td>\n",
       "      <td>positiveemotion</td>\n",
       "    </tr>\n",
       "  </tbody>\n",
       "</table>\n",
       "<p>3291 rows × 3 columns</p>\n",
       "</div>"
      ],
      "text/plain": [
       "                                             tweet_text  ... is_there_an_emotion_directed_at_a_brand_or_product\n",
       "0     wesley83ihavea3giphoneafter3hrstweetingat#rise...  ...                                    negativeemotion\n",
       "1     jessedeeknowaboutfludappawesomeipadiphoneappth...  ...                                    positiveemotion\n",
       "2     swonderlincannotwaitfor#ipad2alsotheyshouldsal...  ...                                    positiveemotion\n",
       "3     sxswihopethisyearsfestivalisntascrashyasthisye...  ...                                    negativeemotion\n",
       "4     sxtxstategreatstuffonfri#sxswmarissamayergoogl...  ...                                    positiveemotion\n",
       "7     #sxswisjuststarting#ctiaisaroundthecornerand#g...  ...                                    positiveemotion\n",
       "8     beautifullysmartandsimpleideartmadebymanythene...  ...                                    positiveemotion\n",
       "9     countingdownthedaysto#sxswplusstrongcanadiando...  ...                                    positiveemotion\n",
       "10    excitedtomeetthesamsungmobileusat#sxswsoicansh...  ...                                    positiveemotion\n",
       "11    findampstartimpromptupartiesat#sxswwithhurrica...  ...                                    positiveemotion\n",
       "12    foursquareupsthegamejustintimefor#sxswhttpjmpg...  ...                                    positiveemotion\n",
       "13    gottalovethis#sxswgooglecalendarfeaturingtoppa...  ...                                    positiveemotion\n",
       "14    great#sxswipadappfrommadebymanyhttptinyurlcom4...  ...                                    positiveemotion\n",
       "15    hahaawesomelyradipadappbymadebymanyhttpbitlyht...  ...                                    positiveemotion\n",
       "17    ijustnoticeddstiscomingthisweekendhowmanyiphon...  ...                                    negativeemotion\n",
       "18    justaddedmy#sxswflightstoplanelymatchingpeople...  ...                                    positiveemotion\n",
       "19    musthave#sxswapprtmalbonsterlovelyreviewfromfo...  ...                                    positiveemotion\n",
       "20    needtobuyanipad2whileiminaustinat#sxswnotsurei...  ...                                    positiveemotion\n",
       "21    ohmygodthe#sxswappforipadispureunadulteratedaw...  ...                                    positiveemotion\n",
       "22    okaythisisreallyityaynewfoursquarefor#androida...  ...                                    positiveemotion\n",
       "23    photojustinstalledthe#sxswiphoneappwhichisreal...  ...                                    positiveemotion\n",
       "24    reallyenjoyingthechangesingowalla30forandroidl...  ...                                    positiveemotion\n",
       "25    rtlaurieshookimlookingforwardtothe#smcdallaspr...  ...                                    positiveemotion\n",
       "26    rthahaawesomelyradipadappbymadebymanyhttpbitly...  ...                                    positiveemotion\n",
       "27    someonestartedan#austinpartnerhubgroupingoogle...  ...                                    positiveemotion\n",
       "28    thenew#4sq3lookslikeitisgoingtorockupdateforip...  ...                                    positiveemotion\n",
       "29    theywererightthegowalla3appon#androidissweeeee...  ...                                    positiveemotion\n",
       "30    verysmartfrommadebymany#hollergramipadappfor#s...  ...                                    positiveemotion\n",
       "31    youmusthavethisappforyouripadifyouaregoingto#s...  ...                                    positiveemotion\n",
       "36    thebestrtmentionhafirstinlinefor#ipad2at#sxswq...  ...                                    positiveemotion\n",
       "...                                                 ...  ...                                                ...\n",
       "9008  imprettysurethepanelistthatthinksquotappleisdr...  ...                                    negativeemotion\n",
       "9009  veryhappythatdiscovrhasbeennamedasoneofthetopt...  ...                                    positiveemotion\n",
       "9012  apparentlythereisanipadandiphoneapptoblock#sxs...  ...                                    positiveemotion\n",
       "9013  onthewayto#sxswseeyoualltonighthopefullywithan...  ...                                    positiveemotion\n",
       "9017  stoppedbytronlegacyloungeat#sxswaudiosyncfunct...  ...                                    positiveemotion\n",
       "9018  seconddayusingmyappleipad2at#sxswandimreallyim...  ...                                    positiveemotion\n",
       "9022  bythewayilovethatyallaresodowntodiscussapplebr...  ...                                    positiveemotion\n",
       "9025  absolutelyrtmentiontimelygoodschtufffromgoogle...  ...                                    positiveemotion\n",
       "9027  goodjobyallrtmentionyesgowallawinsbestandoidap...  ...                                    positiveemotion\n",
       "9029  topstoryat#sxswappleschoolsthemarketingexperts...  ...                                    positiveemotion\n",
       "9033  mentionyepicantbelievetheysetupapopupstoreohwa...  ...                                    positiveemotion\n",
       "9035         mentionyesipickeduptheipad2at#sxswmy1stone  ...                                    positiveemotion\n",
       "9036  mentionyesthatswhyifavoriteditiwanttowinineedt...  ...                                    positiveemotion\n",
       "9044  lookeveryonezomgmentiongotanipad2onthefirstday...  ...                                    positiveemotion\n",
       "9045  mentionyouaremyfavoritethanksforcomingtomentio...  ...                                    positiveemotion\n",
       "9048  mentionyoubetmankindleandappleforsureyoucanpre...  ...                                    positiveemotion\n",
       "9051  mentionyoucangetanipad1forunder350nowandtheyll...  ...                      noemotiontowardbrandorproduct\n",
       "9060  mentionyoumightalsoappreciatenewiphoneapptweet...  ...                                    positiveemotion\n",
       "9061  mentionyourealizeimstillpadlessijustgaveawayac...  ...                                    positiveemotion\n",
       "9063  mentionyoushouldgettheipad2tosaveyourbackfroml...  ...                                    positiveemotion\n",
       "9064  mentionyoushouldseethelinehereat#sxswinfrontof...  ...                                    positiveemotion\n",
       "9066  howmuchyouwanttobetappleisdisproportionatelyst...  ...                                          icanttell\n",
       "9070  youknowyouvemadeitto#sxswwhenyouseeabunchofgro...  ...                                    positiveemotion\n",
       "9071  whatareyouressentialsfor#sxswminepocketcameral...  ...                                    positiveemotion\n",
       "9072  mentionyouriphone4casesareradandreadystopbytom...  ...                                    positiveemotion\n",
       "9077  mentionyourprguyjustconvincedmetoswitchbacktoi...  ...                                    positiveemotion\n",
       "9079  quotpapyrussortofliketheipadquotnicelol#sxswla...  ...                                    positiveemotion\n",
       "9080  dillersaysgoogletvquotmightberunoverbytheplays...  ...                                    negativeemotion\n",
       "9085  ivealwaysusedcamera+formyiphonebcithasanimages...  ...                                    positiveemotion\n",
       "9088                            ipadeverywhere#sxswlink  ...                                    positiveemotion\n",
       "\n",
       "[3291 rows x 3 columns]"
      ]
     },
     "execution_count": 11,
     "metadata": {
      "tags": []
     },
     "output_type": "execute_result"
    }
   ],
   "source": [
    "def remove_chars(s):\n",
    "    return re.sub('[^a-z0-9#+_]+', '', s) \n",
    "\n",
    "df['tweet_text'] = df['tweet_text'].apply(remove_chars)\n",
    "df['emotion_in_tweet_is_directed_at'] = df['emotion_in_tweet_is_directed_at'].apply(remove_chars)\n",
    "df['is_there_an_emotion_directed_at_a_brand_or_product'] = df['is_there_an_emotion_directed_at_a_brand_or_product'].apply(remove_chars)\n",
    "df"
   ]
  },
  {
   "cell_type": "code",
   "execution_count": 0,
   "metadata": {
    "colab": {},
    "colab_type": "code",
    "id": "WZrBwCOrrwzJ"
   },
   "outputs": [],
   "source": [
    "df =df.apply(lambda x: x.astype(str).str.strip())"
   ]
  },
  {
   "cell_type": "code",
   "execution_count": 14,
   "metadata": {
    "colab": {
     "base_uri": "https://localhost:8080/",
     "height": 195
    },
    "colab_type": "code",
    "id": "PkSqqMkuryVC",
    "outputId": "623b90d9-3f61-450a-c34e-882f98a383b1"
   },
   "outputs": [
    {
     "data": {
      "text/html": [
       "<div>\n",
       "<style scoped>\n",
       "    .dataframe tbody tr th:only-of-type {\n",
       "        vertical-align: middle;\n",
       "    }\n",
       "\n",
       "    .dataframe tbody tr th {\n",
       "        vertical-align: top;\n",
       "    }\n",
       "\n",
       "    .dataframe thead th {\n",
       "        text-align: right;\n",
       "    }\n",
       "</style>\n",
       "<table border=\"1\" class=\"dataframe\">\n",
       "  <thead>\n",
       "    <tr style=\"text-align: right;\">\n",
       "      <th></th>\n",
       "      <th>tweet_text</th>\n",
       "      <th>emotion_in_tweet_is_directed_at</th>\n",
       "      <th>is_there_an_emotion_directed_at_a_brand_or_product</th>\n",
       "    </tr>\n",
       "  </thead>\n",
       "  <tbody>\n",
       "    <tr>\n",
       "      <th>0</th>\n",
       "      <td>wesley83ihavea3giphoneafter3hrstweetingat#rise...</td>\n",
       "      <td>iphone</td>\n",
       "      <td>negativeemotion</td>\n",
       "    </tr>\n",
       "    <tr>\n",
       "      <th>1</th>\n",
       "      <td>jessedeeknowaboutfludappawesomeipadiphoneappth...</td>\n",
       "      <td>ipadoriphoneapp</td>\n",
       "      <td>positiveemotion</td>\n",
       "    </tr>\n",
       "    <tr>\n",
       "      <th>2</th>\n",
       "      <td>swonderlincannotwaitfor#ipad2alsotheyshouldsal...</td>\n",
       "      <td>ipad</td>\n",
       "      <td>positiveemotion</td>\n",
       "    </tr>\n",
       "    <tr>\n",
       "      <th>3</th>\n",
       "      <td>sxswihopethisyearsfestivalisntascrashyasthisye...</td>\n",
       "      <td>ipadoriphoneapp</td>\n",
       "      <td>negativeemotion</td>\n",
       "    </tr>\n",
       "    <tr>\n",
       "      <th>4</th>\n",
       "      <td>sxtxstategreatstuffonfri#sxswmarissamayergoogl...</td>\n",
       "      <td>google</td>\n",
       "      <td>positiveemotion</td>\n",
       "    </tr>\n",
       "  </tbody>\n",
       "</table>\n",
       "</div>"
      ],
      "text/plain": [
       "                                          tweet_text  ... is_there_an_emotion_directed_at_a_brand_or_product\n",
       "0  wesley83ihavea3giphoneafter3hrstweetingat#rise...  ...                                    negativeemotion\n",
       "1  jessedeeknowaboutfludappawesomeipadiphoneappth...  ...                                    positiveemotion\n",
       "2  swonderlincannotwaitfor#ipad2alsotheyshouldsal...  ...                                    positiveemotion\n",
       "3  sxswihopethisyearsfestivalisntascrashyasthisye...  ...                                    negativeemotion\n",
       "4  sxtxstategreatstuffonfri#sxswmarissamayergoogl...  ...                                    positiveemotion\n",
       "\n",
       "[5 rows x 3 columns]"
      ]
     },
     "execution_count": 14,
     "metadata": {
      "tags": []
     },
     "output_type": "execute_result"
    }
   ],
   "source": [
    "df.head()"
   ]
  },
  {
   "cell_type": "markdown",
   "metadata": {
    "colab_type": "text",
    "id": "bcTUnvtg5sYn"
   },
   "source": [
    "## Question 3"
   ]
  },
  {
   "cell_type": "markdown",
   "metadata": {
    "colab_type": "text",
    "id": "4gnaeSXZ5sYo"
   },
   "source": [
    "### Preprocess data\n",
    "- in column \"is_there_an_emotion_directed_at_a_brand_or_product\"\n",
    "    - select only those rows where value equal to \"positive emotion\" or \"negative emotion\"\n",
    "- find the value counts of \"positive emotion\" and \"negative emotion\""
   ]
  },
  {
   "cell_type": "code",
   "execution_count": 0,
   "metadata": {
    "colab": {},
    "colab_type": "code",
    "id": "nLewJh_35sYp"
   },
   "outputs": [],
   "source": [
    "df1 = df.loc[df['is_there_an_emotion_directed_at_a_brand_or_product'].isin(['positiveemotion','negativeemotion'])]"
   ]
  },
  {
   "cell_type": "code",
   "execution_count": 16,
   "metadata": {
    "colab": {
     "base_uri": "https://localhost:8080/",
     "height": 34
    },
    "colab_type": "code",
    "id": "3VFYB4eh5sYr",
    "outputId": "b0a955e8-34e4-4207-d060-555ff4ab64bf"
   },
   "outputs": [
    {
     "data": {
      "text/plain": [
       "(3191, 3)"
      ]
     },
     "execution_count": 16,
     "metadata": {
      "tags": []
     },
     "output_type": "execute_result"
    }
   ],
   "source": [
    "df1.shape"
   ]
  },
  {
   "cell_type": "code",
   "execution_count": 17,
   "metadata": {
    "colab": {
     "base_uri": "https://localhost:8080/",
     "height": 34
    },
    "colab_type": "code",
    "id": "JdphgQn_r9KC",
    "outputId": "91c3e3b5-0701-4f81-96ab-5b2309090c68"
   },
   "outputs": [
    {
     "data": {
      "text/plain": [
       "2672"
      ]
     },
     "execution_count": 17,
     "metadata": {
      "tags": []
     },
     "output_type": "execute_result"
    }
   ],
   "source": [
    "df1['is_there_an_emotion_directed_at_a_brand_or_product'].value_counts().loc['positiveemotion']"
   ]
  },
  {
   "cell_type": "code",
   "execution_count": 18,
   "metadata": {
    "colab": {
     "base_uri": "https://localhost:8080/",
     "height": 34
    },
    "colab_type": "code",
    "id": "UwatK_RAsABO",
    "outputId": "7a7152d9-a1d2-4c00-8dd8-7dbbd488e182"
   },
   "outputs": [
    {
     "data": {
      "text/plain": [
       "519"
      ]
     },
     "execution_count": 18,
     "metadata": {
      "tags": []
     },
     "output_type": "execute_result"
    }
   ],
   "source": [
    "df1['is_there_an_emotion_directed_at_a_brand_or_product'].value_counts().loc['negativeemotion']"
   ]
  },
  {
   "cell_type": "markdown",
   "metadata": {
    "colab_type": "text",
    "id": "6icGcVTE5sYz"
   },
   "source": [
    "## Question 4"
   ]
  },
  {
   "cell_type": "markdown",
   "metadata": {
    "colab_type": "text",
    "id": "Rg0rSepj5sYz"
   },
   "source": [
    "### Encode labels\n",
    "- in column \"is_there_an_emotion_directed_at_a_brand_or_product\"\n",
    "    - change \"positive emotion\" to 1\n",
    "    - change \"negative emotion\" to 0\n",
    "- use map function to replace values"
   ]
  },
  {
   "cell_type": "code",
   "execution_count": 19,
   "metadata": {
    "colab": {
     "base_uri": "https://localhost:8080/",
     "height": 118
    },
    "colab_type": "code",
    "id": "YftKwFv7H0N9",
    "outputId": "e6e9a233-dcb6-4a97-80ff-442bb4a59a8c"
   },
   "outputs": [
    {
     "name": "stderr",
     "output_type": "stream",
     "text": [
      "/usr/local/lib/python3.6/dist-packages/ipykernel_launcher.py:1: SettingWithCopyWarning: \n",
      "A value is trying to be set on a copy of a slice from a DataFrame.\n",
      "Try using .loc[row_indexer,col_indexer] = value instead\n",
      "\n",
      "See the caveats in the documentation: http://pandas.pydata.org/pandas-docs/stable/indexing.html#indexing-view-versus-copy\n",
      "  \"\"\"Entry point for launching an IPython kernel.\n"
     ]
    }
   ],
   "source": [
    "df1['is_there_an_emotion_directed_at_a_brand_or_product']=df1.is_there_an_emotion_directed_at_a_brand_or_product.map({'positiveemotion':1,'negativeemotion':0})"
   ]
  },
  {
   "cell_type": "code",
   "execution_count": 20,
   "metadata": {
    "colab": {
     "base_uri": "https://localhost:8080/",
     "height": 195
    },
    "colab_type": "code",
    "id": "b4yWw9e7sHNK",
    "outputId": "ec2e58da-9dce-49ee-fa37-5b97cf873487"
   },
   "outputs": [
    {
     "data": {
      "text/html": [
       "<div>\n",
       "<style scoped>\n",
       "    .dataframe tbody tr th:only-of-type {\n",
       "        vertical-align: middle;\n",
       "    }\n",
       "\n",
       "    .dataframe tbody tr th {\n",
       "        vertical-align: top;\n",
       "    }\n",
       "\n",
       "    .dataframe thead th {\n",
       "        text-align: right;\n",
       "    }\n",
       "</style>\n",
       "<table border=\"1\" class=\"dataframe\">\n",
       "  <thead>\n",
       "    <tr style=\"text-align: right;\">\n",
       "      <th></th>\n",
       "      <th>tweet_text</th>\n",
       "      <th>emotion_in_tweet_is_directed_at</th>\n",
       "      <th>is_there_an_emotion_directed_at_a_brand_or_product</th>\n",
       "    </tr>\n",
       "  </thead>\n",
       "  <tbody>\n",
       "    <tr>\n",
       "      <th>0</th>\n",
       "      <td>wesley83ihavea3giphoneafter3hrstweetingat#rise...</td>\n",
       "      <td>iphone</td>\n",
       "      <td>0</td>\n",
       "    </tr>\n",
       "    <tr>\n",
       "      <th>1</th>\n",
       "      <td>jessedeeknowaboutfludappawesomeipadiphoneappth...</td>\n",
       "      <td>ipadoriphoneapp</td>\n",
       "      <td>1</td>\n",
       "    </tr>\n",
       "    <tr>\n",
       "      <th>2</th>\n",
       "      <td>swonderlincannotwaitfor#ipad2alsotheyshouldsal...</td>\n",
       "      <td>ipad</td>\n",
       "      <td>1</td>\n",
       "    </tr>\n",
       "    <tr>\n",
       "      <th>3</th>\n",
       "      <td>sxswihopethisyearsfestivalisntascrashyasthisye...</td>\n",
       "      <td>ipadoriphoneapp</td>\n",
       "      <td>0</td>\n",
       "    </tr>\n",
       "    <tr>\n",
       "      <th>4</th>\n",
       "      <td>sxtxstategreatstuffonfri#sxswmarissamayergoogl...</td>\n",
       "      <td>google</td>\n",
       "      <td>1</td>\n",
       "    </tr>\n",
       "  </tbody>\n",
       "</table>\n",
       "</div>"
      ],
      "text/plain": [
       "                                          tweet_text  ... is_there_an_emotion_directed_at_a_brand_or_product\n",
       "0  wesley83ihavea3giphoneafter3hrstweetingat#rise...  ...                                                  0\n",
       "1  jessedeeknowaboutfludappawesomeipadiphoneappth...  ...                                                  1\n",
       "2  swonderlincannotwaitfor#ipad2alsotheyshouldsal...  ...                                                  1\n",
       "3  sxswihopethisyearsfestivalisntascrashyasthisye...  ...                                                  0\n",
       "4  sxtxstategreatstuffonfri#sxswmarissamayergoogl...  ...                                                  1\n",
       "\n",
       "[5 rows x 3 columns]"
      ]
     },
     "execution_count": 20,
     "metadata": {
      "tags": []
     },
     "output_type": "execute_result"
    }
   ],
   "source": [
    "df1.head()"
   ]
  },
  {
   "cell_type": "markdown",
   "metadata": {
    "colab_type": "text",
    "id": "sC1qSe3h5sY2"
   },
   "source": [
    "## Question 5"
   ]
  },
  {
   "cell_type": "markdown",
   "metadata": {
    "colab_type": "text",
    "id": "aWlAN_Ts5sY2"
   },
   "source": [
    "### Get feature and label\n",
    "- get column \"tweet_text\" as feature\n",
    "- get column \"is_there_an_emotion_directed_at_a_brand_or_product\" as label"
   ]
  },
  {
   "cell_type": "code",
   "execution_count": 0,
   "metadata": {
    "colab": {},
    "colab_type": "code",
    "id": "9A3sOZzR5sY4"
   },
   "outputs": [],
   "source": [
    "X = df1['tweet_text'].values\n",
    "y = df1['is_there_an_emotion_directed_at_a_brand_or_product'].values"
   ]
  },
  {
   "cell_type": "markdown",
   "metadata": {
    "colab_type": "text",
    "id": "3YErwYLCH0N_"
   },
   "source": [
    "### Create train and test data\n",
    "- use train_test_split to get train and test set\n",
    "- set a random_state\n",
    "- test_size: 0.25"
   ]
  },
  {
   "cell_type": "code",
   "execution_count": 22,
   "metadata": {
    "colab": {
     "base_uri": "https://localhost:8080/",
     "height": 50
    },
    "colab_type": "code",
    "id": "lNkwrGgEH0OA",
    "outputId": "8880a230-a17e-47e5-81a1-61e62a3ed4fb"
   },
   "outputs": [
    {
     "name": "stdout",
     "output_type": "stream",
     "text": [
      "(2393,) (2393,)\n",
      "(798,) (798,)\n"
     ]
    }
   ],
   "source": [
    "from sklearn.model_selection import train_test_split\n",
    "X_train, X_test, y_train, y_test = train_test_split(X,y, test_size = 0.25, random_state = 28)\n",
    "print(y_train.shape,y_train.shape)\n",
    "print(X_test.shape,y_test.shape)"
   ]
  },
  {
   "cell_type": "markdown",
   "metadata": {
    "colab_type": "text",
    "id": "gMok2IX35sY8"
   },
   "source": [
    "## Question 6"
   ]
  },
  {
   "cell_type": "markdown",
   "metadata": {
    "colab_type": "text",
    "id": "dSqYjPuT5sY8"
   },
   "source": [
    "### Vectorize data\n",
    "- create document-term matrix\n",
    "- use CountVectorizer()\n",
    "    - ngram_range: (1, 2)\n",
    "    - stop_words: 'english'\n",
    "    - min_df: 2   \n",
    "- do fit_transform on X_train\n",
    "- do transform on X_test"
   ]
  },
  {
   "cell_type": "code",
   "execution_count": 0,
   "metadata": {
    "colab": {},
    "colab_type": "code",
    "id": "bb9PnnqT5sY8"
   },
   "outputs": [],
   "source": [
    "from sklearn.feature_extraction.text import CountVectorizer, TfidfVectorizer\n",
    "from sklearn.naive_bayes import MultinomialNB\n",
    "from sklearn.linear_model import LogisticRegression\n",
    "from sklearn import metrics\n",
    "from textblob import TextBlob, Word\n",
    "from nltk.stem.snowball import SnowballStemmer\n",
    "%matplotlib inline\n",
    "vect = CountVectorizer(ngram_range=(1, 2), stop_words='english', min_df=2)"
   ]
  },
  {
   "cell_type": "code",
   "execution_count": 0,
   "metadata": {
    "colab": {},
    "colab_type": "code",
    "id": "H6NZ0MgKsWry"
   },
   "outputs": [],
   "source": [
    "X_train_dtm = vect.fit_transform(X_train)"
   ]
  },
  {
   "cell_type": "code",
   "execution_count": 25,
   "metadata": {
    "colab": {
     "base_uri": "https://localhost:8080/",
     "height": 34
    },
    "colab_type": "code",
    "id": "xE6y0SW1sX5Q",
    "outputId": "810e22ac-eb81-457a-eb2f-848493cd9563"
   },
   "outputs": [
    {
     "data": {
      "text/plain": [
       "(2393, 602)"
      ]
     },
     "execution_count": 25,
     "metadata": {
      "tags": []
     },
     "output_type": "execute_result"
    }
   ],
   "source": [
    "X_train_dtm.shape"
   ]
  },
  {
   "cell_type": "code",
   "execution_count": 0,
   "metadata": {
    "colab": {},
    "colab_type": "code",
    "id": "pUA2gmclsaHN"
   },
   "outputs": [],
   "source": [
    "X_test_dtm = vect.transform(X_test)"
   ]
  },
  {
   "cell_type": "markdown",
   "metadata": {
    "colab_type": "text",
    "id": "qanDXve15sY_"
   },
   "source": [
    "## Question 7"
   ]
  },
  {
   "cell_type": "markdown",
   "metadata": {
    "colab_type": "text",
    "id": "uMaRNFkV5sY_"
   },
   "source": [
    "### Select classifier logistic regression\n",
    "- use logistic regression for predicting sentiment of the given tweet\n",
    "- initialize classifier"
   ]
  },
  {
   "cell_type": "code",
   "execution_count": 0,
   "metadata": {
    "colab": {},
    "colab_type": "code",
    "id": "GT3dNgB55sZA"
   },
   "outputs": [],
   "source": [
    "lr = LogisticRegression()"
   ]
  },
  {
   "cell_type": "markdown",
   "metadata": {
    "colab_type": "text",
    "id": "pqQ6_HX35sZD"
   },
   "source": [
    "### Fit the classifer\n",
    "- fit logistic regression classifier"
   ]
  },
  {
   "cell_type": "code",
   "execution_count": 28,
   "metadata": {
    "colab": {
     "base_uri": "https://localhost:8080/",
     "height": 154
    },
    "colab_type": "code",
    "id": "EIzvnNkq5sZD",
    "outputId": "5c7d6212-81e9-4891-8392-4c12c0f62da7"
   },
   "outputs": [
    {
     "name": "stderr",
     "output_type": "stream",
     "text": [
      "/usr/local/lib/python3.6/dist-packages/sklearn/linear_model/logistic.py:432: FutureWarning: Default solver will be changed to 'lbfgs' in 0.22. Specify a solver to silence this warning.\n",
      "  FutureWarning)\n"
     ]
    },
    {
     "data": {
      "text/plain": [
       "LogisticRegression(C=1.0, class_weight=None, dual=False, fit_intercept=True,\n",
       "                   intercept_scaling=1, l1_ratio=None, max_iter=100,\n",
       "                   multi_class='warn', n_jobs=None, penalty='l2',\n",
       "                   random_state=None, solver='warn', tol=0.0001, verbose=0,\n",
       "                   warm_start=False)"
      ]
     },
     "execution_count": 28,
     "metadata": {
      "tags": []
     },
     "output_type": "execute_result"
    }
   ],
   "source": [
    "lr.fit(X_train_dtm, y_train)"
   ]
  },
  {
   "cell_type": "markdown",
   "metadata": {
    "colab_type": "text",
    "id": "SZpMsYQF5sZF"
   },
   "source": [
    "## Question 8"
   ]
  },
  {
   "cell_type": "markdown",
   "metadata": {
    "colab_type": "text",
    "id": "KGnQnUww5sZF"
   },
   "source": [
    "### Select classifier naive bayes\n",
    "- use naive bayes for predicting sentiment of the given tweet\n",
    "- initialize classifier\n",
    "- use MultinomialNB"
   ]
  },
  {
   "cell_type": "code",
   "execution_count": 0,
   "metadata": {
    "colab": {},
    "colab_type": "code",
    "id": "2AbVYssaH0OE"
   },
   "outputs": [],
   "source": [
    "nb = MultinomialNB()"
   ]
  },
  {
   "cell_type": "markdown",
   "metadata": {
    "colab_type": "text",
    "id": "QEaG942m5sZI"
   },
   "source": [
    "### Fit the classifer\n",
    "- fit naive bayes classifier"
   ]
  },
  {
   "cell_type": "code",
   "execution_count": 30,
   "metadata": {
    "colab": {
     "base_uri": "https://localhost:8080/",
     "height": 34
    },
    "colab_type": "code",
    "id": "rLwRBj1R5sZI",
    "outputId": "bcf61023-a753-4534-ba76-dea8b63e815a"
   },
   "outputs": [
    {
     "data": {
      "text/plain": [
       "MultinomialNB(alpha=1.0, class_prior=None, fit_prior=True)"
      ]
     },
     "execution_count": 30,
     "metadata": {
      "tags": []
     },
     "output_type": "execute_result"
    }
   ],
   "source": [
    "nb.fit(X_train_dtm, y_train)"
   ]
  },
  {
   "cell_type": "markdown",
   "metadata": {
    "colab_type": "text",
    "id": "A7mgwYDJ5sZM"
   },
   "source": [
    "## Question 9"
   ]
  },
  {
   "cell_type": "markdown",
   "metadata": {
    "colab_type": "text",
    "id": "sZkA3tce5sZN"
   },
   "source": [
    "### Make predictions on logistic regression\n",
    "- use your trained logistic regression model to make predictions on X_test"
   ]
  },
  {
   "cell_type": "code",
   "execution_count": 0,
   "metadata": {
    "colab": {},
    "colab_type": "code",
    "id": "l3f0M1ch5sZO"
   },
   "outputs": [],
   "source": [
    "y_pred_lr = lr.predict(X_test_dtm)"
   ]
  },
  {
   "cell_type": "markdown",
   "metadata": {
    "colab_type": "text",
    "id": "lrIxjMUB5sZQ"
   },
   "source": [
    "### Make predictions on naive bayes\n",
    "- use your trained naive bayes model to make predictions on X_test\n",
    "- use a different variable name to store predictions so that they are kept separately"
   ]
  },
  {
   "cell_type": "code",
   "execution_count": 0,
   "metadata": {
    "colab": {},
    "colab_type": "code",
    "id": "ZSQnwyLU5sZQ"
   },
   "outputs": [],
   "source": [
    "y_pred_nb = nb.predict(X_test_dtm)"
   ]
  },
  {
   "cell_type": "markdown",
   "metadata": {
    "colab_type": "text",
    "id": "rwXQUE7b5sZS"
   },
   "source": [
    "## Question 10"
   ]
  },
  {
   "cell_type": "markdown",
   "metadata": {
    "colab_type": "text",
    "id": "E6SITIE75sZT"
   },
   "source": [
    "### Calculate accuracy of logistic regression\n",
    "- check accuracy of logistic regression classifer\n",
    "- use sklearn.metrics.accuracy_score"
   ]
  },
  {
   "cell_type": "code",
   "execution_count": 33,
   "metadata": {
    "colab": {
     "base_uri": "https://localhost:8080/",
     "height": 34
    },
    "colab_type": "code",
    "id": "clv2X0kKH0Ok",
    "outputId": "c96085ac-8001-41e0-f95b-1d4bd6fdea74"
   },
   "outputs": [
    {
     "data": {
      "text/plain": [
       "0.849624060150376"
      ]
     },
     "execution_count": 33,
     "metadata": {
      "tags": []
     },
     "output_type": "execute_result"
    }
   ],
   "source": [
    "metrics.accuracy_score(y_test, y_pred_lr)"
   ]
  },
  {
   "cell_type": "markdown",
   "metadata": {
    "colab_type": "text",
    "id": "1Fd_Gnd05sZV"
   },
   "source": [
    "### Calculate accuracy of naive bayes\n",
    "- check accuracy of naive bayes classifer\n",
    "- use sklearn.metrics.accuracy_score"
   ]
  },
  {
   "cell_type": "code",
   "execution_count": 34,
   "metadata": {
    "colab": {
     "base_uri": "https://localhost:8080/",
     "height": 34
    },
    "colab_type": "code",
    "id": "d32uBpHi5sZW",
    "outputId": "2027d284-f4b4-4fc6-ef98-8b7875416af8"
   },
   "outputs": [
    {
     "data": {
      "text/plain": [
       "0.8546365914786967"
      ]
     },
     "execution_count": 34,
     "metadata": {
      "tags": []
     },
     "output_type": "execute_result"
    }
   ],
   "source": [
    "metrics.accuracy_score(y_test, y_pred_nb)"
   ]
  }
 ],
 "metadata": {
  "accelerator": "GPU",
  "colab": {
   "collapsed_sections": [],
   "name": "R8_Internal_Lab_Questions_Mnist.ipynb",
   "provenance": []
  },
  "kernelspec": {
   "display_name": "Python 3",
   "language": "python",
   "name": "python3"
  },
  "language_info": {
   "codemirror_mode": {
    "name": "ipython",
    "version": 3
   },
   "file_extension": ".py",
   "mimetype": "text/x-python",
   "name": "python",
   "nbconvert_exporter": "python",
   "pygments_lexer": "ipython3",
   "version": "3.7.1"
  }
 },
 "nbformat": 4,
 "nbformat_minor": 1
}
