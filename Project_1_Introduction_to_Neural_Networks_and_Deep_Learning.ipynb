{
  "nbformat": 4,
  "nbformat_minor": 0,
  "metadata": {
    "colab": {
      "name": "Project-1_Introduction to Neural Networks and Deep Learning_Rohit.ipynb",
      "provenance": [],
      "collapsed_sections": []
    },
    "kernelspec": {
      "name": "python3",
      "display_name": "Python 3"
    }
  },
  "cells": [
    {
      "cell_type": "code",
      "metadata": {
        "id": "3kz1oJDi-koj",
        "colab_type": "code",
        "colab": {}
      },
      "source": [
        "import numpy as np\n",
        "import pandas as pd"
      ],
      "execution_count": 0,
      "outputs": []
    },
    {
      "cell_type": "code",
      "metadata": {
        "id": "zrHBW5RX-6OR",
        "colab_type": "code",
        "colab": {
          "base_uri": "https://localhost:8080/",
          "height": 121
        },
        "outputId": "79d696b0-8712-4354-bd49-37ed7141136b"
      },
      "source": [
        "from google.colab import drive\n",
        "drive.mount('/content/drive')"
      ],
      "execution_count": 2,
      "outputs": [
        {
          "output_type": "stream",
          "text": [
            "Go to this URL in a browser: https://accounts.google.com/o/oauth2/auth?client_id=947318989803-6bn6qk8qdgf4n4g3pfee6491hc0brc4i.apps.googleusercontent.com&redirect_uri=urn%3Aietf%3Awg%3Aoauth%3A2.0%3Aoob&scope=email%20https%3A%2F%2Fwww.googleapis.com%2Fauth%2Fdocs.test%20https%3A%2F%2Fwww.googleapis.com%2Fauth%2Fdrive%20https%3A%2F%2Fwww.googleapis.com%2Fauth%2Fdrive.photos.readonly%20https%3A%2F%2Fwww.googleapis.com%2Fauth%2Fpeopleapi.readonly&response_type=code\n",
            "\n",
            "Enter your authorization code:\n",
            "··········\n",
            "Mounted at /content/drive\n"
          ],
          "name": "stdout"
        }
      ]
    },
    {
      "cell_type": "code",
      "metadata": {
        "id": "WFnx6zYg-7IB",
        "colab_type": "code",
        "colab": {}
      },
      "source": [
        "bank_data = pd.read_csv('/content/bank.csv')"
      ],
      "execution_count": 0,
      "outputs": []
    },
    {
      "cell_type": "code",
      "metadata": {
        "id": "iFvo0n4f_atK",
        "colab_type": "code",
        "colab": {
          "base_uri": "https://localhost:8080/",
          "height": 215
        },
        "outputId": "6ad01d8d-faf9-41b3-bcd0-5e09ad6cad9f"
      },
      "source": [
        "bank_data.head()"
      ],
      "execution_count": 29,
      "outputs": [
        {
          "output_type": "execute_result",
          "data": {
            "text/html": [
              "<div>\n",
              "<style scoped>\n",
              "    .dataframe tbody tr th:only-of-type {\n",
              "        vertical-align: middle;\n",
              "    }\n",
              "\n",
              "    .dataframe tbody tr th {\n",
              "        vertical-align: top;\n",
              "    }\n",
              "\n",
              "    .dataframe thead th {\n",
              "        text-align: right;\n",
              "    }\n",
              "</style>\n",
              "<table border=\"1\" class=\"dataframe\">\n",
              "  <thead>\n",
              "    <tr style=\"text-align: right;\">\n",
              "      <th></th>\n",
              "      <th>RowNumber</th>\n",
              "      <th>CustomerId</th>\n",
              "      <th>Surname</th>\n",
              "      <th>CreditScore</th>\n",
              "      <th>Geography</th>\n",
              "      <th>Gender</th>\n",
              "      <th>Age</th>\n",
              "      <th>Tenure</th>\n",
              "      <th>Balance</th>\n",
              "      <th>NumOfProducts</th>\n",
              "      <th>HasCrCard</th>\n",
              "      <th>IsActiveMember</th>\n",
              "      <th>EstimatedSalary</th>\n",
              "      <th>Exited</th>\n",
              "    </tr>\n",
              "  </thead>\n",
              "  <tbody>\n",
              "    <tr>\n",
              "      <th>0</th>\n",
              "      <td>1</td>\n",
              "      <td>15634602</td>\n",
              "      <td>Hargrave</td>\n",
              "      <td>619</td>\n",
              "      <td>France</td>\n",
              "      <td>Female</td>\n",
              "      <td>42</td>\n",
              "      <td>2</td>\n",
              "      <td>0.00</td>\n",
              "      <td>1</td>\n",
              "      <td>1</td>\n",
              "      <td>1</td>\n",
              "      <td>101348.88</td>\n",
              "      <td>1</td>\n",
              "    </tr>\n",
              "    <tr>\n",
              "      <th>1</th>\n",
              "      <td>2</td>\n",
              "      <td>15647311</td>\n",
              "      <td>Hill</td>\n",
              "      <td>608</td>\n",
              "      <td>Spain</td>\n",
              "      <td>Female</td>\n",
              "      <td>41</td>\n",
              "      <td>1</td>\n",
              "      <td>83807.86</td>\n",
              "      <td>1</td>\n",
              "      <td>0</td>\n",
              "      <td>1</td>\n",
              "      <td>112542.58</td>\n",
              "      <td>0</td>\n",
              "    </tr>\n",
              "    <tr>\n",
              "      <th>2</th>\n",
              "      <td>3</td>\n",
              "      <td>15619304</td>\n",
              "      <td>Onio</td>\n",
              "      <td>502</td>\n",
              "      <td>France</td>\n",
              "      <td>Female</td>\n",
              "      <td>42</td>\n",
              "      <td>8</td>\n",
              "      <td>159660.80</td>\n",
              "      <td>3</td>\n",
              "      <td>1</td>\n",
              "      <td>0</td>\n",
              "      <td>113931.57</td>\n",
              "      <td>1</td>\n",
              "    </tr>\n",
              "    <tr>\n",
              "      <th>3</th>\n",
              "      <td>4</td>\n",
              "      <td>15701354</td>\n",
              "      <td>Boni</td>\n",
              "      <td>699</td>\n",
              "      <td>France</td>\n",
              "      <td>Female</td>\n",
              "      <td>39</td>\n",
              "      <td>1</td>\n",
              "      <td>0.00</td>\n",
              "      <td>2</td>\n",
              "      <td>0</td>\n",
              "      <td>0</td>\n",
              "      <td>93826.63</td>\n",
              "      <td>0</td>\n",
              "    </tr>\n",
              "    <tr>\n",
              "      <th>4</th>\n",
              "      <td>5</td>\n",
              "      <td>15737888</td>\n",
              "      <td>Mitchell</td>\n",
              "      <td>850</td>\n",
              "      <td>Spain</td>\n",
              "      <td>Female</td>\n",
              "      <td>43</td>\n",
              "      <td>2</td>\n",
              "      <td>125510.82</td>\n",
              "      <td>1</td>\n",
              "      <td>1</td>\n",
              "      <td>1</td>\n",
              "      <td>79084.10</td>\n",
              "      <td>0</td>\n",
              "    </tr>\n",
              "  </tbody>\n",
              "</table>\n",
              "</div>"
            ],
            "text/plain": [
              "   RowNumber  CustomerId   Surname  ...  IsActiveMember EstimatedSalary Exited\n",
              "0          1    15634602  Hargrave  ...               1       101348.88      1\n",
              "1          2    15647311      Hill  ...               1       112542.58      0\n",
              "2          3    15619304      Onio  ...               0       113931.57      1\n",
              "3          4    15701354      Boni  ...               0        93826.63      0\n",
              "4          5    15737888  Mitchell  ...               1        79084.10      0\n",
              "\n",
              "[5 rows x 14 columns]"
            ]
          },
          "metadata": {
            "tags": []
          },
          "execution_count": 29
        }
      ]
    },
    {
      "cell_type": "code",
      "metadata": {
        "id": "p-KfNaFU_jVR",
        "colab_type": "code",
        "colab": {
          "base_uri": "https://localhost:8080/",
          "height": 34
        },
        "outputId": "640fc91e-d874-4269-97b8-ee0799476f98"
      },
      "source": [
        "bank_data.shape"
      ],
      "execution_count": 30,
      "outputs": [
        {
          "output_type": "execute_result",
          "data": {
            "text/plain": [
              "(10000, 14)"
            ]
          },
          "metadata": {
            "tags": []
          },
          "execution_count": 30
        }
      ]
    },
    {
      "cell_type": "code",
      "metadata": {
        "id": "3qO4TsTR_ngF",
        "colab_type": "code",
        "colab": {
          "base_uri": "https://localhost:8080/",
          "height": 304
        },
        "outputId": "a32d762a-a118-4f42-cc1e-ba07d01a15a7"
      },
      "source": [
        "bank_data.describe()"
      ],
      "execution_count": 31,
      "outputs": [
        {
          "output_type": "execute_result",
          "data": {
            "text/html": [
              "<div>\n",
              "<style scoped>\n",
              "    .dataframe tbody tr th:only-of-type {\n",
              "        vertical-align: middle;\n",
              "    }\n",
              "\n",
              "    .dataframe tbody tr th {\n",
              "        vertical-align: top;\n",
              "    }\n",
              "\n",
              "    .dataframe thead th {\n",
              "        text-align: right;\n",
              "    }\n",
              "</style>\n",
              "<table border=\"1\" class=\"dataframe\">\n",
              "  <thead>\n",
              "    <tr style=\"text-align: right;\">\n",
              "      <th></th>\n",
              "      <th>RowNumber</th>\n",
              "      <th>CustomerId</th>\n",
              "      <th>CreditScore</th>\n",
              "      <th>Age</th>\n",
              "      <th>Tenure</th>\n",
              "      <th>Balance</th>\n",
              "      <th>NumOfProducts</th>\n",
              "      <th>HasCrCard</th>\n",
              "      <th>IsActiveMember</th>\n",
              "      <th>EstimatedSalary</th>\n",
              "      <th>Exited</th>\n",
              "    </tr>\n",
              "  </thead>\n",
              "  <tbody>\n",
              "    <tr>\n",
              "      <th>count</th>\n",
              "      <td>10000.00000</td>\n",
              "      <td>1.000000e+04</td>\n",
              "      <td>10000.000000</td>\n",
              "      <td>10000.000000</td>\n",
              "      <td>10000.000000</td>\n",
              "      <td>10000.000000</td>\n",
              "      <td>10000.000000</td>\n",
              "      <td>10000.00000</td>\n",
              "      <td>10000.000000</td>\n",
              "      <td>10000.000000</td>\n",
              "      <td>10000.000000</td>\n",
              "    </tr>\n",
              "    <tr>\n",
              "      <th>mean</th>\n",
              "      <td>5000.50000</td>\n",
              "      <td>1.569094e+07</td>\n",
              "      <td>650.528800</td>\n",
              "      <td>38.921800</td>\n",
              "      <td>5.012800</td>\n",
              "      <td>76485.889288</td>\n",
              "      <td>1.530200</td>\n",
              "      <td>0.70550</td>\n",
              "      <td>0.515100</td>\n",
              "      <td>100090.239881</td>\n",
              "      <td>0.203700</td>\n",
              "    </tr>\n",
              "    <tr>\n",
              "      <th>std</th>\n",
              "      <td>2886.89568</td>\n",
              "      <td>7.193619e+04</td>\n",
              "      <td>96.653299</td>\n",
              "      <td>10.487806</td>\n",
              "      <td>2.892174</td>\n",
              "      <td>62397.405202</td>\n",
              "      <td>0.581654</td>\n",
              "      <td>0.45584</td>\n",
              "      <td>0.499797</td>\n",
              "      <td>57510.492818</td>\n",
              "      <td>0.402769</td>\n",
              "    </tr>\n",
              "    <tr>\n",
              "      <th>min</th>\n",
              "      <td>1.00000</td>\n",
              "      <td>1.556570e+07</td>\n",
              "      <td>350.000000</td>\n",
              "      <td>18.000000</td>\n",
              "      <td>0.000000</td>\n",
              "      <td>0.000000</td>\n",
              "      <td>1.000000</td>\n",
              "      <td>0.00000</td>\n",
              "      <td>0.000000</td>\n",
              "      <td>11.580000</td>\n",
              "      <td>0.000000</td>\n",
              "    </tr>\n",
              "    <tr>\n",
              "      <th>25%</th>\n",
              "      <td>2500.75000</td>\n",
              "      <td>1.562853e+07</td>\n",
              "      <td>584.000000</td>\n",
              "      <td>32.000000</td>\n",
              "      <td>3.000000</td>\n",
              "      <td>0.000000</td>\n",
              "      <td>1.000000</td>\n",
              "      <td>0.00000</td>\n",
              "      <td>0.000000</td>\n",
              "      <td>51002.110000</td>\n",
              "      <td>0.000000</td>\n",
              "    </tr>\n",
              "    <tr>\n",
              "      <th>50%</th>\n",
              "      <td>5000.50000</td>\n",
              "      <td>1.569074e+07</td>\n",
              "      <td>652.000000</td>\n",
              "      <td>37.000000</td>\n",
              "      <td>5.000000</td>\n",
              "      <td>97198.540000</td>\n",
              "      <td>1.000000</td>\n",
              "      <td>1.00000</td>\n",
              "      <td>1.000000</td>\n",
              "      <td>100193.915000</td>\n",
              "      <td>0.000000</td>\n",
              "    </tr>\n",
              "    <tr>\n",
              "      <th>75%</th>\n",
              "      <td>7500.25000</td>\n",
              "      <td>1.575323e+07</td>\n",
              "      <td>718.000000</td>\n",
              "      <td>44.000000</td>\n",
              "      <td>7.000000</td>\n",
              "      <td>127644.240000</td>\n",
              "      <td>2.000000</td>\n",
              "      <td>1.00000</td>\n",
              "      <td>1.000000</td>\n",
              "      <td>149388.247500</td>\n",
              "      <td>0.000000</td>\n",
              "    </tr>\n",
              "    <tr>\n",
              "      <th>max</th>\n",
              "      <td>10000.00000</td>\n",
              "      <td>1.581569e+07</td>\n",
              "      <td>850.000000</td>\n",
              "      <td>92.000000</td>\n",
              "      <td>10.000000</td>\n",
              "      <td>250898.090000</td>\n",
              "      <td>4.000000</td>\n",
              "      <td>1.00000</td>\n",
              "      <td>1.000000</td>\n",
              "      <td>199992.480000</td>\n",
              "      <td>1.000000</td>\n",
              "    </tr>\n",
              "  </tbody>\n",
              "</table>\n",
              "</div>"
            ],
            "text/plain": [
              "         RowNumber    CustomerId  ...  EstimatedSalary        Exited\n",
              "count  10000.00000  1.000000e+04  ...     10000.000000  10000.000000\n",
              "mean    5000.50000  1.569094e+07  ...    100090.239881      0.203700\n",
              "std     2886.89568  7.193619e+04  ...     57510.492818      0.402769\n",
              "min        1.00000  1.556570e+07  ...        11.580000      0.000000\n",
              "25%     2500.75000  1.562853e+07  ...     51002.110000      0.000000\n",
              "50%     5000.50000  1.569074e+07  ...    100193.915000      0.000000\n",
              "75%     7500.25000  1.575323e+07  ...    149388.247500      0.000000\n",
              "max    10000.00000  1.581569e+07  ...    199992.480000      1.000000\n",
              "\n",
              "[8 rows x 11 columns]"
            ]
          },
          "metadata": {
            "tags": []
          },
          "execution_count": 31
        }
      ]
    },
    {
      "cell_type": "code",
      "metadata": {
        "id": "uETUBfuMB6gO",
        "colab_type": "code",
        "colab": {
          "base_uri": "https://localhost:8080/",
          "height": 336
        },
        "outputId": "a8cc123f-16cc-437f-c52c-8c67be0f4625"
      },
      "source": [
        "bank_data.info()"
      ],
      "execution_count": 32,
      "outputs": [
        {
          "output_type": "stream",
          "text": [
            "<class 'pandas.core.frame.DataFrame'>\n",
            "RangeIndex: 10000 entries, 0 to 9999\n",
            "Data columns (total 14 columns):\n",
            "RowNumber          10000 non-null int64\n",
            "CustomerId         10000 non-null int64\n",
            "Surname            10000 non-null object\n",
            "CreditScore        10000 non-null int64\n",
            "Geography          10000 non-null object\n",
            "Gender             10000 non-null object\n",
            "Age                10000 non-null int64\n",
            "Tenure             10000 non-null int64\n",
            "Balance            10000 non-null float64\n",
            "NumOfProducts      10000 non-null int64\n",
            "HasCrCard          10000 non-null int64\n",
            "IsActiveMember     10000 non-null int64\n",
            "EstimatedSalary    10000 non-null float64\n",
            "Exited             10000 non-null int64\n",
            "dtypes: float64(2), int64(9), object(3)\n",
            "memory usage: 1.1+ MB\n"
          ],
          "name": "stdout"
        }
      ]
    },
    {
      "cell_type": "code",
      "metadata": {
        "id": "AtAyIaWMCAF2",
        "colab_type": "code",
        "colab": {}
      },
      "source": [
        "#Drop the columns which are unique for all users like IDs\n",
        "bank_data_new = bank_data.drop(['RowNumber', 'CustomerId', 'Surname'], axis =1)"
      ],
      "execution_count": 0,
      "outputs": []
    },
    {
      "cell_type": "code",
      "metadata": {
        "id": "Nls53H5PCM4K",
        "colab_type": "code",
        "colab": {}
      },
      "source": [
        "#splitting data into features and target variable\n",
        "X = bank_data_new.iloc[:,:-1].values\n",
        "y = bank_data_new.iloc[:,-1].values"
      ],
      "execution_count": 0,
      "outputs": []
    },
    {
      "cell_type": "code",
      "metadata": {
        "id": "8DeXSauEFEKx",
        "colab_type": "code",
        "colab": {
          "base_uri": "https://localhost:8080/",
          "height": 195
        },
        "outputId": "e2590f84-1172-4597-93a7-6fcf2ee91c98"
      },
      "source": [
        "bank_data_new.head()"
      ],
      "execution_count": 35,
      "outputs": [
        {
          "output_type": "execute_result",
          "data": {
            "text/html": [
              "<div>\n",
              "<style scoped>\n",
              "    .dataframe tbody tr th:only-of-type {\n",
              "        vertical-align: middle;\n",
              "    }\n",
              "\n",
              "    .dataframe tbody tr th {\n",
              "        vertical-align: top;\n",
              "    }\n",
              "\n",
              "    .dataframe thead th {\n",
              "        text-align: right;\n",
              "    }\n",
              "</style>\n",
              "<table border=\"1\" class=\"dataframe\">\n",
              "  <thead>\n",
              "    <tr style=\"text-align: right;\">\n",
              "      <th></th>\n",
              "      <th>CreditScore</th>\n",
              "      <th>Geography</th>\n",
              "      <th>Gender</th>\n",
              "      <th>Age</th>\n",
              "      <th>Tenure</th>\n",
              "      <th>Balance</th>\n",
              "      <th>NumOfProducts</th>\n",
              "      <th>HasCrCard</th>\n",
              "      <th>IsActiveMember</th>\n",
              "      <th>EstimatedSalary</th>\n",
              "      <th>Exited</th>\n",
              "    </tr>\n",
              "  </thead>\n",
              "  <tbody>\n",
              "    <tr>\n",
              "      <th>0</th>\n",
              "      <td>619</td>\n",
              "      <td>France</td>\n",
              "      <td>Female</td>\n",
              "      <td>42</td>\n",
              "      <td>2</td>\n",
              "      <td>0.00</td>\n",
              "      <td>1</td>\n",
              "      <td>1</td>\n",
              "      <td>1</td>\n",
              "      <td>101348.88</td>\n",
              "      <td>1</td>\n",
              "    </tr>\n",
              "    <tr>\n",
              "      <th>1</th>\n",
              "      <td>608</td>\n",
              "      <td>Spain</td>\n",
              "      <td>Female</td>\n",
              "      <td>41</td>\n",
              "      <td>1</td>\n",
              "      <td>83807.86</td>\n",
              "      <td>1</td>\n",
              "      <td>0</td>\n",
              "      <td>1</td>\n",
              "      <td>112542.58</td>\n",
              "      <td>0</td>\n",
              "    </tr>\n",
              "    <tr>\n",
              "      <th>2</th>\n",
              "      <td>502</td>\n",
              "      <td>France</td>\n",
              "      <td>Female</td>\n",
              "      <td>42</td>\n",
              "      <td>8</td>\n",
              "      <td>159660.80</td>\n",
              "      <td>3</td>\n",
              "      <td>1</td>\n",
              "      <td>0</td>\n",
              "      <td>113931.57</td>\n",
              "      <td>1</td>\n",
              "    </tr>\n",
              "    <tr>\n",
              "      <th>3</th>\n",
              "      <td>699</td>\n",
              "      <td>France</td>\n",
              "      <td>Female</td>\n",
              "      <td>39</td>\n",
              "      <td>1</td>\n",
              "      <td>0.00</td>\n",
              "      <td>2</td>\n",
              "      <td>0</td>\n",
              "      <td>0</td>\n",
              "      <td>93826.63</td>\n",
              "      <td>0</td>\n",
              "    </tr>\n",
              "    <tr>\n",
              "      <th>4</th>\n",
              "      <td>850</td>\n",
              "      <td>Spain</td>\n",
              "      <td>Female</td>\n",
              "      <td>43</td>\n",
              "      <td>2</td>\n",
              "      <td>125510.82</td>\n",
              "      <td>1</td>\n",
              "      <td>1</td>\n",
              "      <td>1</td>\n",
              "      <td>79084.10</td>\n",
              "      <td>0</td>\n",
              "    </tr>\n",
              "  </tbody>\n",
              "</table>\n",
              "</div>"
            ],
            "text/plain": [
              "   CreditScore Geography  Gender  ...  IsActiveMember  EstimatedSalary  Exited\n",
              "0          619    France  Female  ...               1        101348.88       1\n",
              "1          608     Spain  Female  ...               1        112542.58       0\n",
              "2          502    France  Female  ...               0        113931.57       1\n",
              "3          699    France  Female  ...               0         93826.63       0\n",
              "4          850     Spain  Female  ...               1         79084.10       0\n",
              "\n",
              "[5 rows x 11 columns]"
            ]
          },
          "metadata": {
            "tags": []
          },
          "execution_count": 35
        }
      ]
    },
    {
      "cell_type": "code",
      "metadata": {
        "id": "vmAguzZTCTtE",
        "colab_type": "code",
        "colab": {}
      },
      "source": [
        "from sklearn.preprocessing import LabelEncoder, OneHotEncoder\n",
        "\n",
        "labelEncoder_X_1 = LabelEncoder()\n",
        "X[:, 1]= labelEncoder_X_1.fit_transform(X[:, 1])\n",
        "\n",
        "labelEncoder_X_2 = LabelEncoder()\n",
        "X[:, 2] = labelEncoder_X_2.fit_transform(X[:, 2])"
      ],
      "execution_count": 0,
      "outputs": []
    },
    {
      "cell_type": "code",
      "metadata": {
        "id": "U7gwsYkmCW7k",
        "colab_type": "code",
        "colab": {
          "base_uri": "https://localhost:8080/",
          "height": 138
        },
        "outputId": "9d23101c-9616-4c80-f04e-439c4a241178"
      },
      "source": [
        "oneHotEncoder = OneHotEncoder(categorical_features = [1])\n",
        "X = oneHotEncoder.fit_transform(X).toarray()\n",
        "X = X[:, 1:]"
      ],
      "execution_count": 41,
      "outputs": [
        {
          "output_type": "stream",
          "text": [
            "/usr/local/lib/python3.6/dist-packages/sklearn/preprocessing/_encoders.py:415: FutureWarning: The handling of integer data will change in version 0.22. Currently, the categories are determined based on the range [0, max(values)], while in the future they will be determined based on the unique values.\n",
            "If you want the future behaviour and silence this warning, you can specify \"categories='auto'\".\n",
            "In case you used a LabelEncoder before this OneHotEncoder to convert the categories to integers, then you can now use the OneHotEncoder directly.\n",
            "  warnings.warn(msg, FutureWarning)\n",
            "/usr/local/lib/python3.6/dist-packages/sklearn/preprocessing/_encoders.py:451: DeprecationWarning: The 'categorical_features' keyword is deprecated in version 0.20 and will be removed in 0.22. You can use the ColumnTransformer instead.\n",
            "  \"use the ColumnTransformer instead.\", DeprecationWarning)\n"
          ],
          "name": "stderr"
        }
      ]
    },
    {
      "cell_type": "code",
      "metadata": {
        "id": "nte8uRPwCh2l",
        "colab_type": "code",
        "colab": {}
      },
      "source": [
        "#splitting the dataset into training and test set\n",
        "from sklearn.model_selection import train_test_split\n",
        "\n",
        "X_train, X_test, y_train, y_test = train_test_split(X,y, test_size=0.2, random_state= 7)"
      ],
      "execution_count": 0,
      "outputs": []
    },
    {
      "cell_type": "code",
      "metadata": {
        "id": "HwZyB7byCrig",
        "colab_type": "code",
        "colab": {}
      },
      "source": [
        "#feature scaling\n",
        "from sklearn.preprocessing import StandardScaler\n",
        "\n",
        "sc = StandardScaler()\n",
        "X_train = sc.fit_transform(X_train)\n",
        "X_test = sc.fit_transform(X_test)"
      ],
      "execution_count": 0,
      "outputs": []
    },
    {
      "cell_type": "code",
      "metadata": {
        "id": "yO3JAj3ICuZI",
        "colab_type": "code",
        "colab": {}
      },
      "source": [
        "#Using sequential model using Keras\n",
        "import keras\n",
        "from keras.models import Sequential\n",
        "from keras.layers import Dense"
      ],
      "execution_count": 0,
      "outputs": []
    },
    {
      "cell_type": "code",
      "metadata": {
        "id": "lX58B9BsD8vp",
        "colab_type": "code",
        "colab": {
          "base_uri": "https://localhost:8080/",
          "height": 34
        },
        "outputId": "0d40196e-6b2c-410f-86f0-c5e7e29c61f7"
      },
      "source": [
        "X_train.shape"
      ],
      "execution_count": 45,
      "outputs": [
        {
          "output_type": "execute_result",
          "data": {
            "text/plain": [
              "(8000, 11)"
            ]
          },
          "metadata": {
            "tags": []
          },
          "execution_count": 45
        }
      ]
    },
    {
      "cell_type": "code",
      "metadata": {
        "id": "_pcB7MkECzn2",
        "colab_type": "code",
        "colab": {
          "base_uri": "https://localhost:8080/",
          "height": 1000
        },
        "outputId": "03b5fc2f-2244-4619-bc07-618c9cd2d9a4"
      },
      "source": [
        "#building ANN classifier\n",
        "\n",
        "classifier = Sequential()\n",
        "\n",
        "#adding first layer(input layer)\n",
        "classifier.add(Dense(units=6, kernel_initializer='uniform', input_dim=11, \n",
        "                     activation='relu'))\n",
        "\n",
        "#adding second layer(hidden layer)\n",
        "classifier.add(Dense(units=6, kernel_initializer='uniform', activation='relu'))\n",
        "\n",
        "#adding third layer(output layer)\n",
        "classifier.add(Dense(units=1, kernel_initializer='uniform', activation='sigmoid'))\n",
        "\n",
        "#compiling the ANN\n",
        "classifier.compile(optimizer='adam', loss='binary_crossentropy', metrics=['accuracy'])\n",
        "\n",
        "#train the ANN\n",
        "classifier.fit(X_train, y_train, batch_size=10, epochs=100)"
      ],
      "execution_count": 46,
      "outputs": [
        {
          "output_type": "stream",
          "text": [
            "WARNING:tensorflow:From /usr/local/lib/python3.6/dist-packages/keras/backend/tensorflow_backend.py:1033: The name tf.assign_add is deprecated. Please use tf.compat.v1.assign_add instead.\n",
            "\n",
            "WARNING:tensorflow:From /usr/local/lib/python3.6/dist-packages/keras/backend/tensorflow_backend.py:1020: The name tf.assign is deprecated. Please use tf.compat.v1.assign instead.\n",
            "\n",
            "WARNING:tensorflow:From /usr/local/lib/python3.6/dist-packages/keras/backend/tensorflow_backend.py:3005: The name tf.Session is deprecated. Please use tf.compat.v1.Session instead.\n",
            "\n",
            "Epoch 1/100\n",
            "WARNING:tensorflow:From /usr/local/lib/python3.6/dist-packages/keras/backend/tensorflow_backend.py:190: The name tf.get_default_session is deprecated. Please use tf.compat.v1.get_default_session instead.\n",
            "\n",
            "WARNING:tensorflow:From /usr/local/lib/python3.6/dist-packages/keras/backend/tensorflow_backend.py:197: The name tf.ConfigProto is deprecated. Please use tf.compat.v1.ConfigProto instead.\n",
            "\n",
            "WARNING:tensorflow:From /usr/local/lib/python3.6/dist-packages/keras/backend/tensorflow_backend.py:207: The name tf.global_variables is deprecated. Please use tf.compat.v1.global_variables instead.\n",
            "\n",
            "WARNING:tensorflow:From /usr/local/lib/python3.6/dist-packages/keras/backend/tensorflow_backend.py:216: The name tf.is_variable_initialized is deprecated. Please use tf.compat.v1.is_variable_initialized instead.\n",
            "\n",
            "WARNING:tensorflow:From /usr/local/lib/python3.6/dist-packages/keras/backend/tensorflow_backend.py:223: The name tf.variables_initializer is deprecated. Please use tf.compat.v1.variables_initializer instead.\n",
            "\n",
            "8000/8000 [==============================] - 2s 219us/step - loss: 0.4803 - acc: 0.7965\n",
            "Epoch 2/100\n",
            "8000/8000 [==============================] - 1s 111us/step - loss: 0.4273 - acc: 0.7967\n",
            "Epoch 3/100\n",
            "8000/8000 [==============================] - 1s 108us/step - loss: 0.4207 - acc: 0.8036\n",
            "Epoch 4/100\n",
            "8000/8000 [==============================] - 1s 110us/step - loss: 0.4165 - acc: 0.8251\n",
            "Epoch 5/100\n",
            "8000/8000 [==============================] - 1s 110us/step - loss: 0.4142 - acc: 0.8292\n",
            "Epoch 6/100\n",
            "8000/8000 [==============================] - 1s 112us/step - loss: 0.4121 - acc: 0.8337\n",
            "Epoch 7/100\n",
            "8000/8000 [==============================] - 1s 110us/step - loss: 0.4104 - acc: 0.8330\n",
            "Epoch 8/100\n",
            "8000/8000 [==============================] - 1s 111us/step - loss: 0.4094 - acc: 0.8350\n",
            "Epoch 9/100\n",
            "8000/8000 [==============================] - 1s 108us/step - loss: 0.4085 - acc: 0.8362\n",
            "Epoch 10/100\n",
            "8000/8000 [==============================] - 1s 116us/step - loss: 0.4073 - acc: 0.8349\n",
            "Epoch 11/100\n",
            "8000/8000 [==============================] - 1s 118us/step - loss: 0.4065 - acc: 0.8364\n",
            "Epoch 12/100\n",
            "8000/8000 [==============================] - 1s 114us/step - loss: 0.4061 - acc: 0.8356\n",
            "Epoch 13/100\n",
            "8000/8000 [==============================] - 1s 115us/step - loss: 0.4045 - acc: 0.8355\n",
            "Epoch 14/100\n",
            "8000/8000 [==============================] - 1s 108us/step - loss: 0.4045 - acc: 0.8356\n",
            "Epoch 15/100\n",
            "8000/8000 [==============================] - 1s 111us/step - loss: 0.4046 - acc: 0.8370\n",
            "Epoch 16/100\n",
            "8000/8000 [==============================] - 1s 111us/step - loss: 0.4040 - acc: 0.8350\n",
            "Epoch 17/100\n",
            "8000/8000 [==============================] - 1s 111us/step - loss: 0.4037 - acc: 0.8372\n",
            "Epoch 18/100\n",
            "8000/8000 [==============================] - 1s 110us/step - loss: 0.4033 - acc: 0.8365\n",
            "Epoch 19/100\n",
            "8000/8000 [==============================] - 1s 115us/step - loss: 0.4029 - acc: 0.8367\n",
            "Epoch 20/100\n",
            "8000/8000 [==============================] - 1s 113us/step - loss: 0.4028 - acc: 0.8376\n",
            "Epoch 21/100\n",
            "8000/8000 [==============================] - 1s 113us/step - loss: 0.4031 - acc: 0.8369\n",
            "Epoch 22/100\n",
            "8000/8000 [==============================] - 1s 109us/step - loss: 0.4022 - acc: 0.8365\n",
            "Epoch 23/100\n",
            "8000/8000 [==============================] - 1s 111us/step - loss: 0.4017 - acc: 0.8362\n",
            "Epoch 24/100\n",
            "8000/8000 [==============================] - 1s 114us/step - loss: 0.4014 - acc: 0.8355\n",
            "Epoch 25/100\n",
            "8000/8000 [==============================] - 1s 115us/step - loss: 0.4016 - acc: 0.8369\n",
            "Epoch 26/100\n",
            "8000/8000 [==============================] - 1s 112us/step - loss: 0.4015 - acc: 0.8374\n",
            "Epoch 27/100\n",
            "8000/8000 [==============================] - 1s 110us/step - loss: 0.4013 - acc: 0.8365\n",
            "Epoch 28/100\n",
            "8000/8000 [==============================] - 1s 113us/step - loss: 0.4014 - acc: 0.8352\n",
            "Epoch 29/100\n",
            "8000/8000 [==============================] - 1s 113us/step - loss: 0.4016 - acc: 0.8369\n",
            "Epoch 30/100\n",
            "8000/8000 [==============================] - 1s 110us/step - loss: 0.4009 - acc: 0.8367\n",
            "Epoch 31/100\n",
            "8000/8000 [==============================] - 1s 110us/step - loss: 0.4011 - acc: 0.8371\n",
            "Epoch 32/100\n",
            "8000/8000 [==============================] - 1s 113us/step - loss: 0.4008 - acc: 0.8347\n",
            "Epoch 33/100\n",
            "8000/8000 [==============================] - 1s 113us/step - loss: 0.4009 - acc: 0.8374\n",
            "Epoch 34/100\n",
            "8000/8000 [==============================] - 1s 115us/step - loss: 0.4007 - acc: 0.8367\n",
            "Epoch 35/100\n",
            "8000/8000 [==============================] - 1s 109us/step - loss: 0.4008 - acc: 0.8362\n",
            "Epoch 36/100\n",
            "8000/8000 [==============================] - 1s 107us/step - loss: 0.4003 - acc: 0.8370\n",
            "Epoch 37/100\n",
            "8000/8000 [==============================] - 1s 111us/step - loss: 0.4009 - acc: 0.8374\n",
            "Epoch 38/100\n",
            "8000/8000 [==============================] - 1s 113us/step - loss: 0.4003 - acc: 0.8352\n",
            "Epoch 39/100\n",
            "8000/8000 [==============================] - 1s 112us/step - loss: 0.4001 - acc: 0.8357\n",
            "Epoch 40/100\n",
            "8000/8000 [==============================] - 1s 114us/step - loss: 0.4000 - acc: 0.8345\n",
            "Epoch 41/100\n",
            "8000/8000 [==============================] - 1s 111us/step - loss: 0.4005 - acc: 0.8371\n",
            "Epoch 42/100\n",
            "8000/8000 [==============================] - 1s 108us/step - loss: 0.3997 - acc: 0.8346\n",
            "Epoch 43/100\n",
            "8000/8000 [==============================] - 1s 109us/step - loss: 0.4000 - acc: 0.8359\n",
            "Epoch 44/100\n",
            "8000/8000 [==============================] - 1s 112us/step - loss: 0.3998 - acc: 0.8354\n",
            "Epoch 45/100\n",
            "8000/8000 [==============================] - 1s 115us/step - loss: 0.3999 - acc: 0.8362\n",
            "Epoch 46/100\n",
            "8000/8000 [==============================] - 1s 116us/step - loss: 0.3990 - acc: 0.8359\n",
            "Epoch 47/100\n",
            "8000/8000 [==============================] - 1s 111us/step - loss: 0.4003 - acc: 0.8385\n",
            "Epoch 48/100\n",
            "8000/8000 [==============================] - 1s 112us/step - loss: 0.3993 - acc: 0.8366\n",
            "Epoch 49/100\n",
            "8000/8000 [==============================] - 1s 111us/step - loss: 0.3999 - acc: 0.8365\n",
            "Epoch 50/100\n",
            "8000/8000 [==============================] - 1s 111us/step - loss: 0.3995 - acc: 0.8352\n",
            "Epoch 51/100\n",
            "8000/8000 [==============================] - 1s 110us/step - loss: 0.3996 - acc: 0.8370\n",
            "Epoch 52/100\n",
            "8000/8000 [==============================] - 1s 110us/step - loss: 0.3993 - acc: 0.8375\n",
            "Epoch 53/100\n",
            "8000/8000 [==============================] - 1s 110us/step - loss: 0.3993 - acc: 0.8365\n",
            "Epoch 54/100\n",
            "8000/8000 [==============================] - 1s 111us/step - loss: 0.3990 - acc: 0.8370\n",
            "Epoch 55/100\n",
            "8000/8000 [==============================] - 1s 111us/step - loss: 0.3982 - acc: 0.8367\n",
            "Epoch 56/100\n",
            "8000/8000 [==============================] - 1s 110us/step - loss: 0.3992 - acc: 0.8370\n",
            "Epoch 57/100\n",
            "8000/8000 [==============================] - 1s 110us/step - loss: 0.3988 - acc: 0.8361\n",
            "Epoch 58/100\n",
            "8000/8000 [==============================] - 1s 115us/step - loss: 0.3993 - acc: 0.8369\n",
            "Epoch 59/100\n",
            "8000/8000 [==============================] - 1s 111us/step - loss: 0.3986 - acc: 0.8357\n",
            "Epoch 60/100\n",
            "8000/8000 [==============================] - 1s 114us/step - loss: 0.3986 - acc: 0.8381\n",
            "Epoch 61/100\n",
            "8000/8000 [==============================] - 1s 115us/step - loss: 0.3990 - acc: 0.8365\n",
            "Epoch 62/100\n",
            "8000/8000 [==============================] - 1s 111us/step - loss: 0.3989 - acc: 0.8377\n",
            "Epoch 63/100\n",
            "8000/8000 [==============================] - 1s 110us/step - loss: 0.3995 - acc: 0.8366\n",
            "Epoch 64/100\n",
            "8000/8000 [==============================] - 1s 110us/step - loss: 0.3987 - acc: 0.8371\n",
            "Epoch 65/100\n",
            "8000/8000 [==============================] - 1s 112us/step - loss: 0.3984 - acc: 0.8369\n",
            "Epoch 66/100\n",
            "8000/8000 [==============================] - 1s 112us/step - loss: 0.3987 - acc: 0.8377\n",
            "Epoch 67/100\n",
            "8000/8000 [==============================] - 1s 111us/step - loss: 0.3985 - acc: 0.8375\n",
            "Epoch 68/100\n",
            "8000/8000 [==============================] - 1s 111us/step - loss: 0.3987 - acc: 0.8372\n",
            "Epoch 69/100\n",
            "8000/8000 [==============================] - 1s 116us/step - loss: 0.3987 - acc: 0.8380\n",
            "Epoch 70/100\n",
            "8000/8000 [==============================] - 1s 111us/step - loss: 0.3986 - acc: 0.8372\n",
            "Epoch 71/100\n",
            "8000/8000 [==============================] - 1s 111us/step - loss: 0.3986 - acc: 0.8362\n",
            "Epoch 72/100\n",
            "8000/8000 [==============================] - 1s 113us/step - loss: 0.3986 - acc: 0.8385\n",
            "Epoch 73/100\n",
            "8000/8000 [==============================] - 1s 115us/step - loss: 0.3988 - acc: 0.8372\n",
            "Epoch 74/100\n",
            "8000/8000 [==============================] - 1s 110us/step - loss: 0.3985 - acc: 0.8380\n",
            "Epoch 75/100\n",
            "8000/8000 [==============================] - 1s 109us/step - loss: 0.3986 - acc: 0.8364\n",
            "Epoch 76/100\n",
            "8000/8000 [==============================] - 1s 111us/step - loss: 0.3983 - acc: 0.8367\n",
            "Epoch 77/100\n",
            "8000/8000 [==============================] - 1s 110us/step - loss: 0.3986 - acc: 0.8374\n",
            "Epoch 78/100\n",
            "8000/8000 [==============================] - 1s 111us/step - loss: 0.3983 - acc: 0.8374\n",
            "Epoch 79/100\n",
            "8000/8000 [==============================] - 1s 116us/step - loss: 0.3980 - acc: 0.8372\n",
            "Epoch 80/100\n",
            "8000/8000 [==============================] - 1s 115us/step - loss: 0.3983 - acc: 0.8369\n",
            "Epoch 81/100\n",
            "8000/8000 [==============================] - 1s 113us/step - loss: 0.3982 - acc: 0.8386\n",
            "Epoch 82/100\n",
            "8000/8000 [==============================] - 1s 113us/step - loss: 0.3988 - acc: 0.8375\n",
            "Epoch 83/100\n",
            "8000/8000 [==============================] - 1s 116us/step - loss: 0.3977 - acc: 0.8376\n",
            "Epoch 84/100\n",
            "8000/8000 [==============================] - 1s 117us/step - loss: 0.3976 - acc: 0.8385\n",
            "Epoch 85/100\n",
            "8000/8000 [==============================] - 1s 114us/step - loss: 0.3984 - acc: 0.8376\n",
            "Epoch 86/100\n",
            "8000/8000 [==============================] - 1s 109us/step - loss: 0.3983 - acc: 0.8369\n",
            "Epoch 87/100\n",
            "8000/8000 [==============================] - 1s 112us/step - loss: 0.3985 - acc: 0.8372\n",
            "Epoch 88/100\n",
            "8000/8000 [==============================] - 1s 113us/step - loss: 0.3980 - acc: 0.8380\n",
            "Epoch 89/100\n",
            "8000/8000 [==============================] - 1s 113us/step - loss: 0.3986 - acc: 0.8362\n",
            "Epoch 90/100\n",
            "8000/8000 [==============================] - 1s 111us/step - loss: 0.3980 - acc: 0.8371\n",
            "Epoch 91/100\n",
            "8000/8000 [==============================] - 1s 110us/step - loss: 0.3980 - acc: 0.8356\n",
            "Epoch 92/100\n",
            "8000/8000 [==============================] - 1s 109us/step - loss: 0.3980 - acc: 0.8361\n",
            "Epoch 93/100\n",
            "8000/8000 [==============================] - 1s 110us/step - loss: 0.3983 - acc: 0.8379\n",
            "Epoch 94/100\n",
            "8000/8000 [==============================] - 1s 112us/step - loss: 0.3983 - acc: 0.8380\n",
            "Epoch 95/100\n",
            "8000/8000 [==============================] - 1s 118us/step - loss: 0.3982 - acc: 0.8380\n",
            "Epoch 96/100\n",
            "8000/8000 [==============================] - 1s 114us/step - loss: 0.3984 - acc: 0.8369\n",
            "Epoch 97/100\n",
            "8000/8000 [==============================] - 1s 111us/step - loss: 0.3981 - acc: 0.8382\n",
            "Epoch 98/100\n",
            "8000/8000 [==============================] - 1s 116us/step - loss: 0.3982 - acc: 0.8382\n",
            "Epoch 99/100\n",
            "8000/8000 [==============================] - 1s 112us/step - loss: 0.3983 - acc: 0.8374\n",
            "Epoch 100/100\n",
            "8000/8000 [==============================] - 1s 116us/step - loss: 0.3979 - acc: 0.8367\n"
          ],
          "name": "stdout"
        },
        {
          "output_type": "execute_result",
          "data": {
            "text/plain": [
              "<keras.callbacks.History at 0x7ff6725fbfd0>"
            ]
          },
          "metadata": {
            "tags": []
          },
          "execution_count": 46
        }
      ]
    },
    {
      "cell_type": "code",
      "metadata": {
        "id": "cZPqiSdiC8pm",
        "colab_type": "code",
        "colab": {}
      },
      "source": [
        "#Learning Rate Optimization\n",
        "#building ANN classifier\n",
        "\n",
        "def create_model():\n",
        "  model = Sequential()\n",
        "\n",
        "  #adding first layer(input layer)\n",
        "  model.add(Dense(units=6, kernel_initializer='uniform', input_dim=11, \n",
        "                     activation='relu'))\n",
        "\n",
        "  #adding second layer(hidden layer)\n",
        "  model.add(Dense(units=6, kernel_initializer='uniform', activation='relu'))\n",
        "\n",
        "  #adding third layer(output layer)\n",
        "  model.add(Dense(units=1, kernel_initializer='uniform', activation='sigmoid'))\n",
        "  return model\n"
      ],
      "execution_count": 0,
      "outputs": []
    },
    {
      "cell_type": "code",
      "metadata": {
        "id": "_eVyIvCJKlYx",
        "colab_type": "code",
        "colab": {}
      },
      "source": [
        "def run_model(model, lr):\n",
        "    model.summary()\n",
        "    model.compile(optimizer='adam', loss='binary_crossentropy', metrics=['accuracy'])\n",
        "    history = model.fit(X_train, y_train, batch_size=10, epochs=10)\n",
        "    loss, accuracy  = model.evaluate(X_test, y_test, verbose=False)\n",
        "    print(\"learning rate\" , lr)\n",
        "    plt.plot(history.history['acc'])\n",
        "    plt.title('model accuracy')\n",
        "    plt.ylabel('accuracy')\n",
        "    plt.xlabel('epoch')\n",
        "    plt.legend(['training', 'validation'], loc='best')\n",
        "    plt.show()\n",
        "    print()\n",
        "    print(f'Test loss: {loss:.3}')\n",
        "    print(f'Test accuracy: {accuracy:.3}')"
      ],
      "execution_count": 0,
      "outputs": []
    },
    {
      "cell_type": "code",
      "metadata": {
        "id": "JodAElrvLglC",
        "colab_type": "code",
        "colab": {
          "base_uri": "https://localhost:8080/",
          "height": 1000
        },
        "outputId": "a4ea3f99-a128-45a1-f41c-79808918c3a3"
      },
      "source": [
        "import matplotlib.pyplot as plt\n",
        "model = create_model()\n",
        "for lr in np.arange(0.01, 0.06 , 0.01):\n",
        "    run_model(model , lr)"
      ],
      "execution_count": 63,
      "outputs": [
        {
          "output_type": "stream",
          "text": [
            "Model: \"sequential_9\"\n",
            "_________________________________________________________________\n",
            "Layer (type)                 Output Shape              Param #   \n",
            "=================================================================\n",
            "dense_25 (Dense)             (None, 6)                 72        \n",
            "_________________________________________________________________\n",
            "dense_26 (Dense)             (None, 6)                 42        \n",
            "_________________________________________________________________\n",
            "dense_27 (Dense)             (None, 1)                 7         \n",
            "=================================================================\n",
            "Total params: 121\n",
            "Trainable params: 121\n",
            "Non-trainable params: 0\n",
            "_________________________________________________________________\n",
            "Epoch 1/10\n",
            "8000/8000 [==============================] - 1s 181us/step - loss: 0.4818 - acc: 0.7967\n",
            "Epoch 2/10\n",
            "8000/8000 [==============================] - 1s 115us/step - loss: 0.4280 - acc: 0.7967\n",
            "Epoch 3/10\n",
            "8000/8000 [==============================] - 1s 123us/step - loss: 0.4219 - acc: 0.8004\n",
            "Epoch 4/10\n",
            "8000/8000 [==============================] - 1s 128us/step - loss: 0.4172 - acc: 0.8247\n",
            "Epoch 5/10\n",
            "8000/8000 [==============================] - 1s 129us/step - loss: 0.4142 - acc: 0.8301\n",
            "Epoch 6/10\n",
            "8000/8000 [==============================] - 1s 129us/step - loss: 0.4119 - acc: 0.8329\n",
            "Epoch 7/10\n",
            "8000/8000 [==============================] - 1s 120us/step - loss: 0.4107 - acc: 0.8324\n",
            "Epoch 8/10\n",
            "8000/8000 [==============================] - 1s 121us/step - loss: 0.4092 - acc: 0.8327\n",
            "Epoch 9/10\n",
            "8000/8000 [==============================] - 1s 124us/step - loss: 0.4082 - acc: 0.8355\n",
            "Epoch 10/10\n",
            "8000/8000 [==============================] - 1s 131us/step - loss: 0.4073 - acc: 0.8337\n",
            "learning rate 0.01\n"
          ],
          "name": "stdout"
        },
        {
          "output_type": "display_data",
          "data": {
            "image/png": "[encoded data removed]",
            "text/plain": [
              "<Figure size 432x288 with 1 Axes>"
            ]
          },
          "metadata": {
            "tags": []
          }
        },
        {
          "output_type": "stream",
          "text": [
            "\n",
            "Test loss: 0.41\n",
            "Test accuracy: 0.835\n",
            "Model: \"sequential_9\"\n",
            "_________________________________________________________________\n",
            "Layer (type)                 Output Shape              Param #   \n",
            "=================================================================\n",
            "dense_25 (Dense)             (None, 6)                 72        \n",
            "_________________________________________________________________\n",
            "dense_26 (Dense)             (None, 6)                 42        \n",
            "_________________________________________________________________\n",
            "dense_27 (Dense)             (None, 1)                 7         \n",
            "=================================================================\n",
            "Total params: 121\n",
            "Trainable params: 121\n",
            "Non-trainable params: 0\n",
            "_________________________________________________________________\n",
            "Epoch 1/10\n",
            "8000/8000 [==============================] - 2s 191us/step - loss: 0.4061 - acc: 0.8362\n",
            "Epoch 2/10\n",
            "8000/8000 [==============================] - 1s 119us/step - loss: 0.4056 - acc: 0.8350\n",
            "Epoch 3/10\n",
            "8000/8000 [==============================] - 1s 116us/step - loss: 0.4057 - acc: 0.8341\n",
            "Epoch 4/10\n",
            "8000/8000 [==============================] - 1s 122us/step - loss: 0.4043 - acc: 0.8360\n",
            "Epoch 5/10\n",
            "8000/8000 [==============================] - 1s 120us/step - loss: 0.4043 - acc: 0.8365\n",
            "Epoch 6/10\n",
            "8000/8000 [==============================] - 1s 118us/step - loss: 0.4038 - acc: 0.8356\n",
            "Epoch 7/10\n",
            "8000/8000 [==============================] - 1s 118us/step - loss: 0.4033 - acc: 0.8362\n",
            "Epoch 8/10\n",
            "8000/8000 [==============================] - 1s 116us/step - loss: 0.4030 - acc: 0.8364\n",
            "Epoch 9/10\n",
            "8000/8000 [==============================] - 1s 116us/step - loss: 0.4024 - acc: 0.8340\n",
            "Epoch 10/10\n",
            "8000/8000 [==============================] - 1s 116us/step - loss: 0.4023 - acc: 0.8361\n",
            "learning rate 0.02\n"
          ],
          "name": "stdout"
        },
        {
          "output_type": "display_data",
          "data": {
            "image/png": "[encoded data removed]",
            "text/plain": [
              "<Figure size 432x288 with 1 Axes>"
            ]
          },
          "metadata": {
            "tags": []
          }
        },
        {
          "output_type": "stream",
          "text": [
            "\n",
            "Test loss: 0.407\n",
            "Test accuracy: 0.835\n",
            "Model: \"sequential_9\"\n",
            "_________________________________________________________________\n",
            "Layer (type)                 Output Shape              Param #   \n",
            "=================================================================\n",
            "dense_25 (Dense)             (None, 6)                 72        \n",
            "_________________________________________________________________\n",
            "dense_26 (Dense)             (None, 6)                 42        \n",
            "_________________________________________________________________\n",
            "dense_27 (Dense)             (None, 1)                 7         \n",
            "=================================================================\n",
            "Total params: 121\n",
            "Trainable params: 121\n",
            "Non-trainable params: 0\n",
            "_________________________________________________________________\n",
            "Epoch 1/10\n",
            "8000/8000 [==============================] - 1s 181us/step - loss: 0.4020 - acc: 0.8355\n",
            "Epoch 2/10\n",
            "8000/8000 [==============================] - 1s 116us/step - loss: 0.4026 - acc: 0.8356\n",
            "Epoch 3/10\n",
            "8000/8000 [==============================] - 1s 113us/step - loss: 0.4018 - acc: 0.8354\n",
            "Epoch 4/10\n",
            "8000/8000 [==============================] - 1s 118us/step - loss: 0.4021 - acc: 0.8345\n",
            "Epoch 5/10\n",
            "8000/8000 [==============================] - 1s 115us/step - loss: 0.4018 - acc: 0.8357\n",
            "Epoch 6/10\n",
            "8000/8000 [==============================] - 1s 115us/step - loss: 0.4019 - acc: 0.8354\n",
            "Epoch 7/10\n",
            "8000/8000 [==============================] - 1s 116us/step - loss: 0.4017 - acc: 0.8370\n",
            "Epoch 8/10\n",
            "8000/8000 [==============================] - 1s 116us/step - loss: 0.4018 - acc: 0.8351\n",
            "Epoch 9/10\n",
            "8000/8000 [==============================] - 1s 115us/step - loss: 0.4018 - acc: 0.8351\n",
            "Epoch 10/10\n",
            "8000/8000 [==============================] - 1s 114us/step - loss: 0.4014 - acc: 0.8359\n",
            "learning rate 0.03\n"
          ],
          "name": "stdout"
        },
        {
          "output_type": "display_data",
          "data": {
            "image/png": "[encoded data removed]",
            "text/plain": [
              "<Figure size 432x288 with 1 Axes>"
            ]
          },
          "metadata": {
            "tags": []
          }
        },
        {
          "output_type": "stream",
          "text": [
            "\n",
            "Test loss: 0.405\n",
            "Test accuracy: 0.837\n",
            "Model: \"sequential_9\"\n",
            "_________________________________________________________________\n",
            "Layer (type)                 Output Shape              Param #   \n",
            "=================================================================\n",
            "dense_25 (Dense)             (None, 6)                 72        \n",
            "_________________________________________________________________\n",
            "dense_26 (Dense)             (None, 6)                 42        \n",
            "_________________________________________________________________\n",
            "dense_27 (Dense)             (None, 1)                 7         \n",
            "=================================================================\n",
            "Total params: 121\n",
            "Trainable params: 121\n",
            "Non-trainable params: 0\n",
            "_________________________________________________________________\n",
            "Epoch 1/10\n",
            "8000/8000 [==============================] - 2s 210us/step - loss: 0.4017 - acc: 0.8352\n",
            "Epoch 2/10\n",
            "8000/8000 [==============================] - 1s 118us/step - loss: 0.4012 - acc: 0.8352\n",
            "Epoch 3/10\n",
            "8000/8000 [==============================] - 1s 115us/step - loss: 0.4008 - acc: 0.8357\n",
            "Epoch 4/10\n",
            "8000/8000 [==============================] - 1s 114us/step - loss: 0.4011 - acc: 0.8355\n",
            "Epoch 5/10\n",
            "8000/8000 [==============================] - 1s 120us/step - loss: 0.4009 - acc: 0.8365\n",
            "Epoch 6/10\n",
            "8000/8000 [==============================] - 1s 123us/step - loss: 0.4006 - acc: 0.8369\n",
            "Epoch 7/10\n",
            "8000/8000 [==============================] - 1s 119us/step - loss: 0.4009 - acc: 0.8365\n",
            "Epoch 8/10\n",
            "8000/8000 [==============================] - 1s 125us/step - loss: 0.4005 - acc: 0.8354\n",
            "Epoch 9/10\n",
            "8000/8000 [==============================] - 1s 118us/step - loss: 0.4008 - acc: 0.8350\n",
            "Epoch 10/10\n",
            "8000/8000 [==============================] - 1s 114us/step - loss: 0.4004 - acc: 0.8342\n",
            "learning rate 0.04\n"
          ],
          "name": "stdout"
        },
        {
          "output_type": "display_data",
          "data": {
            "image/png": "[encoded data removed]",
            "text/plain": [
              "<Figure size 432x288 with 1 Axes>"
            ]
          },
          "metadata": {
            "tags": []
          }
        },
        {
          "output_type": "stream",
          "text": [
            "\n",
            "Test loss: 0.404\n",
            "Test accuracy: 0.835\n",
            "Model: \"sequential_9\"\n",
            "_________________________________________________________________\n",
            "Layer (type)                 Output Shape              Param #   \n",
            "=================================================================\n",
            "dense_25 (Dense)             (None, 6)                 72        \n",
            "_________________________________________________________________\n",
            "dense_26 (Dense)             (None, 6)                 42        \n",
            "_________________________________________________________________\n",
            "dense_27 (Dense)             (None, 1)                 7         \n",
            "=================================================================\n",
            "Total params: 121\n",
            "Trainable params: 121\n",
            "Non-trainable params: 0\n",
            "_________________________________________________________________\n",
            "Epoch 1/10\n",
            "8000/8000 [==============================] - 2s 226us/step - loss: 0.4006 - acc: 0.8351\n",
            "Epoch 2/10\n",
            "8000/8000 [==============================] - 1s 117us/step - loss: 0.4005 - acc: 0.8356\n",
            "Epoch 3/10\n",
            "8000/8000 [==============================] - 1s 119us/step - loss: 0.4000 - acc: 0.8335\n",
            "Epoch 4/10\n",
            "8000/8000 [==============================] - 1s 122us/step - loss: 0.4002 - acc: 0.8346\n",
            "Epoch 5/10\n",
            "8000/8000 [==============================] - 1s 117us/step - loss: 0.4003 - acc: 0.8356\n",
            "Epoch 6/10\n",
            "8000/8000 [==============================] - 1s 121us/step - loss: 0.4005 - acc: 0.8350\n",
            "Epoch 7/10\n",
            "8000/8000 [==============================] - 1s 119us/step - loss: 0.4000 - acc: 0.8359\n",
            "Epoch 8/10\n",
            "8000/8000 [==============================] - 1s 119us/step - loss: 0.4002 - acc: 0.8361\n",
            "Epoch 9/10\n",
            "8000/8000 [==============================] - 1s 115us/step - loss: 0.4000 - acc: 0.8354\n",
            "Epoch 10/10\n",
            "8000/8000 [==============================] - 1s 114us/step - loss: 0.4001 - acc: 0.8352\n",
            "learning rate 0.05\n"
          ],
          "name": "stdout"
        },
        {
          "output_type": "display_data",
          "data": {
            "image/png": "[encoded data removed]",
            "text/plain": [
              "<Figure size 432x288 with 1 Axes>"
            ]
          },
          "metadata": {
            "tags": []
          }
        },
        {
          "output_type": "stream",
          "text": [
            "\n",
            "Test loss: 0.403\n",
            "Test accuracy: 0.836\n"
          ],
          "name": "stdout"
        }
      ]
    },
    {
      "cell_type": "code",
      "metadata": {
        "id": "ytZGP5NRLlWv",
        "colab_type": "code",
        "colab": {
          "base_uri": "https://localhost:8080/",
          "height": 1000
        },
        "outputId": "7d939a2a-253f-46b0-d503-24533c97d7b9"
      },
      "source": [
        "from keras import optimizers\n",
        "#building ANN classifier\n",
        "\n",
        "classifier = Sequential()\n",
        "\n",
        "#adding first layer(input layer)\n",
        "classifier.add(Dense(units=6, kernel_initializer='uniform', input_dim=11, \n",
        "                     activation='relu'))\n",
        "\n",
        "#adding second layer(hidden layer)\n",
        "classifier.add(Dense(units=6, kernel_initializer='uniform', activation='relu'))\n",
        "\n",
        "#adding third layer(output layer)\n",
        "classifier.add(Dense(units=1, kernel_initializer='uniform', activation='sigmoid'))\n",
        "\n",
        "#compiling the ANN\n",
        "opt = optimizers.Adam(lr=0.03, amsgrad=False)\n",
        "classifier.compile(optimizer=opt, loss='binary_crossentropy', metrics=['accuracy'])\n",
        "\n",
        "#train the ANN\n",
        "classifier.fit(X_train, y_train, batch_size=10, epochs=100)"
      ],
      "execution_count": 70,
      "outputs": [
        {
          "output_type": "stream",
          "text": [
            "Epoch 1/100\n",
            "8000/8000 [==============================] - 2s 285us/step - loss: 0.4316 - acc: 0.8136\n",
            "Epoch 2/100\n",
            "8000/8000 [==============================] - 1s 126us/step - loss: 0.3764 - acc: 0.8537\n",
            "Epoch 3/100\n",
            "8000/8000 [==============================] - 1s 124us/step - loss: 0.3666 - acc: 0.8580\n",
            "Epoch 4/100\n",
            "8000/8000 [==============================] - 1s 124us/step - loss: 0.3623 - acc: 0.8554\n",
            "Epoch 5/100\n",
            "8000/8000 [==============================] - 1s 122us/step - loss: 0.3622 - acc: 0.8554\n",
            "Epoch 6/100\n",
            "8000/8000 [==============================] - 1s 120us/step - loss: 0.3603 - acc: 0.8585\n",
            "Epoch 7/100\n",
            "8000/8000 [==============================] - 1s 118us/step - loss: 0.3630 - acc: 0.8554\n",
            "Epoch 8/100\n",
            "8000/8000 [==============================] - 1s 122us/step - loss: 0.3586 - acc: 0.8569\n",
            "Epoch 9/100\n",
            "8000/8000 [==============================] - 1s 126us/step - loss: 0.3605 - acc: 0.8567\n",
            "Epoch 10/100\n",
            "8000/8000 [==============================] - 1s 126us/step - loss: 0.3583 - acc: 0.8590\n",
            "Epoch 11/100\n",
            "8000/8000 [==============================] - 1s 118us/step - loss: 0.3638 - acc: 0.8552\n",
            "Epoch 12/100\n",
            "8000/8000 [==============================] - 1s 119us/step - loss: 0.3612 - acc: 0.8581\n",
            "Epoch 13/100\n",
            "8000/8000 [==============================] - 1s 117us/step - loss: 0.3587 - acc: 0.8574\n",
            "Epoch 14/100\n",
            "8000/8000 [==============================] - 1s 117us/step - loss: 0.3599 - acc: 0.8564\n",
            "Epoch 15/100\n",
            "8000/8000 [==============================] - 1s 119us/step - loss: 0.3583 - acc: 0.8582\n",
            "Epoch 16/100\n",
            "8000/8000 [==============================] - 1s 122us/step - loss: 0.3626 - acc: 0.8574\n",
            "Epoch 17/100\n",
            "8000/8000 [==============================] - 1s 119us/step - loss: 0.3623 - acc: 0.8569\n",
            "Epoch 18/100\n",
            "8000/8000 [==============================] - 1s 123us/step - loss: 0.3623 - acc: 0.8561\n",
            "Epoch 19/100\n",
            "8000/8000 [==============================] - 1s 125us/step - loss: 0.3599 - acc: 0.8577\n",
            "Epoch 20/100\n",
            "8000/8000 [==============================] - 1s 125us/step - loss: 0.3623 - acc: 0.8564\n",
            "Epoch 21/100\n",
            "8000/8000 [==============================] - 1s 119us/step - loss: 0.3573 - acc: 0.8584\n",
            "Epoch 22/100\n",
            "8000/8000 [==============================] - 1s 116us/step - loss: 0.3587 - acc: 0.8566\n",
            "Epoch 23/100\n",
            "8000/8000 [==============================] - 1s 119us/step - loss: 0.3617 - acc: 0.8571\n",
            "Epoch 24/100\n",
            "8000/8000 [==============================] - 1s 127us/step - loss: 0.3591 - acc: 0.8577\n",
            "Epoch 25/100\n",
            "8000/8000 [==============================] - 1s 126us/step - loss: 0.3607 - acc: 0.8542\n",
            "Epoch 26/100\n",
            "8000/8000 [==============================] - 1s 124us/step - loss: 0.3596 - acc: 0.8587\n",
            "Epoch 27/100\n",
            "8000/8000 [==============================] - 1s 119us/step - loss: 0.3628 - acc: 0.8569\n",
            "Epoch 28/100\n",
            "8000/8000 [==============================] - 1s 121us/step - loss: 0.3588 - acc: 0.8586\n",
            "Epoch 29/100\n",
            "8000/8000 [==============================] - 1s 123us/step - loss: 0.3566 - acc: 0.8597\n",
            "Epoch 30/100\n",
            "8000/8000 [==============================] - 1s 123us/step - loss: 0.3549 - acc: 0.8580\n",
            "Epoch 31/100\n",
            "8000/8000 [==============================] - 1s 123us/step - loss: 0.3586 - acc: 0.8592\n",
            "Epoch 32/100\n",
            "8000/8000 [==============================] - 1s 122us/step - loss: 0.3599 - acc: 0.8561\n",
            "Epoch 33/100\n",
            "8000/8000 [==============================] - 1s 117us/step - loss: 0.3600 - acc: 0.8584\n",
            "Epoch 34/100\n",
            "8000/8000 [==============================] - 1s 119us/step - loss: 0.3582 - acc: 0.8594\n",
            "Epoch 35/100\n",
            "8000/8000 [==============================] - 1s 120us/step - loss: 0.3621 - acc: 0.8585\n",
            "Epoch 36/100\n",
            "8000/8000 [==============================] - 1s 118us/step - loss: 0.3576 - acc: 0.8574\n",
            "Epoch 37/100\n",
            "8000/8000 [==============================] - 1s 120us/step - loss: 0.3549 - acc: 0.8589\n",
            "Epoch 38/100\n",
            "8000/8000 [==============================] - 1s 122us/step - loss: 0.3557 - acc: 0.8562\n",
            "Epoch 39/100\n",
            "8000/8000 [==============================] - 1s 124us/step - loss: 0.3603 - acc: 0.8582\n",
            "Epoch 40/100\n",
            "8000/8000 [==============================] - 1s 123us/step - loss: 0.3550 - acc: 0.8591\n",
            "Epoch 41/100\n",
            "8000/8000 [==============================] - 1s 120us/step - loss: 0.3584 - acc: 0.8584\n",
            "Epoch 42/100\n",
            "8000/8000 [==============================] - 1s 126us/step - loss: 0.3574 - acc: 0.8580\n",
            "Epoch 43/100\n",
            "8000/8000 [==============================] - 1s 122us/step - loss: 0.3545 - acc: 0.8582\n",
            "Epoch 44/100\n",
            "8000/8000 [==============================] - 1s 122us/step - loss: 0.3595 - acc: 0.8550\n",
            "Epoch 45/100\n",
            "8000/8000 [==============================] - 1s 128us/step - loss: 0.3567 - acc: 0.8600\n",
            "Epoch 46/100\n",
            "8000/8000 [==============================] - 1s 124us/step - loss: 0.3601 - acc: 0.8540\n",
            "Epoch 47/100\n",
            "8000/8000 [==============================] - 1s 118us/step - loss: 0.3612 - acc: 0.8564\n",
            "Epoch 48/100\n",
            "8000/8000 [==============================] - 1s 122us/step - loss: 0.3604 - acc: 0.8584\n",
            "Epoch 49/100\n",
            "8000/8000 [==============================] - 1s 119us/step - loss: 0.3555 - acc: 0.8576\n",
            "Epoch 50/100\n",
            "8000/8000 [==============================] - 1s 121us/step - loss: 0.3543 - acc: 0.8587\n",
            "Epoch 51/100\n",
            "8000/8000 [==============================] - 1s 123us/step - loss: 0.3529 - acc: 0.8566\n",
            "Epoch 52/100\n",
            "8000/8000 [==============================] - 1s 120us/step - loss: 0.3498 - acc: 0.8592\n",
            "Epoch 53/100\n",
            "8000/8000 [==============================] - 1s 123us/step - loss: 0.3529 - acc: 0.8600\n",
            "Epoch 54/100\n",
            "8000/8000 [==============================] - 1s 127us/step - loss: 0.3533 - acc: 0.8582\n",
            "Epoch 55/100\n",
            "8000/8000 [==============================] - 1s 122us/step - loss: 0.3521 - acc: 0.8612\n",
            "Epoch 56/100\n",
            "8000/8000 [==============================] - 1s 122us/step - loss: 0.3513 - acc: 0.8589\n",
            "Epoch 57/100\n",
            "8000/8000 [==============================] - 1s 121us/step - loss: 0.3507 - acc: 0.8601\n",
            "Epoch 58/100\n",
            "8000/8000 [==============================] - 1s 124us/step - loss: 0.3500 - acc: 0.8616\n",
            "Epoch 59/100\n",
            "8000/8000 [==============================] - 1s 121us/step - loss: 0.3525 - acc: 0.8564\n",
            "Epoch 60/100\n",
            "8000/8000 [==============================] - 1s 120us/step - loss: 0.3504 - acc: 0.8605\n",
            "Epoch 61/100\n",
            "8000/8000 [==============================] - 1s 119us/step - loss: 0.3523 - acc: 0.8609\n",
            "Epoch 62/100\n",
            "8000/8000 [==============================] - 1s 124us/step - loss: 0.3523 - acc: 0.8600\n",
            "Epoch 63/100\n",
            "8000/8000 [==============================] - 1s 125us/step - loss: 0.3522 - acc: 0.8597\n",
            "Epoch 64/100\n",
            "8000/8000 [==============================] - 1s 121us/step - loss: 0.3515 - acc: 0.8614\n",
            "Epoch 65/100\n",
            "8000/8000 [==============================] - 1s 121us/step - loss: 0.3526 - acc: 0.8601\n",
            "Epoch 66/100\n",
            "8000/8000 [==============================] - 1s 124us/step - loss: 0.3479 - acc: 0.8630\n",
            "Epoch 67/100\n",
            "8000/8000 [==============================] - 1s 123us/step - loss: 0.3484 - acc: 0.8610\n",
            "Epoch 68/100\n",
            "8000/8000 [==============================] - 1s 121us/step - loss: 0.3508 - acc: 0.8609\n",
            "Epoch 69/100\n",
            "8000/8000 [==============================] - 1s 122us/step - loss: 0.3486 - acc: 0.8621\n",
            "Epoch 70/100\n",
            "8000/8000 [==============================] - 1s 122us/step - loss: 0.3512 - acc: 0.8606\n",
            "Epoch 71/100\n",
            "8000/8000 [==============================] - 1s 119us/step - loss: 0.3514 - acc: 0.8609\n",
            "Epoch 72/100\n",
            "8000/8000 [==============================] - 1s 122us/step - loss: 0.3511 - acc: 0.8610\n",
            "Epoch 73/100\n",
            "8000/8000 [==============================] - 1s 117us/step - loss: 0.3495 - acc: 0.8594\n",
            "Epoch 74/100\n",
            "8000/8000 [==============================] - 1s 123us/step - loss: 0.3498 - acc: 0.8602\n",
            "Epoch 75/100\n",
            "8000/8000 [==============================] - 1s 116us/step - loss: 0.3477 - acc: 0.8641\n",
            "Epoch 76/100\n",
            "8000/8000 [==============================] - 1s 121us/step - loss: 0.3497 - acc: 0.8599\n",
            "Epoch 77/100\n",
            "8000/8000 [==============================] - 1s 123us/step - loss: 0.3481 - acc: 0.8570\n",
            "Epoch 78/100\n",
            "8000/8000 [==============================] - 1s 119us/step - loss: 0.3542 - acc: 0.8590\n",
            "Epoch 79/100\n",
            "8000/8000 [==============================] - 1s 120us/step - loss: 0.3526 - acc: 0.8615\n",
            "Epoch 80/100\n",
            "8000/8000 [==============================] - 1s 118us/step - loss: 0.3510 - acc: 0.8591\n",
            "Epoch 81/100\n",
            "8000/8000 [==============================] - 1s 121us/step - loss: 0.3479 - acc: 0.8621\n",
            "Epoch 82/100\n",
            "8000/8000 [==============================] - 1s 118us/step - loss: 0.3511 - acc: 0.8596\n",
            "Epoch 83/100\n",
            "8000/8000 [==============================] - 1s 118us/step - loss: 0.3509 - acc: 0.8604\n",
            "Epoch 84/100\n",
            "8000/8000 [==============================] - 1s 122us/step - loss: 0.3490 - acc: 0.8575\n",
            "Epoch 85/100\n",
            "8000/8000 [==============================] - 1s 122us/step - loss: 0.3492 - acc: 0.8611\n",
            "Epoch 86/100\n",
            "8000/8000 [==============================] - 1s 125us/step - loss: 0.3511 - acc: 0.8585\n",
            "Epoch 87/100\n",
            "8000/8000 [==============================] - 1s 124us/step - loss: 0.3459 - acc: 0.8616\n",
            "Epoch 88/100\n",
            "8000/8000 [==============================] - 1s 119us/step - loss: 0.3494 - acc: 0.8571\n",
            "Epoch 89/100\n",
            "8000/8000 [==============================] - 1s 121us/step - loss: 0.3491 - acc: 0.8597\n",
            "Epoch 90/100\n",
            "8000/8000 [==============================] - 1s 123us/step - loss: 0.3500 - acc: 0.8586\n",
            "Epoch 91/100\n",
            "8000/8000 [==============================] - 1s 122us/step - loss: 0.3499 - acc: 0.8634\n",
            "Epoch 92/100\n",
            "8000/8000 [==============================] - 1s 121us/step - loss: 0.3528 - acc: 0.8575\n",
            "Epoch 93/100\n",
            "8000/8000 [==============================] - 1s 123us/step - loss: 0.3482 - acc: 0.8595\n",
            "Epoch 94/100\n",
            "8000/8000 [==============================] - 1s 120us/step - loss: 0.3498 - acc: 0.8601\n",
            "Epoch 95/100\n",
            "8000/8000 [==============================] - 1s 120us/step - loss: 0.3465 - acc: 0.8610\n",
            "Epoch 96/100\n",
            "8000/8000 [==============================] - 1s 121us/step - loss: 0.3497 - acc: 0.8576\n",
            "Epoch 97/100\n",
            "8000/8000 [==============================] - 1s 121us/step - loss: 0.3480 - acc: 0.8607\n",
            "Epoch 98/100\n",
            "8000/8000 [==============================] - 1s 119us/step - loss: 0.3507 - acc: 0.8619\n",
            "Epoch 99/100\n",
            "8000/8000 [==============================] - 1s 119us/step - loss: 0.3514 - acc: 0.8582\n",
            "Epoch 100/100\n",
            "8000/8000 [==============================] - 1s 117us/step - loss: 0.3476 - acc: 0.8586\n"
          ],
          "name": "stdout"
        },
        {
          "output_type": "execute_result",
          "data": {
            "text/plain": [
              "<keras.callbacks.History at 0x7ff66bd2f4e0>"
            ]
          },
          "metadata": {
            "tags": []
          },
          "execution_count": 70
        }
      ]
    },
    {
      "cell_type": "code",
      "metadata": {
        "id": "gMmvnBKlNwUP",
        "colab_type": "code",
        "colab": {}
      },
      "source": [
        "y_pred = classifier.predict(X_test)"
      ],
      "execution_count": 0,
      "outputs": []
    },
    {
      "cell_type": "code",
      "metadata": {
        "id": "SQZCL9RNQycW",
        "colab_type": "code",
        "colab": {}
      },
      "source": [
        "y_pred = (y_pred > 0.5)"
      ],
      "execution_count": 0,
      "outputs": []
    },
    {
      "cell_type": "code",
      "metadata": {
        "id": "L3RAwls1Q3Wf",
        "colab_type": "code",
        "colab": {
          "base_uri": "https://localhost:8080/",
          "height": 50
        },
        "outputId": "1edd3a5f-2521-4449-e3f9-e14c18ed4c53"
      },
      "source": [
        "from sklearn.metrics import confusion_matrix\n",
        "cm = confusion_matrix(y_test, y_pred)\n",
        "print(cm)"
      ],
      "execution_count": 73,
      "outputs": [
        {
          "output_type": "stream",
          "text": [
            "[[1508   81]\n",
            " [ 201  210]]\n"
          ],
          "name": "stdout"
        }
      ]
    },
    {
      "cell_type": "code",
      "metadata": {
        "id": "Vlo9kDpMQ-h8",
        "colab_type": "code",
        "colab": {
          "base_uri": "https://localhost:8080/",
          "height": 34
        },
        "outputId": "eed98804-cc24-4b86-d8e3-9952d5cd9ff4"
      },
      "source": [
        "#accuracy\n",
        "print ((1508 + 210)/2000)"
      ],
      "execution_count": 74,
      "outputs": [
        {
          "output_type": "stream",
          "text": [
            "0.859\n"
          ],
          "name": "stdout"
        }
      ]
    },
    {
      "cell_type": "code",
      "metadata": {
        "id": "vVoOAbQBRVmX",
        "colab_type": "code",
        "colab": {}
      },
      "source": [
        ""
      ],
      "execution_count": 0,
      "outputs": []
    }
  ]
}